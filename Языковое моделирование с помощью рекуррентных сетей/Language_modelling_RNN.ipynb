{
 "cells": [
  {
   "cell_type": "markdown",
   "metadata": {
    "id": "d0ADTojbpfLt"
   },
   "source": [
    "<p style=\"align: center;\"><img src=\"https://static.tildacdn.com/tild6636-3531-4239-b465-376364646465/Deep_Learning_School.png\" width=\"400\"></p>\n",
    "\n",
    "# Домашнее задание. Обучение языковой модели с помощью LSTM (10 баллов)"
   ]
  },
  {
   "cell_type": "markdown",
   "metadata": {
    "id": "ldHSmYY6p_mZ"
   },
   "source": [
    "\n",
    "В этом задании Вам предстоит обучить языковую модель с помощью рекуррентной нейронной сети. В отличие от семинарского занятия, Вам необходимо будет работать с отдельными словами, а не буквами.\n",
    "\n",
    "\n",
    "Установим модуль ```datasets```, чтобы нам проще было работать с данными."
   ]
  },
  {
   "cell_type": "code",
   "execution_count": 1,
   "metadata": {
    "colab": {
     "base_uri": "https://localhost:8080/"
    },
    "execution": {
     "iopub.execute_input": "2024-10-21T09:01:13.380275Z",
     "iopub.status.busy": "2024-10-21T09:01:13.379647Z",
     "iopub.status.idle": "2024-10-21T09:01:26.287367Z",
     "shell.execute_reply": "2024-10-21T09:01:26.286064Z",
     "shell.execute_reply.started": "2024-10-21T09:01:13.380235Z"
    },
    "id": "3yvNdv6cp_0P",
    "outputId": "3a9869ce-7353-453d-861a-25f405c1e41f"
   },
   "outputs": [
    {
     "name": "stdout",
     "output_type": "stream",
     "text": [
      "\u001b[?25l   \u001b[90m━━━━━━━━━━━━━━━━━━━━━━━━━━━━━━━━━━━━━━━━\u001b[0m \u001b[32m0.0/487.4 kB\u001b[0m \u001b[31m?\u001b[0m eta \u001b[36m-:--:--\u001b[0m\r",
      "\u001b[2K   \u001b[91m━━━━━━━━━━━━━━━━━━━━━━━━━━━━━━━━━━━━━━━\u001b[0m\u001b[90m╺\u001b[0m \u001b[32m481.3/487.4 kB\u001b[0m \u001b[31m23.4 MB/s\u001b[0m eta \u001b[36m0:00:01\u001b[0m\r",
      "\u001b[2K   \u001b[90m━━━━━━━━━━━━━━━━━━━━━━━━━━━━━━━━━━━━━━━━\u001b[0m \u001b[32m487.4/487.4 kB\u001b[0m \u001b[31m11.2 MB/s\u001b[0m eta \u001b[36m0:00:00\u001b[0m\n",
      "\u001b[?25h\u001b[?25l   \u001b[90m━━━━━━━━━━━━━━━━━━━━━━━━━━━━━━━━━━━━━━━━\u001b[0m \u001b[32m0.0/116.3 kB\u001b[0m \u001b[31m?\u001b[0m eta \u001b[36m-:--:--\u001b[0m\r",
      "\u001b[2K   \u001b[90m━━━━━━━━━━━━━━━━━━━━━━━━━━━━━━━━━━━━━━━━\u001b[0m \u001b[32m116.3/116.3 kB\u001b[0m \u001b[31m6.7 MB/s\u001b[0m eta \u001b[36m0:00:00\u001b[0m\n",
      "\u001b[?25h\u001b[?25l   \u001b[90m━━━━━━━━━━━━━━━━━━━━━━━━━━━━━━━━━━━━━━━━\u001b[0m \u001b[32m0.0/143.5 kB\u001b[0m \u001b[31m?\u001b[0m eta \u001b[36m-:--:--\u001b[0m\r",
      "\u001b[2K   \u001b[90m━━━━━━━━━━━━━━━━━━━━━━━━━━━━━━━━━━━━━━━━\u001b[0m \u001b[32m143.5/143.5 kB\u001b[0m \u001b[31m7.0 MB/s\u001b[0m eta \u001b[36m0:00:00\u001b[0m\n",
      "\u001b[?25h\u001b[?25l   \u001b[90m━━━━━━━━━━━━━━━━━━━━━━━━━━━━━━━━━━━━━━━━\u001b[0m \u001b[32m0.0/194.8 kB\u001b[0m \u001b[31m?\u001b[0m eta \u001b[36m-:--:--\u001b[0m\r",
      "\u001b[2K   \u001b[90m━━━━━━━━━━━━━━━━━━━━━━━━━━━━━━━━━━━━━━━━\u001b[0m \u001b[32m194.8/194.8 kB\u001b[0m \u001b[31m14.6 MB/s\u001b[0m eta \u001b[36m0:00:00\u001b[0m\n",
      "\u001b[?25h"
     ]
    }
   ],
   "source": [
    "!pip install datasets -q"
   ]
  },
  {
   "cell_type": "markdown",
   "metadata": {
    "id": "rh9ZXSeCpng9"
   },
   "source": [
    "Импорт необходимых библиотек"
   ]
  },
  {
   "cell_type": "code",
   "execution_count": 2,
   "metadata": {
    "execution": {
     "iopub.execute_input": "2024-10-21T09:01:26.290537Z",
     "iopub.status.busy": "2024-10-21T09:01:26.290077Z",
     "iopub.status.idle": "2024-10-21T09:01:32.059881Z",
     "shell.execute_reply": "2024-10-21T09:01:32.059004Z",
     "shell.execute_reply.started": "2024-10-21T09:01:26.290489Z"
    },
    "id": "XOJi16bLpd_O"
   },
   "outputs": [],
   "source": [
    "import torch\n",
    "import torch.nn as nn\n",
    "from torch.utils.data import Dataset, DataLoader\n",
    "\n",
    "import numpy as np\n",
    "import matplotlib.pyplot as plt\n",
    "\n",
    "from tqdm.auto import tqdm\n",
    "import datasets\n",
    "from datasets import load_dataset\n",
    "from nltk.tokenize import sent_tokenize, word_tokenize\n",
    "from sklearn.model_selection import train_test_split\n",
    "import nltk\n",
    "\n",
    "from collections import Counter\n",
    "from typing import List, Tuple\n",
    "import string\n",
    "import random\n",
    "import os\n",
    "\n",
    "import seaborn\n",
    "seaborn.set(palette='summer')"
   ]
  },
  {
   "cell_type": "code",
   "execution_count": 3,
   "metadata": {
    "colab": {
     "base_uri": "https://localhost:8080/"
    },
    "execution": {
     "iopub.execute_input": "2024-10-21T09:01:32.061993Z",
     "iopub.status.busy": "2024-10-21T09:01:32.061430Z",
     "iopub.status.idle": "2024-10-21T09:01:32.216612Z",
     "shell.execute_reply": "2024-10-21T09:01:32.215561Z",
     "shell.execute_reply.started": "2024-10-21T09:01:32.061945Z"
    },
    "id": "91JuM0SQvXud",
    "outputId": "caa521f6-7013-43e1-d4f7-5c956c8271ba"
   },
   "outputs": [
    {
     "name": "stderr",
     "output_type": "stream",
     "text": [
      "[nltk_data] Downloading package punkt to /root/nltk_data...\n",
      "[nltk_data]   Unzipping tokenizers/punkt.zip.\n"
     ]
    },
    {
     "data": {
      "text/plain": [
       "True"
      ]
     },
     "execution_count": 3,
     "metadata": {},
     "output_type": "execute_result"
    }
   ],
   "source": [
    "nltk.download('punkt')"
   ]
  },
  {
   "cell_type": "code",
   "execution_count": 4,
   "metadata": {
    "colab": {
     "base_uri": "https://localhost:8080/",
     "height": 36
    },
    "execution": {
     "iopub.execute_input": "2024-10-21T09:01:32.220262Z",
     "iopub.status.busy": "2024-10-21T09:01:32.219863Z",
     "iopub.status.idle": "2024-10-21T09:01:32.284527Z",
     "shell.execute_reply": "2024-10-21T09:01:32.283528Z",
     "shell.execute_reply.started": "2024-10-21T09:01:32.220223Z"
    },
    "id": "adJC8ShFq9HM",
    "outputId": "c698d13c-5181-4c2a-9bec-c0060e2b1b80"
   },
   "outputs": [
    {
     "data": {
      "application/vnd.google.colaboratory.intrinsic+json": {
       "type": "string"
      },
      "text/plain": [
       "'cuda'"
      ]
     },
     "execution_count": 4,
     "metadata": {},
     "output_type": "execute_result"
    }
   ],
   "source": [
    "device = 'cuda' if torch.cuda.is_available() else 'cpu'\n",
    "device"
   ]
  },
  {
   "cell_type": "code",
   "execution_count": 5,
   "metadata": {
    "execution": {
     "iopub.execute_input": "2024-10-21T09:01:32.286799Z",
     "iopub.status.busy": "2024-10-21T09:01:32.286337Z",
     "iopub.status.idle": "2024-10-21T09:01:32.293677Z",
     "shell.execute_reply": "2024-10-21T09:01:32.292834Z",
     "shell.execute_reply.started": "2024-10-21T09:01:32.286719Z"
    },
    "id": "5iHEi6EbvY6_"
   },
   "outputs": [],
   "source": [
    "def fixedseed (seed: int=42):\n",
    "  random.seed(seed)\n",
    "  os.environ['PYTHONHASHSEED'] = str(seed)\n",
    "  np.random.seed(seed)\n",
    "  torch.manual_seed(seed)\n",
    "  torch.backends.cudnn.benchmark = False\n",
    "  torch.backends.cudnn.deterministic = True"
   ]
  },
  {
   "cell_type": "code",
   "execution_count": 6,
   "metadata": {
    "id": "DvbtKXT2rZB6"
   },
   "outputs": [],
   "source": [
    "fixedseed()"
   ]
  },
  {
   "cell_type": "markdown",
   "metadata": {
    "id": "pwsfS1ENq5ig"
   },
   "source": [
    "## Подготовка данных\n",
    "\n",
    "Воспользуемся датасетом imdb. В нем хранятся отзывы о фильмах с сайта imdb. Загрузим данные с помощью функции ```load_dataset```"
   ]
  },
  {
   "cell_type": "code",
   "execution_count": null,
   "metadata": {
    "colab": {
     "base_uri": "https://localhost:8080/",
     "height": 345,
     "referenced_widgets": [
      "c71dfe4d6f8f4cc1b31a13cd9d2761ef",
      "187d549c10354b2abc8e729b8fb88e40",
      "5dff79666eb9404f86ed727423e74d5e",
      "3fcc34f8952c4443bafbb4a7ff17eb7d",
      "45721a15d916480daaf6e7d83246e408",
      "82dc1bce9aa04995abaa8a0b5e931e50",
      "9a3c33883b0f4caeb5bb5970e0f3fbc6",
      "79ee4146f98e46109add0dfa012c339b",
      "20dad0b2aa5944389078bf3dba6103e9",
      "25a45e3d68d84e508fec51e9f4bd45b6",
      "b90c4c8715604c5eaf40fee8ee4a3e9f",
      "cb390c64f1304c159f207e062335af0b",
      "b9b77c69dfde4b85bed06216e5947a67",
      "e1779b0956dc44468806a247c366ff93",
      "06ab70ab75574a3c9ac434da319b009a",
      "34c067644f0349daabea05698650ad71",
      "51b1036ebc6649ae84b6fe85e9152273",
      "ba25860ab9244df6a0f87ad308e581c3",
      "426fed1bb514433e9e65dfb1c715810d",
      "c0a82cdb6cfb46d3acb0315969ee1dc4",
      "7923cdc471fb44158fdbcead8f6273ef",
      "8ac1f1c359ff4946b94315bd0c7f410d",
      "e44c37eb266d4d94930bde1f47495390",
      "2a8f548fdd674c57b66c3d2f5fd47c47",
      "074420e193c44dc7af0d50bd94f80099",
      "f38206754ebf4953817148bac9696ebe",
      "4b38f19e60dd4da282fd24af5e14f798",
      "19efb34b5aac4d8f99e6db13ddaa9dfc",
      "bd67ce0eb433450b9dcc403607279008",
      "9297b4e4036544378c32962912132f5b",
      "1021fa7ff0dc4209ba72b4f5d89e6979",
      "e3ac9462ffb4408f835c889226030b65",
      "e9df019f786f417da210f17860c5c54c",
      "1fa89d2cba35408c9842fcfc6fd0aa89",
      "7a5fc876d61a4cbea75b94508893cffe",
      "70f5820554444a3cbb8bad63f6c9d1a8",
      "7b0712aff98b4d29a70294cd41ff1c68",
      "85ca3be84c6a41e186aa73799dfa9a3d",
      "548b45e1e2de419c8c697166d472e5b0",
      "6657d66d8b6740cebd69e2f49c00304b",
      "7672d85411e949e2b6bbf99b052a331a",
      "b23f1b6077a84c41b97792b833084ff0",
      "3e8b7872d7604c97a45a0fddd500084b",
      "b1882411c241407c8a25fa73c99d2024",
      "2b78feb13acb4c27a12d9eeb0899488a",
      "0af1f95cb8c7415da548f35ce2d26a87",
      "39c22b4523704c92972032d4d87b33cf",
      "bdc63baf6b51481ab95b77f80527e32c",
      "fa939e352c8543a68047202293105a0e",
      "2db73f2805d34c5f984aa57ed778b9a7",
      "bf35170a909a44f1be7c07d73a610310",
      "a6ef7919c2bc45678225b353268ccb67",
      "364b6f6260b24fb480a358b97a4a59c3",
      "c6a3097528e441318c79324c7e58eee9",
      "1ad8d0cf2e9741c3a42429597b49657b",
      "867a3a60875e4254b32f563d32dfe750",
      "b8018bcfbb764b73a9b9bc337a4b0790",
      "a1ed8171b5f94559932898b53915d01c",
      "0e63b65cc5fd435aa97b32652d872d9f",
      "901b3f4b7da8470e90beb455bc306048",
      "d1b51e1fe67142d8a1db0a351d540ca2",
      "a6a95f6ecc05451b9ce1f49896f8a2e6",
      "1809807be418403ca10d53207b5b1ec8",
      "d253305571f648d3b235e05023f6eb4d",
      "0b32820565274936bfca114e7473f8d5",
      "5e162e39e7c14c59a0e4dc1d144d392a",
      "734c0872fd1c431c992927ebe7286786",
      "92fa909e399d4226978f9ce6b3e4dad7",
      "7822795f10f24c46b035b7604ae54cfd",
      "1a0f87df7cbc44839a40077b5be962a4",
      "944306520c7442ea972ca10a153a9c93",
      "6628e2b30d4a4532a375e582ad569d2a",
      "c5d68e30b9074f349feebb7b11306fa5",
      "075f78aba8a44a25848ee9cb2dd344c1",
      "7415f398407b443e8acd30adbd0622b9",
      "6934c5203728446fb7191bc46eb3e95f",
      "193d4e0c4d9d42208f0f4fce3eac401f",
      "518a88428d3844be9c97fab3fcfbde50",
      "e785c716305a4d91a6d46eda3e240441",
      "80ca6077ee444fba991384cde41009c1",
      "2ea2b749186f4c0f9e714a5ea704ba42",
      "05c937cfec8e483693d70618624348f5",
      "01765d41110c4e56a5ef9aa4b91e588a",
      "c3a1617514074114a81168103c28568e"
     ]
    },
    "execution": {
     "iopub.execute_input": "2024-10-21T09:01:32.295373Z",
     "iopub.status.busy": "2024-10-21T09:01:32.295063Z",
     "iopub.status.idle": "2024-10-21T09:01:37.477001Z",
     "shell.execute_reply": "2024-10-21T09:01:37.476121Z",
     "shell.execute_reply.started": "2024-10-21T09:01:32.295336Z"
    },
    "id": "qHLNWOfJqSfc",
    "outputId": "e6885018-9a91-4e9c-fdd1-232b333b181a"
   },
   "outputs": [
    {
     "data": {
      "application/vnd.jupyter.widget-view+json": {
       "model_id": "518a88428d3844be9c97fab3fcfbde50",
       "version_major": 2,
       "version_minor": 0
      },
      "text/plain": [
       "README.md:   0%|          | 0.00/7.81k [00:00<?, ?B/s]"
      ]
     },
     "metadata": {},
     "output_type": "display_data"
    },
    {
     "data": {
      "application/vnd.jupyter.widget-view+json": {
       "model_id": "e785c716305a4d91a6d46eda3e240441",
       "version_major": 2,
       "version_minor": 0
      },
      "text/plain": [
       "train-00000-of-00001.parquet:   0%|          | 0.00/21.0M [00:00<?, ?B/s]"
      ]
     },
     "metadata": {},
     "output_type": "display_data"
    },
    {
     "data": {
      "application/vnd.jupyter.widget-view+json": {
       "model_id": "80ca6077ee444fba991384cde41009c1",
       "version_major": 2,
       "version_minor": 0
      },
      "text/plain": [
       "test-00000-of-00001.parquet:   0%|          | 0.00/20.5M [00:00<?, ?B/s]"
      ]
     },
     "metadata": {},
     "output_type": "display_data"
    },
    {
     "data": {
      "application/vnd.jupyter.widget-view+json": {
       "model_id": "2ea2b749186f4c0f9e714a5ea704ba42",
       "version_major": 2,
       "version_minor": 0
      },
      "text/plain": [
       "unsupervised-00000-of-00001.parquet:   0%|          | 0.00/42.0M [00:00<?, ?B/s]"
      ]
     },
     "metadata": {},
     "output_type": "display_data"
    },
    {
     "data": {
      "application/vnd.jupyter.widget-view+json": {
       "model_id": "05c937cfec8e483693d70618624348f5",
       "version_major": 2,
       "version_minor": 0
      },
      "text/plain": [
       "Generating train split:   0%|          | 0/25000 [00:00<?, ? examples/s]"
      ]
     },
     "metadata": {},
     "output_type": "display_data"
    },
    {
     "data": {
      "application/vnd.jupyter.widget-view+json": {
       "model_id": "01765d41110c4e56a5ef9aa4b91e588a",
       "version_major": 2,
       "version_minor": 0
      },
      "text/plain": [
       "Generating test split:   0%|          | 0/25000 [00:00<?, ? examples/s]"
      ]
     },
     "metadata": {},
     "output_type": "display_data"
    },
    {
     "data": {
      "application/vnd.jupyter.widget-view+json": {
       "model_id": "c3a1617514074114a81168103c28568e",
       "version_major": 2,
       "version_minor": 0
      },
      "text/plain": [
       "Generating unsupervised split:   0%|          | 0/50000 [00:00<?, ? examples/s]"
      ]
     },
     "metadata": {},
     "output_type": "display_data"
    }
   ],
   "source": [
    "# Загрузим датасет\n",
    "dataset = load_dataset('imdb')"
   ]
  },
  {
   "cell_type": "code",
   "execution_count": null,
   "metadata": {
    "colab": {
     "base_uri": "https://localhost:8080/"
    },
    "execution": {
     "iopub.execute_input": "2024-10-21T09:01:37.478888Z",
     "iopub.status.busy": "2024-10-21T09:01:37.478377Z",
     "iopub.status.idle": "2024-10-21T09:01:37.485312Z",
     "shell.execute_reply": "2024-10-21T09:01:37.484388Z",
     "shell.execute_reply.started": "2024-10-21T09:01:37.478822Z"
    },
    "id": "hcV0HptJM0No",
    "outputId": "9157c300-da9c-4b9a-fa62-cfcd25e85ede"
   },
   "outputs": [
    {
     "data": {
      "text/plain": [
       "DatasetDict({\n",
       "    train: Dataset({\n",
       "        features: ['text', 'label'],\n",
       "        num_rows: 25000\n",
       "    })\n",
       "    test: Dataset({\n",
       "        features: ['text', 'label'],\n",
       "        num_rows: 25000\n",
       "    })\n",
       "    unsupervised: Dataset({\n",
       "        features: ['text', 'label'],\n",
       "        num_rows: 50000\n",
       "    })\n",
       "})"
      ]
     },
     "execution_count": 8,
     "metadata": {},
     "output_type": "execute_result"
    }
   ],
   "source": [
    "dataset"
   ]
  },
  {
   "cell_type": "markdown",
   "metadata": {
    "id": "24gn7CuZ9agP"
   },
   "source": [
    "### Препроцессинг данных и создание словаря (1 балл)\n",
    "\n",
    "Далее вам необходмо самостоятельно произвести препроцессинг данных и получить словарь или же просто ```set``` строк. Что необходимо сделать:\n",
    "\n",
    "1. Разделить отдельные тренировочные примеры на отдельные предложения с помощью функции ```sent_tokenize``` из бибилиотеки ```nltk```. Каждое отдельное предложение будет одним тренировочным примером.\n",
    "2. Оставить только те предложения, в которых меньше ```word_threshold``` слов.\n",
    "3. Посчитать частоту вхождения каждого слова в оставшихся предложениях. Для деления предлоения на отдельные слова удобно использовать функцию ```word_tokenize```.\n",
    "4. Создать объект ```vocab``` класса ```set```, положить в него служебные токены '\\<unk\\>', '\\<bos\\>', '\\<eos\\>', '\\<pad\\>' и vocab_size самых частовстречающихся слов.   "
   ]
  },
  {
   "cell_type": "code",
   "execution_count": null,
   "metadata": {
    "colab": {
     "base_uri": "https://localhost:8080/",
     "height": 88
    },
    "execution": {
     "iopub.execute_input": "2024-10-21T09:01:37.487312Z",
     "iopub.status.busy": "2024-10-21T09:01:37.486431Z",
     "iopub.status.idle": "2024-10-21T09:01:37.611185Z",
     "shell.execute_reply": "2024-10-21T09:01:37.610153Z",
     "shell.execute_reply.started": "2024-10-21T09:01:37.487267Z"
    },
    "id": "2Ie6JQiVNBNH",
    "outputId": "19919070-f83a-4c2b-bb9f-584e722871ac"
   },
   "outputs": [
    {
     "data": {
      "text/plain": [
       "'I caught this movie on the Sci-Fi channel recently. It actually turned out to be pretty decent as far as B-list horror/suspense films go. Two guys (one naive and one loud mouthed a**) take a road trip to stop a wedding but have the worst possible luck when a maniac in a freaky, make-shift tank/truck hybrid decides to play cat-and-mouse with them. Things are further complicated when they pick up a ridiculously whorish hitchhiker. What makes this film unique is that the combination of comedy and terror actually work in this movie, unlike so many others. The two guys are likable enough and there are some good chase/suspense scenes. Nice pacing and comic timing make this movie more than passable for the horror/slasher buff. Definitely worth checking out.'"
      ]
     },
     "execution_count": 9,
     "metadata": {},
     "output_type": "execute_result"
    }
   ],
   "source": [
    "dataset['test']['text'][-1]"
   ]
  },
  {
   "cell_type": "code",
   "execution_count": null,
   "metadata": {
    "colab": {
     "base_uri": "https://localhost:8080/",
     "height": 68,
     "referenced_widgets": [
      "92dba965b6264c2b811bacca85d40a5e",
      "628c2a6ea7aa4d258391d460c3f3355a",
      "1e38f25d405843a9869e28e3fd5c0e16",
      "158a3518028d4bafbb70e05e53a63d61",
      "a7f1b6c98fe14d40805a951f7e7763f8",
      "69cbf111dca14accba75801068421f4e",
      "56e3ce706f09435e8e8e20ab0607b618",
      "f626c3fbdc6c427a949707d40055360c",
      "f08435dcc47f492881dc7a999ed45d18",
      "0079526214434c4e8c0f5c34b010fb3b",
      "cb0c70c525e746b0afd544b791bcdec7",
      "36a3e3df2ba34a5ba76001f85f745aac"
     ]
    },
    "execution": {
     "iopub.execute_input": "2024-10-21T09:01:37.612854Z",
     "iopub.status.busy": "2024-10-21T09:01:37.612486Z",
     "iopub.status.idle": "2024-10-21T09:07:28.342488Z",
     "shell.execute_reply": "2024-10-21T09:07:28.341506Z",
     "shell.execute_reply.started": "2024-10-21T09:01:37.612803Z"
    },
    "id": "ioiyS5jWx4kE",
    "outputId": "bd0c2b10-2b79-4373-ef75-2aaafd4201f3"
   },
   "outputs": [
    {
     "data": {
      "application/vnd.jupyter.widget-view+json": {
       "model_id": "36a3e3df2ba34a5ba76001f85f745aac",
       "version_major": 2,
       "version_minor": 0
      },
      "text/plain": [
       "  0%|          | 0/100000 [00:00<?, ?it/s]"
      ]
     },
     "metadata": {},
     "output_type": "display_data"
    },
    {
     "data": {
      "text/plain": [
       "\"this end of the 80's piece is as dark as it got back then.\""
      ]
     },
     "execution_count": 10,
     "metadata": {},
     "output_type": "execute_result"
    }
   ],
   "source": [
    "sentences = []\n",
    "word_threshold = 32\n",
    "# Получить отдельные предложения и поместить их в sentences\n",
    "for txt in tqdm(dataset['train']['text']+dataset['test']['text']+dataset['unsupervised']['text']): # используем 100 000 текстов для создания нашей выборки\n",
    "    sentences.extend(\n",
    "        [sentence.lower() for sentence in sent_tokenize(txt) if len(word_tokenize(sentence)) < word_threshold]\n",
    "        )\n",
    "sentences[-1]"
   ]
  },
  {
   "cell_type": "code",
   "execution_count": null,
   "metadata": {
    "colab": {
     "base_uri": "https://localhost:8080/"
    },
    "execution": {
     "iopub.execute_input": "2024-10-21T09:07:28.346602Z",
     "iopub.status.busy": "2024-10-21T09:07:28.346286Z",
     "iopub.status.idle": "2024-10-21T09:07:28.352071Z",
     "shell.execute_reply": "2024-10-21T09:07:28.350915Z",
     "shell.execute_reply.started": "2024-10-21T09:07:28.346563Z"
    },
    "id": "bxeBxP3J1Rj3",
    "outputId": "20a0f7cf-caf6-43f1-ad80-21850b2e828d"
   },
   "outputs": [
    {
     "name": "stdout",
     "output_type": "stream",
     "text": [
      "Всего предложений: 786666\n"
     ]
    }
   ],
   "source": [
    "print(\"Всего предложений:\", len(sentences))"
   ]
  },
  {
   "cell_type": "markdown",
   "metadata": {
    "id": "XFVg5CVt4wMS"
   },
   "source": [
    "Из 100 000 текстов получили ок 787 000 отдельных предложений"
   ]
  },
  {
   "cell_type": "code",
   "execution_count": null,
   "metadata": {
    "colab": {
     "base_uri": "https://localhost:8080/"
    },
    "execution": {
     "iopub.execute_input": "2024-10-21T09:07:28.354321Z",
     "iopub.status.busy": "2024-10-21T09:07:28.353334Z",
     "iopub.status.idle": "2024-10-21T09:07:28.578058Z",
     "shell.execute_reply": "2024-10-21T09:07:28.576939Z",
     "shell.execute_reply.started": "2024-10-21T09:07:28.354271Z"
    },
    "id": "7DnlvFLC46AL",
    "outputId": "f960e849-a401-4a0f-fdd1-b3b60a62ae39"
   },
   "outputs": [
    {
     "name": "stdout",
     "output_type": "stream",
     "text": [
      "Количество полных дубликатов: 40866\n"
     ]
    }
   ],
   "source": [
    "print(\"Количество полных дубликатов:\", len(sentences) - len(set(sentences)))"
   ]
  },
  {
   "cell_type": "markdown",
   "metadata": {
    "id": "snB7W7CR5ZC1"
   },
   "source": [
    "Избавимся от дубликатов"
   ]
  },
  {
   "cell_type": "code",
   "execution_count": null,
   "metadata": {
    "colab": {
     "base_uri": "https://localhost:8080/",
     "height": 36
    },
    "execution": {
     "iopub.execute_input": "2024-10-21T09:07:28.580008Z",
     "iopub.status.busy": "2024-10-21T09:07:28.579651Z",
     "iopub.status.idle": "2024-10-21T09:07:28.794948Z",
     "shell.execute_reply": "2024-10-21T09:07:28.793949Z",
     "shell.execute_reply.started": "2024-10-21T09:07:28.579972Z"
    },
    "id": "NemzJR4q5SLN",
    "outputId": "a0e2a83f-765b-421d-a4b7-c7d1d7debf09"
   },
   "outputs": [
    {
     "data": {
      "text/plain": [
       "'i thought this might be one of those films that would be \"good for me\" to see.'"
      ]
     },
     "execution_count": 13,
     "metadata": {},
     "output_type": "execute_result"
    }
   ],
   "source": [
    "sentences = list(set(sentences))\n",
    "sentences[-1]"
   ]
  },
  {
   "cell_type": "code",
   "execution_count": null,
   "metadata": {
    "colab": {
     "base_uri": "https://localhost:8080/"
    },
    "execution": {
     "iopub.execute_input": "2024-10-21T09:07:28.796543Z",
     "iopub.status.busy": "2024-10-21T09:07:28.796214Z",
     "iopub.status.idle": "2024-10-21T09:07:28.803191Z",
     "shell.execute_reply": "2024-10-21T09:07:28.802350Z",
     "shell.execute_reply.started": "2024-10-21T09:07:28.796510Z"
    },
    "id": "Ks_e9taG7wc_",
    "outputId": "123b2da9-67e7-4e01-f862-b801b0b4d9ab"
   },
   "outputs": [
    {
     "data": {
      "text/plain": [
       "[\"by the end of the movie we've learned peter is dogged and desperate, but slowly figuring things out.\",\n",
       " \"according to 'jake speed' they are based on real people, living out the adventures they write about and publish.\",\n",
       " \"there are some funny situations; but if you've seen the trailers you have seen the substance of the film.\",\n",
       " 'predictable, but lots of fun!',\n",
       " \"that weird aspect makes it into one of the least predictable and funny shows i've watched in a while.\",\n",
       " \"it's the original soundtrack, filmed on location, so don't expect to hear a word the cast says.\"]"
      ]
     },
     "execution_count": 14,
     "metadata": {},
     "output_type": "execute_result"
    }
   ],
   "source": [
    "sentences[0:6]"
   ]
  },
  {
   "cell_type": "code",
   "execution_count": null,
   "metadata": {
    "colab": {
     "base_uri": "https://localhost:8080/"
    },
    "execution": {
     "iopub.execute_input": "2024-10-21T09:07:28.804920Z",
     "iopub.status.busy": "2024-10-21T09:07:28.804323Z",
     "iopub.status.idle": "2024-10-21T09:07:28.812138Z",
     "shell.execute_reply": "2024-10-21T09:07:28.811149Z",
     "shell.execute_reply.started": "2024-10-21T09:07:28.804874Z"
    },
    "id": "WnwEIxHw6RDp",
    "outputId": "2d3d71ca-4814-442a-b133-4d398fa44881"
   },
   "outputs": [
    {
     "name": "stdout",
     "output_type": "stream",
     "text": [
      "Количество предложений без дубликатов: 745800\n"
     ]
    }
   ],
   "source": [
    "print(\"Количество предложений без дубликатов:\", len(sentences))"
   ]
  },
  {
   "cell_type": "markdown",
   "metadata": {
    "id": "iT82XkT6ULA_"
   },
   "source": [
    "Посчитаем для каждого слова его встречаемость."
   ]
  },
  {
   "cell_type": "code",
   "execution_count": null,
   "metadata": {
    "colab": {
     "base_uri": "https://localhost:8080/",
     "height": 743,
     "referenced_widgets": [
      "40fbd66513bb4316bbefae1b26184182",
      "951d742e028c4441bf8ecf786151e600",
      "2097a7d146b04beda30b169477aa4fe4",
      "ecc366ab740e41e094a98bce24f89cd2",
      "eddd0748d7df4b338a460fadc6a3f842",
      "52b89955d2674b98a562e2060c67713f",
      "f398bca524e74649a308d5d1850a9490",
      "ee1f92ce655a41a4a3262f0ed0f4d4b0",
      "6bdb3e433867447f949c1bda7fcbcb4c",
      "87178867445a40808fe4344692dff213",
      "17e283331fc74a32a78e049116faaf89",
      "07580fcf6e5849dcb197cc489ce21749"
     ]
    },
    "execution": {
     "iopub.execute_input": "2024-10-21T09:07:28.814161Z",
     "iopub.status.busy": "2024-10-21T09:07:28.813329Z",
     "iopub.status.idle": "2024-10-21T09:10:09.118576Z",
     "shell.execute_reply": "2024-10-21T09:10:09.117631Z",
     "shell.execute_reply.started": "2024-10-21T09:07:28.814117Z"
    },
    "id": "U0TTXxbi6hcP",
    "outputId": "369a6da7-5f06-44f5-cdcb-8946a78d61ac"
   },
   "outputs": [
    {
     "data": {
      "application/vnd.jupyter.widget-view+json": {
       "model_id": "07580fcf6e5849dcb197cc489ce21749",
       "version_major": 2,
       "version_minor": 0
      },
      "text/plain": [
       "  0%|          | 0/745800 [00:00<?, ?it/s]"
      ]
     },
     "metadata": {},
     "output_type": "display_data"
    },
    {
     "data": {
      "text/plain": [
       "[['by',\n",
       "  'the',\n",
       "  'end',\n",
       "  'of',\n",
       "  'the',\n",
       "  'movie',\n",
       "  'we',\n",
       "  \"'ve\",\n",
       "  'learned',\n",
       "  'peter',\n",
       "  'is',\n",
       "  'dogged',\n",
       "  'and',\n",
       "  'desperate',\n",
       "  ',',\n",
       "  'but',\n",
       "  'slowly',\n",
       "  'figuring',\n",
       "  'things',\n",
       "  'out',\n",
       "  '.'],\n",
       " ['according',\n",
       "  'to',\n",
       "  \"'jake\",\n",
       "  'speed',\n",
       "  \"'\",\n",
       "  'they',\n",
       "  'are',\n",
       "  'based',\n",
       "  'on',\n",
       "  'real',\n",
       "  'people',\n",
       "  ',',\n",
       "  'living',\n",
       "  'out',\n",
       "  'the',\n",
       "  'adventures',\n",
       "  'they',\n",
       "  'write',\n",
       "  'about',\n",
       "  'and',\n",
       "  'publish',\n",
       "  '.']]"
      ]
     },
     "execution_count": 16,
     "metadata": {},
     "output_type": "execute_result"
    }
   ],
   "source": [
    "wordlists = []\n",
    "for s in tqdm(sentences):\n",
    "    wordlists.extend([word_tokenize(s)])\n",
    "wordlists[0:2]"
   ]
  },
  {
   "cell_type": "code",
   "execution_count": null,
   "metadata": {
    "colab": {
     "base_uri": "https://localhost:8080/",
     "height": 458
    },
    "execution": {
     "iopub.execute_input": "2024-10-21T09:10:09.120144Z",
     "iopub.status.busy": "2024-10-21T09:10:09.119813Z",
     "iopub.status.idle": "2024-10-21T09:10:12.451880Z",
     "shell.execute_reply": "2024-10-21T09:10:12.451007Z",
     "shell.execute_reply.started": "2024-10-21T09:10:09.120105Z"
    },
    "id": "FhETuKeZ-pJD",
    "outputId": "8d85dde2-aa5c-49d6-bce4-7fa33c36b3b2"
   },
   "outputs": [
    {
     "data": {
      "image/png": "[encoded data removed]",
      "text/plain": [
       "<Figure size 640x480 with 1 Axes>"
      ]
     },
     "metadata": {},
     "output_type": "display_data"
    }
   ],
   "source": [
    "sentence_length = list(map(lambda i:len(i), wordlists))\n",
    "plt.hist(sentence_length)\n",
    "plt.xlabel('Tokens count')\n",
    "plt.ylabel('Sentences count')\n",
    "plt.show()"
   ]
  },
  {
   "cell_type": "markdown",
   "metadata": {
    "id": "yMT_cDw1_FLb"
   },
   "source": [
    "Видим, что длина большей чати предложений находится в диапазоне: [7;25]. Предложения размером меньше 5 слов являются для данного датасета аномалиями. Предложения размером меньше 3-х слов могут оказаться анамольным случайным набором строк, удалим их."
   ]
  },
  {
   "cell_type": "code",
   "execution_count": null,
   "metadata": {
    "colab": {
     "base_uri": "https://localhost:8080/"
    },
    "execution": {
     "iopub.execute_input": "2024-10-21T09:10:12.453548Z",
     "iopub.status.busy": "2024-10-21T09:10:12.453176Z",
     "iopub.status.idle": "2024-10-21T09:10:12.628489Z",
     "shell.execute_reply": "2024-10-21T09:10:12.627496Z",
     "shell.execute_reply.started": "2024-10-21T09:10:12.453515Z"
    },
    "id": "ZXBnr_tIAviK",
    "outputId": "858af67b-2450-47a5-c03b-de3f686ae0e0"
   },
   "outputs": [
    {
     "name": "stdout",
     "output_type": "stream",
     "text": [
      "Количество предложений, длина которых больше 3: 734878\n"
     ]
    }
   ],
   "source": [
    "min_length = 3\n",
    "wordlists = list(i for i in wordlists if len(i) > min_length)\n",
    "print(\"Количество предложений, длина которых больше 3:\", len(wordlists))"
   ]
  },
  {
   "cell_type": "code",
   "execution_count": null,
   "metadata": {
    "colab": {
     "base_uri": "https://localhost:8080/",
     "height": 49,
     "referenced_widgets": [
      "d41d01c9b3294531be85cb59dbc6e6a8",
      "00336380e9da4832adc3b544c13dd6d3",
      "ca52bf031384450886868379c1083ab6",
      "f0975e4e5c844e5193c79558c5372668",
      "3b68e1a956824ae998b89792cd9ebc1c",
      "c0d417e5441841b69fe22e31adda67c3",
      "6ac4316f52ec4b4fa54dcfdbda835169",
      "e80ca2d9d8344e8eb1cdfcb3a4d628bc",
      "5f71b6594da9484e9acd5592b01f7fc5",
      "fcf060b3b00f4391a2e66084c80e5668",
      "b7f0a0060d414190a922b70b1d2e7589",
      "6cc2496bbfe545ac8920a62b5096cd7e"
     ]
    },
    "execution": {
     "iopub.execute_input": "2024-10-21T09:10:12.630004Z",
     "iopub.status.busy": "2024-10-21T09:10:12.629706Z",
     "iopub.status.idle": "2024-10-21T09:10:18.522316Z",
     "shell.execute_reply": "2024-10-21T09:10:18.521396Z",
     "shell.execute_reply.started": "2024-10-21T09:10:12.629973Z"
    },
    "id": "nEvCN0Y1w1yH",
    "outputId": "534745ce-8b6a-4db3-eae4-93eef7e4b2ce"
   },
   "outputs": [
    {
     "data": {
      "application/vnd.jupyter.widget-view+json": {
       "model_id": "6cc2496bbfe545ac8920a62b5096cd7e",
       "version_major": 2,
       "version_minor": 0
      },
      "text/plain": [
       "  0%|          | 0/734878 [00:00<?, ?it/s]"
      ]
     },
     "metadata": {},
     "output_type": "display_data"
    }
   ],
   "source": [
    "words = Counter()\n",
    "# Расчет встречаемости слов\n",
    "for wordlist in tqdm(wordlists):\n",
    "    for word in wordlist:\n",
    "        words[word] += 1"
   ]
  },
  {
   "cell_type": "code",
   "execution_count": null,
   "metadata": {
    "colab": {
     "base_uri": "https://localhost:8080/"
    },
    "execution": {
     "iopub.execute_input": "2024-10-21T09:10:18.523956Z",
     "iopub.status.busy": "2024-10-21T09:10:18.523594Z",
     "iopub.status.idle": "2024-10-21T09:10:18.530136Z",
     "shell.execute_reply": "2024-10-21T09:10:18.529129Z",
     "shell.execute_reply.started": "2024-10-21T09:10:18.523918Z"
    },
    "id": "DNv152teCWc7",
    "outputId": "bfe1eda5-bca0-4f9c-d20a-2eeb846b4e30"
   },
   "outputs": [
    {
     "data": {
      "text/plain": [
       "147508"
      ]
     },
     "execution_count": 20,
     "metadata": {},
     "output_type": "execute_result"
    }
   ],
   "source": [
    "len(words)"
   ]
  },
  {
   "cell_type": "code",
   "execution_count": null,
   "metadata": {
    "colab": {
     "base_uri": "https://localhost:8080/"
    },
    "execution": {
     "iopub.execute_input": "2024-10-21T09:10:18.531533Z",
     "iopub.status.busy": "2024-10-21T09:10:18.531231Z",
     "iopub.status.idle": "2024-10-21T09:10:18.642191Z",
     "shell.execute_reply": "2024-10-21T09:10:18.641236Z",
     "shell.execute_reply.started": "2024-10-21T09:10:18.531502Z"
    },
    "id": "SEyK5FPrCZEA",
    "outputId": "2567a221-7c72-4a6e-bc11-0df5e95417ce"
   },
   "outputs": [
    {
     "data": {
      "text/plain": [
       "[('.', 642475),\n",
       " ('the', 593108),\n",
       " (',', 446927),\n",
       " ('a', 294028),\n",
       " ('and', 286184),\n",
       " ('of', 246170),\n",
       " ('to', 236450),\n",
       " ('is', 222401),\n",
       " ('it', 198566),\n",
       " ('i', 187729)]"
      ]
     },
     "execution_count": 21,
     "metadata": {},
     "output_type": "execute_result"
    }
   ],
   "source": [
    "words.most_common()[:10]"
   ]
  },
  {
   "cell_type": "code",
   "execution_count": null,
   "metadata": {
    "colab": {
     "base_uri": "https://localhost:8080/"
    },
    "execution": {
     "iopub.execute_input": "2024-10-21T09:10:18.644027Z",
     "iopub.status.busy": "2024-10-21T09:10:18.643588Z",
     "iopub.status.idle": "2024-10-21T09:10:18.709953Z",
     "shell.execute_reply": "2024-10-21T09:10:18.708943Z",
     "shell.execute_reply.started": "2024-10-21T09:10:18.643980Z"
    },
    "id": "LEBbKst0Cu6g",
    "outputId": "c0ba4413-7cb3-4b38-f1c9-75b5db7b2977"
   },
   "outputs": [
    {
     "data": {
      "text/plain": [
       "[('builing', 1),\n",
       " ('3.29', 1),\n",
       " ('runaround', 1),\n",
       " ('reconisably', 1),\n",
       " ('images.', 1),\n",
       " ('fabric-hall', 1),\n",
       " ('treatin', 1),\n",
       " ('did-so', 1),\n",
       " ('actor.ida', 1),\n",
       " ('diversionary', 1)]"
      ]
     },
     "execution_count": 22,
     "metadata": {},
     "output_type": "execute_result"
    }
   ],
   "source": [
    "words.most_common()[-10:]"
   ]
  },
  {
   "cell_type": "markdown",
   "metadata": {
    "id": "B4k4uSoHUSI0"
   },
   "source": [
    "Добавим в словарь ```vocab_size``` самых встречающихся слов."
   ]
  },
  {
   "cell_type": "code",
   "execution_count": null,
   "metadata": {
    "execution": {
     "iopub.execute_input": "2024-10-21T09:10:18.711951Z",
     "iopub.status.busy": "2024-10-21T09:10:18.711277Z",
     "iopub.status.idle": "2024-10-21T09:10:18.774101Z",
     "shell.execute_reply": "2024-10-21T09:10:18.773113Z",
     "shell.execute_reply.started": "2024-10-21T09:10:18.711905Z"
    },
    "id": "oUBNwsK9xLIu"
   },
   "outputs": [],
   "source": [
    "vocab = set(['<unk>', '<bos>', '<eos>', '<pad>'])\n",
    "vocab_size = 40000\n",
    "# Наполнение словаря\n",
    "for word in sorted(words, key=words.get, reverse=True)[:vocab_size]:\n",
    "        vocab.add(word)"
   ]
  },
  {
   "cell_type": "code",
   "execution_count": null,
   "metadata": {
    "execution": {
     "iopub.execute_input": "2024-10-21T09:10:18.775723Z",
     "iopub.status.busy": "2024-10-21T09:10:18.775325Z",
     "iopub.status.idle": "2024-10-21T09:10:18.782153Z",
     "shell.execute_reply": "2024-10-21T09:10:18.781379Z",
     "shell.execute_reply.started": "2024-10-21T09:10:18.775679Z"
    },
    "id": "ieT0DFUpXnV2"
   },
   "outputs": [],
   "source": [
    "assert '<unk>' in vocab\n",
    "assert '<bos>' in vocab\n",
    "assert '<eos>' in vocab\n",
    "assert '<pad>' in vocab\n",
    "assert len(vocab) == vocab_size + 4"
   ]
  },
  {
   "cell_type": "code",
   "execution_count": null,
   "metadata": {
    "colab": {
     "base_uri": "https://localhost:8080/"
    },
    "execution": {
     "iopub.execute_input": "2024-10-21T09:10:18.783666Z",
     "iopub.status.busy": "2024-10-21T09:10:18.783278Z",
     "iopub.status.idle": "2024-10-21T09:10:18.790862Z",
     "shell.execute_reply": "2024-10-21T09:10:18.789958Z",
     "shell.execute_reply.started": "2024-10-21T09:10:18.783632Z"
    },
    "id": "JhACW2CQyck5",
    "outputId": "b5115db6-53ae-40d6-8742-62fdd585595e"
   },
   "outputs": [
    {
     "name": "stdout",
     "output_type": "stream",
     "text": [
      "Всего слов в словаре: 40004\n"
     ]
    }
   ],
   "source": [
    "print(\"Всего слов в словаре:\", len(vocab))"
   ]
  },
  {
   "cell_type": "markdown",
   "metadata": {
    "id": "UmeRYKSIUcdE"
   },
   "source": [
    "### Подготовка датасета (1 балл)\n",
    "\n",
    "Далее, как и в семинарском занятии, подготовим датасеты и даталоадеры.\n",
    "\n",
    "В классе ```WordDataset``` вам необходимо реализовать метод ```__getitem__```, который будет возвращать сэмпл данных по входному idx, то есть список целых чисел (индексов слов).\n",
    "\n",
    "Внутри этого метода необходимо добавить служебные токены начала и конца последовательности, а также токенизировать соответствующее предложение с помощью ```word_tokenize``` и сопоставить ему индексы из ```word2ind```."
   ]
  },
  {
   "cell_type": "code",
   "execution_count": null,
   "metadata": {
    "execution": {
     "iopub.execute_input": "2024-10-21T09:10:18.792582Z",
     "iopub.status.busy": "2024-10-21T09:10:18.792032Z",
     "iopub.status.idle": "2024-10-21T09:10:18.814093Z",
     "shell.execute_reply": "2024-10-21T09:10:18.812993Z",
     "shell.execute_reply.started": "2024-10-21T09:10:18.792549Z"
    },
    "id": "iD7SmSy3v2dl"
   },
   "outputs": [],
   "source": [
    "word2ind = {char: i for i, char in enumerate(vocab)}\n",
    "ind2word = {i: char for char, i in word2ind.items()}"
   ]
  },
  {
   "cell_type": "code",
   "execution_count": null,
   "metadata": {
    "execution": {
     "iopub.execute_input": "2024-10-21T09:10:18.815385Z",
     "iopub.status.busy": "2024-10-21T09:10:18.815076Z",
     "iopub.status.idle": "2024-10-21T09:10:18.821998Z",
     "shell.execute_reply": "2024-10-21T09:10:18.821118Z",
     "shell.execute_reply.started": "2024-10-21T09:10:18.815354Z"
    },
    "id": "FVzXL17PzC7K"
   },
   "outputs": [],
   "source": [
    "class WordDataset:\n",
    "    def __init__(self, sentences):\n",
    "        self.data = sentences\n",
    "        self.unk_id = word2ind['<unk>']\n",
    "        self.bos_id = word2ind['<bos>']\n",
    "        self.eos_id = word2ind['<eos>']\n",
    "        self.pad_id = word2ind['<pad>']\n",
    "\n",
    "    def __getitem__(self, idx: int) -> List[int]:\n",
    "        tokenized_sentence = [self.bos_id]\n",
    "        tokenized_sentence += [word2ind.get(word, self.unk_id) for word in self.data[idx]]\n",
    "        tokenized_sentence += [self.eos_id]\n",
    "\n",
    "        return tokenized_sentence\n",
    "\n",
    "    def __len__(self) -> int:\n",
    "        return len(self.data)"
   ]
  },
  {
   "cell_type": "code",
   "execution_count": null,
   "metadata": {
    "execution": {
     "iopub.execute_input": "2024-10-21T09:10:18.823545Z",
     "iopub.status.busy": "2024-10-21T09:10:18.823212Z",
     "iopub.status.idle": "2024-10-21T09:10:18.831100Z",
     "shell.execute_reply": "2024-10-21T09:10:18.830237Z",
     "shell.execute_reply.started": "2024-10-21T09:10:18.823509Z"
    },
    "id": "I6CtYNMp2_g0"
   },
   "outputs": [],
   "source": [
    "def collate_fn_with_padding(\n",
    "    input_batch: List[List[int]], pad_id=word2ind['<pad>']) -> torch.Tensor:\n",
    "    seq_lens = [len(x) for x in input_batch]\n",
    "    max_seq_len = max(seq_lens)\n",
    "\n",
    "    new_batch = []\n",
    "    for sequence in input_batch:\n",
    "        for _ in range(max_seq_len - len(sequence)):\n",
    "            sequence.append(pad_id)\n",
    "        new_batch.append(sequence)\n",
    "\n",
    "    sequences = torch.LongTensor(new_batch).to(device)\n",
    "\n",
    "    new_batch = {\n",
    "        'input_ids': sequences[:,:-1],\n",
    "        'target_ids': sequences[:,1:] # сдвигаем на 1 слово вперед\n",
    "    }\n",
    "\n",
    "    return new_batch"
   ]
  },
  {
   "cell_type": "code",
   "execution_count": null,
   "metadata": {
    "execution": {
     "iopub.execute_input": "2024-10-21T09:10:18.837171Z",
     "iopub.status.busy": "2024-10-21T09:10:18.836788Z",
     "iopub.status.idle": "2024-10-21T09:10:19.172779Z",
     "shell.execute_reply": "2024-10-21T09:10:19.171990Z",
     "shell.execute_reply.started": "2024-10-21T09:10:18.837140Z"
    },
    "id": "6xmeK9Ys1BIG"
   },
   "outputs": [],
   "source": [
    "train_sentences, eval_sentences = train_test_split(wordlists, test_size=0.2)\n",
    "eval_sentences, test_sentences = train_test_split(eval_sentences, test_size=0.5)\n",
    "\n",
    "train_dataset = WordDataset(train_sentences)\n",
    "eval_dataset = WordDataset(eval_sentences)\n",
    "test_dataset = WordDataset(test_sentences)\n",
    "\n",
    "batch_size = 128\n",
    "\n",
    "train_dataloader = DataLoader(\n",
    "    train_dataset, collate_fn=collate_fn_with_padding, batch_size=batch_size)\n",
    "\n",
    "eval_dataloader = DataLoader(\n",
    "    eval_dataset, collate_fn=collate_fn_with_padding, batch_size=batch_size)\n",
    "\n",
    "test_dataloader = DataLoader(\n",
    "    test_dataset, collate_fn=collate_fn_with_padding, batch_size=batch_size)"
   ]
  },
  {
   "cell_type": "markdown",
   "metadata": {
    "id": "SMAexY7Y45E4"
   },
   "source": [
    "## Обучение и архитектура модели\n",
    "\n",
    "Вам необходимо на практике проверить, что влияет на качество языковых моделей. В этом задании нужно провести серию экспериментов с различными вариантами языковых моделей и сравнить различия в конечной перплексии на тестовом множестве.\n",
    "\n",
    "Возможные идеи для экспериментов:\n",
    "\n",
    "* Различные RNN-блоки, например, LSTM или GRU. Также можно добавить сразу несколько RNN блоков друг над другом с помощью аргумента num_layers. Вам поможет официальная документация [здесь](https://pytorch.org/docs/stable/generated/torch.nn.LSTM.html)\n",
    "* Различные размеры скрытого состояния. Различное количество линейных слоев после RNN-блока. Различные функции активации.\n",
    "* Добавление нормализаций в виде Dropout, BatchNorm или LayerNorm\n",
    "* Различные аргументы для оптимизации, например, подбор оптимального learning rate или тип алгоритма оптимизации SGD, Adam, RMSProp и другие\n",
    "* Любые другие идеи и подходы\n",
    "\n",
    "После проведения экспериментов необходимо составить таблицу результатов, в которой описан каждый эксперимент и посчитана перплексия на тестовом множестве.\n",
    "\n",
    "Учтите, что эксперименты, которые различаются, например, только размером скрытого состояния или количеством линейных слоев считаются, как один эксперимент.\n",
    "\n",
    "Успехов!"
   ]
  },
  {
   "cell_type": "markdown",
   "metadata": {
    "id": "KP1cO-3bmDv9"
   },
   "source": [
    "### Функция evaluate (1 балл)\n",
    "\n",
    "Заполните функцию ```evaluate```"
   ]
  },
  {
   "cell_type": "code",
   "execution_count": null,
   "metadata": {
    "execution": {
     "iopub.execute_input": "2024-10-21T09:10:19.174267Z",
     "iopub.status.busy": "2024-10-21T09:10:19.173923Z",
     "iopub.status.idle": "2024-10-21T09:10:19.180647Z",
     "shell.execute_reply": "2024-10-21T09:10:19.179715Z",
     "shell.execute_reply.started": "2024-10-21T09:10:19.174222Z"
    },
    "id": "XUlMUVJ3mL4r"
   },
   "outputs": [],
   "source": [
    "def evaluate(model, criterion, dataloader) -> float:\n",
    "    model.eval()\n",
    "    perplexity = []\n",
    "    with torch.no_grad():\n",
    "        for batch in dataloader:\n",
    "            logits = model(batch['input_ids']).flatten(start_dim=0, end_dim=1) # Посчитайте логиты предсказаний следующих слов\n",
    "            loss = criterion(logits, batch['target_ids'].flatten())\n",
    "            perplexity.append(torch.exp(loss).item())\n",
    "\n",
    "    perplexity = sum(perplexity) / len(perplexity)\n",
    "\n",
    "    return perplexity"
   ]
  },
  {
   "cell_type": "markdown",
   "metadata": {
    "id": "bLV63Vsk7loy"
   },
   "source": [
    "### Train loop (1 балл)\n",
    "\n",
    "Напишите функцию для обучения модели."
   ]
  },
  {
   "cell_type": "code",
   "execution_count": null,
   "metadata": {
    "execution": {
     "iopub.execute_input": "2024-10-21T09:10:19.182522Z",
     "iopub.status.busy": "2024-10-21T09:10:19.181911Z",
     "iopub.status.idle": "2024-10-21T09:10:19.191319Z",
     "shell.execute_reply": "2024-10-21T09:10:19.190549Z",
     "shell.execute_reply.started": "2024-10-21T09:10:19.182489Z"
    },
    "id": "bSZmUC3YmocP"
   },
   "outputs": [],
   "source": [
    "def train_model(model, train_dataloader, eval_dataloader, num_epoch:int = 5):\n",
    "    losses = []\n",
    "    perplexities_train = []\n",
    "    perplexities_eval = []\n",
    "\n",
    "    fixedseed()\n",
    "    model = model\n",
    "    fixedseed()\n",
    "    criterion = nn.CrossEntropyLoss(ignore_index=word2ind['<pad>'])\n",
    "    fixedseed()\n",
    "    optimizer = torch.optim.Adam(model.parameters())\n",
    "\n",
    "    for epoch in range(num_epoch):\n",
    "        epoch_losses = []\n",
    "        model.train()\n",
    "        for batch in tqdm(train_dataloader, desc=f'Training epoch {epoch+1}:'):\n",
    "            optimizer.zero_grad()\n",
    "            logits = model(batch['input_ids']).flatten(start_dim=0, end_dim=1)\n",
    "            loss = criterion(logits, batch['target_ids'].flatten())\n",
    "            loss.backward()\n",
    "            optimizer.step()\n",
    "\n",
    "            epoch_losses.append(loss.item())\n",
    "\n",
    "        losses.append(sum(epoch_losses) / len(epoch_losses))\n",
    "        perplexities_train.append(evaluate(model, criterion, train_dataloader))\n",
    "        perplexities_eval.append(evaluate(model, criterion, eval_dataloader))\n",
    "\n",
    "    return model, losses, perplexities_train, perplexities_eval"
   ]
  },
  {
   "cell_type": "markdown",
   "metadata": {
    "id": "FVRtj3ZBrZCp"
   },
   "source": [
    "Напишем вспомогательную функцию для отрисовки графиков loss и perplexity (train & eval)"
   ]
  },
  {
   "cell_type": "code",
   "execution_count": null,
   "metadata": {
    "execution": {
     "iopub.execute_input": "2024-10-21T09:10:19.192787Z",
     "iopub.status.busy": "2024-10-21T09:10:19.192474Z",
     "iopub.status.idle": "2024-10-21T09:10:19.202521Z",
     "shell.execute_reply": "2024-10-21T09:10:19.201648Z",
     "shell.execute_reply.started": "2024-10-21T09:10:19.192743Z"
    },
    "id": "tJuBKipmRSqI"
   },
   "outputs": [],
   "source": [
    "def plotting(losses: List, perplexities_tr: List, perplexities_eval: List):\n",
    "    plt.figure(figsize=(10,2))\n",
    "    plt.plot(np.arange(len(losses)), losses)\n",
    "    plt.title('Losses')\n",
    "    plt.xlabel(\"epoch\")\n",
    "    plt.show()\n",
    "    print(f'Train loss: {min(losses)}')\n",
    "\n",
    "    plt.figure(figsize=(10,2))\n",
    "    plt.plot(np.arange(len(perplexities_tr)), perplexities_tr)\n",
    "    plt.title('Perplexity on the trainset')\n",
    "    plt.xlabel(\"epoch\")\n",
    "    plt.show()\n",
    "    print(f'Perplexity on the trainset: {min(perplexities_tr)}')\n",
    "\n",
    "    plt.figure(figsize=(10,2))\n",
    "    plt.plot(np.arange(len(perplexities_eval)), perplexities_eval)\n",
    "    plt.title('Perplexity on the evalset')\n",
    "    plt.xlabel(\"epoch\")\n",
    "    plt.show()\n",
    "    print(f'Perplexity on the evalset: {min(perplexities_eval)}')"
   ]
  },
  {
   "cell_type": "markdown",
   "metadata": {
    "id": "hXmeyhBQmuq4"
   },
   "source": [
    "### Первый эксперимент (2 балла)\n",
    "\n",
    "Определите архитектуру модели и обучите её."
   ]
  },
  {
   "cell_type": "markdown",
   "metadata": {
    "id": "To-RbC74rZCq"
   },
   "source": [
    "#### **В качестве базовой модели будем использовать GRU**:\n",
    "* hidden_dim = 256\n",
    "* \"нежный\" dropout = 0.05 после нелинейной тангенциальной активации перед линейным выходом"
   ]
  },
  {
   "cell_type": "code",
   "execution_count": null,
   "metadata": {
    "execution": {
     "iopub.execute_input": "2024-10-21T09:10:19.204063Z",
     "iopub.status.busy": "2024-10-21T09:10:19.203695Z",
     "iopub.status.idle": "2024-10-21T09:10:19.212865Z",
     "shell.execute_reply": "2024-10-21T09:10:19.211830Z",
     "shell.execute_reply.started": "2024-10-21T09:10:19.204031Z"
    },
    "id": "qaWvqNJom0ij"
   },
   "outputs": [],
   "source": [
    "class LanguageModel(nn.Module):\n",
    "  def __init__(self, hidden_dim: int, vocab_size: int):\n",
    "        super().__init__()\n",
    "        self.embedding = nn.Embedding(vocab_size, hidden_dim)\n",
    "        self.rnn = nn.GRU(hidden_dim, hidden_dim, batch_first=True) # GRU layer\n",
    "        self.linear = nn.Linear(hidden_dim, hidden_dim)\n",
    "        self.projection = nn.Linear(hidden_dim, vocab_size) # отображает векторы скрыт состояний в размер словаря\n",
    "\n",
    "        self.non_lin = nn.Tanh()\n",
    "        self.dropout = nn.Dropout(p=0.05)\n",
    "\n",
    "  def forward(self, input_batch: torch.Tensor) -> torch.Tensor:\n",
    "        embeddings = self.embedding(input_batch)  # [batch_size, seq_len, hidden_dim]\n",
    "        output, _ = self.rnn(embeddings)  # [batch_size, seq_len, hidden_dim]\n",
    "        output = self.dropout(self.linear(self.non_lin(output)))  # [batch_size, seq_len, hidden_dim]\n",
    "        projection = self.projection(self.non_lin(output))  # [batch_size, seq_len, vocab_size]\n",
    "\n",
    "        return projection"
   ]
  },
  {
   "cell_type": "code",
   "execution_count": null,
   "metadata": {
    "colab": {
     "base_uri": "https://localhost:8080/",
     "height": 177,
     "referenced_widgets": [
      "7eed1ed7dcd047bab6f58196b044bdfa",
      "02ff6eefd131406a9583e6b57d198f7c",
      "0d62a249b08247f2b30aeedcac9b4ab5",
      "debb8e864e4d4d7da197f4a03ca2f896",
      "7a31a5a6ae634e84a98596319266d0fa",
      "1f5f3452dfb24c2889d6ecb9c43b6e79",
      "6b7869bfa6d04feab369e3b011c37e50",
      "ec526024aa0d4461bb3bc846dab86295",
      "b5a62cb3edd340ce89165e0d89213589",
      "bff70d452ae04db4b818a33e3e9e1db0",
      "0ac3918e60ab406ea2b35e5acec7cd1f",
      "650bb16a094e4bde8f95f4858d20b8f4",
      "e2d090ebebcc449b9981ee017509b8d6",
      "98d20034c3d7461a8d92af949848c1b8",
      "dac96af973474dedb256fb8f937c5ed4",
      "878843e8a666490b846624b6533ae691",
      "643f11f789d54ddf8959643cceec5d73",
      "11cfa48e4fbd44b2bb1dccc02edc9bd5",
      "3855761668194962a580af293681e740",
      "ce5e920038fa498aa4bbf4f4eb6845e2",
      "104117a9f1404275848eb546c3fe1e4e",
      "afd7a11b31e14ea9a44513e7ecae6d26",
      "70a838ea86404f59b29bcc735f8f84c6",
      "f68ca830dae348b0bf4443d061844fef",
      "b8d22375141a4dbd8858a23d6a3eb90b",
      "23e6ed00e42c4d31a248be91665841b3",
      "2a3d02a3e437467fa8fed61a5fd86d5d",
      "d99ce2245a584e34a672a6e51c315648",
      "9dfb8e0ce4cc4a9f9171c0095d4399a6",
      "7e8949d16c7f4b6d84dfcef2679565dd",
      "1fbb95ecd8c34c77950ade6d79c8d1b5",
      "4c20d482a846471f9e29081ccc4f9804",
      "3806f1b486544d9fb7117886a8a24814",
      "9a8aad3d00b94bf2a4bf937d638a078d",
      "1f56b9cdbfef4e65ba42909acfc7b435",
      "af9a7468be10433faede2404fea372b4",
      "27d6f4c95c53439285a507db889c4261",
      "58b634e854a34979bb79ca1db82884f3",
      "6e5894df46fe48158911eda4edb5a20a",
      "1785f015f4a5415a96bb01102484c3ae",
      "ebfce1bb0a81458a9709ac3b9fd0955b",
      "63d7f9cadc1c4d6ca65445c0042fdd34",
      "f888236fa5904f39adf9d4c0a19aa3b4",
      "a302ea9fb68645bd85c6039ee9e30369",
      "036b85ee7ff746cdab8584053ab0de1d",
      "43d42fcae6fd497ab9f63a1382a00216",
      "a45cffc9a62940d3b5db224c8b728ef5",
      "7b63aefac6514412820e22b5b1ef1ddd",
      "b3e44c56bc3243cda25aa0a6f2a05897",
      "d0226b6e09de47358581de359808f642",
      "8d9921284a2d4c2fbd188f02d41a3896",
      "4fdad90646e84e93ae03ab7d9f05885a",
      "6358b573f5a54f26a1700bda3db23eb5",
      "7ac4ade36d254fc5833c6ce5c099234a",
      "e979a239b534402f91ff6b7f041eb7a0",
      "e76573b4dcd5443fa798c30842cb335a",
      "60d3998a121e4ec4ba2cb7d9ad455824",
      "671086a28c1c48f78e7886f8e35656cf",
      "34ec30a4ed804140aeb19727735dca5c",
      "882427cde83247e7adbd71e9573e0216"
     ]
    },
    "execution": {
     "iopub.execute_input": "2024-10-21T09:10:19.214493Z",
     "iopub.status.busy": "2024-10-21T09:10:19.214207Z",
     "iopub.status.idle": "2024-10-21T10:06:04.914119Z",
     "shell.execute_reply": "2024-10-21T10:06:04.913214Z",
     "shell.execute_reply.started": "2024-10-21T09:10:19.214463Z"
    },
    "id": "TxbEzn5fnBOY",
    "outputId": "72ac2b62-78f3-4a3f-c5d4-589a10f47654"
   },
   "outputs": [
    {
     "data": {
      "application/vnd.jupyter.widget-view+json": {
       "model_id": "e76573b4dcd5443fa798c30842cb335a",
       "version_major": 2,
       "version_minor": 0
      },
      "text/plain": [
       "Training epoch 1::   0%|          | 0/4593 [00:00<?, ?it/s]"
      ]
     },
     "metadata": {},
     "output_type": "display_data"
    },
    {
     "data": {
      "application/vnd.jupyter.widget-view+json": {
       "model_id": "60d3998a121e4ec4ba2cb7d9ad455824",
       "version_major": 2,
       "version_minor": 0
      },
      "text/plain": [
       "Training epoch 2::   0%|          | 0/4593 [00:00<?, ?it/s]"
      ]
     },
     "metadata": {},
     "output_type": "display_data"
    },
    {
     "data": {
      "application/vnd.jupyter.widget-view+json": {
       "model_id": "671086a28c1c48f78e7886f8e35656cf",
       "version_major": 2,
       "version_minor": 0
      },
      "text/plain": [
       "Training epoch 3::   0%|          | 0/4593 [00:00<?, ?it/s]"
      ]
     },
     "metadata": {},
     "output_type": "display_data"
    },
    {
     "data": {
      "application/vnd.jupyter.widget-view+json": {
       "model_id": "34ec30a4ed804140aeb19727735dca5c",
       "version_major": 2,
       "version_minor": 0
      },
      "text/plain": [
       "Training epoch 4::   0%|          | 0/4593 [00:00<?, ?it/s]"
      ]
     },
     "metadata": {},
     "output_type": "display_data"
    },
    {
     "data": {
      "application/vnd.jupyter.widget-view+json": {
       "model_id": "882427cde83247e7adbd71e9573e0216",
       "version_major": 2,
       "version_minor": 0
      },
      "text/plain": [
       "Training epoch 5::   0%|          | 0/4593 [00:00<?, ?it/s]"
      ]
     },
     "metadata": {},
     "output_type": "display_data"
    }
   ],
   "source": [
    "# Обучите модель здесь\n",
    "num_epoch = 5\n",
    "\n",
    "model = LanguageModel(hidden_dim=256, vocab_size=len(vocab)).to(device)\n",
    "GRU, GRU_losses, GRU_tr_perplexities, GRU_ev_perplexities = train_model(model, train_dataloader, eval_dataloader, num_epoch)"
   ]
  },
  {
   "cell_type": "code",
   "execution_count": null,
   "metadata": {
    "colab": {
     "base_uri": "https://localhost:8080/",
     "height": 813
    },
    "execution": {
     "iopub.execute_input": "2024-10-21T10:06:04.916631Z",
     "iopub.status.busy": "2024-10-21T10:06:04.915530Z",
     "iopub.status.idle": "2024-10-21T10:06:05.857495Z",
     "shell.execute_reply": "2024-10-21T10:06:05.856585Z",
     "shell.execute_reply.started": "2024-10-21T10:06:04.916583Z"
    },
    "id": "lR0tbpDdi1-_",
    "outputId": "68092f7a-d1ea-4fff-df22-7a26d7a5249f"
   },
   "outputs": [
    {
     "data": {
      "image/png": "[encoded data removed]",
      "text/plain": [
       "<Figure size 1000x200 with 1 Axes>"
      ]
     },
     "metadata": {},
     "output_type": "display_data"
    },
    {
     "name": "stdout",
     "output_type": "stream",
     "text": [
      "Train loss: 4.165813350324508\n"
     ]
    },
    {
     "data": {
      "image/png": "[encoded data removed]",
      "text/plain": [
       "<Figure size 1000x200 with 1 Axes>"
      ]
     },
     "metadata": {},
     "output_type": "display_data"
    },
    {
     "name": "stdout",
     "output_type": "stream",
     "text": [
      "Perplexity on the trainset: 57.955644014949456\n"
     ]
    },
    {
     "data": {
      "image/png": "[encoded data removed]",
      "text/plain": [
       "<Figure size 1000x200 with 1 Axes>"
      ]
     },
     "metadata": {},
     "output_type": "display_data"
    },
    {
     "name": "stdout",
     "output_type": "stream",
     "text": [
      "Perplexity on the evalset: 80.4172836900794\n"
     ]
    }
   ],
   "source": [
    "plotting(GRU_losses, GRU_tr_perplexities, GRU_ev_perplexities)"
   ]
  },
  {
   "cell_type": "markdown",
   "metadata": {
    "id": "0zyIoR59kLK4"
   },
   "source": [
    "**Запустим базовую модель на тестовом датасете**"
   ]
  },
  {
   "cell_type": "code",
   "execution_count": null,
   "metadata": {
    "colab": {
     "base_uri": "https://localhost:8080/"
    },
    "execution": {
     "iopub.execute_input": "2024-10-21T10:06:05.858957Z",
     "iopub.status.busy": "2024-10-21T10:06:05.858664Z",
     "iopub.status.idle": "2024-10-21T10:06:27.361939Z",
     "shell.execute_reply": "2024-10-21T10:06:27.361002Z",
     "shell.execute_reply.started": "2024-10-21T10:06:05.858923Z"
    },
    "id": "cKiuKwdjjy3v",
    "outputId": "31575e5e-81f5-4766-a83f-0bc779846a95"
   },
   "outputs": [
    {
     "name": "stdout",
     "output_type": "stream",
     "text": [
      "CPU times: user 21.5 s, sys: 10.9 ms, total: 21.5 s\n",
      "Wall time: 21.5 s\n"
     ]
    },
    {
     "data": {
      "text/plain": [
       "80.7459641962466"
      ]
     },
     "execution_count": 36,
     "metadata": {},
     "output_type": "execute_result"
    }
   ],
   "source": [
    "%%time\n",
    "criterion = nn.CrossEntropyLoss(ignore_index=word2ind['<pad>'])\n",
    "model_GRU = GRU.to(device)\n",
    "GRU_test_perplexity = evaluate(model_GRU, criterion, test_dataloader)\n",
    "GRU_test_perplexity"
   ]
  },
  {
   "cell_type": "code",
   "execution_count": null,
   "metadata": {
    "execution": {
     "iopub.execute_input": "2024-10-21T10:06:27.363610Z",
     "iopub.status.busy": "2024-10-21T10:06:27.363293Z",
     "iopub.status.idle": "2024-10-21T10:06:27.369612Z",
     "shell.execute_reply": "2024-10-21T10:06:27.368641Z",
     "shell.execute_reply.started": "2024-10-21T10:06:27.363577Z"
    },
    "id": "Ts5IJLBknlq8",
    "outputId": "1f746afb-a81d-429a-81a8-336144475176"
   },
   "outputs": [
    {
     "data": {
      "text/plain": [
       "LanguageModel(\n",
       "  (embedding): Embedding(40004, 256)\n",
       "  (rnn): GRU(256, 256, batch_first=True)\n",
       "  (linear): Linear(in_features=256, out_features=256, bias=True)\n",
       "  (projection): Linear(in_features=256, out_features=40004, bias=True)\n",
       "  (non_lin): Tanh()\n",
       "  (dropout): Dropout(p=0.05, inplace=False)\n",
       ")"
      ]
     },
     "execution_count": 37,
     "metadata": {},
     "output_type": "execute_result"
    }
   ],
   "source": [
    "model_GRU"
   ]
  },
  {
   "cell_type": "markdown",
   "metadata": {
    "id": "s83EJ3XkrZCu"
   },
   "source": [
    "#### GRU LM generation test: q -> r"
   ]
  },
  {
   "cell_type": "code",
   "execution_count": null,
   "metadata": {
    "execution": {
     "iopub.execute_input": "2024-10-21T10:06:27.371037Z",
     "iopub.status.busy": "2024-10-21T10:06:27.370766Z",
     "iopub.status.idle": "2024-10-21T10:06:27.381869Z",
     "shell.execute_reply": "2024-10-21T10:06:27.381022Z",
     "shell.execute_reply.started": "2024-10-21T10:06:27.371008Z"
    },
    "id": "59L2lxdzkb6T"
   },
   "outputs": [],
   "source": [
    "def generate_sequence(model, starting_seq: str, max_seq_len: int = 128) -> str:\n",
    "    device = 'cuda'\n",
    "    model = model.to(device)\n",
    "    input_ids = [word2ind['<bos>']] + [\n",
    "        word2ind.get(word, word2ind['<unk>']) for word in nltk.word_tokenize(starting_seq)]\n",
    "    input_ids = torch.LongTensor(input_ids).to(device)\n",
    "\n",
    "    model.eval()\n",
    "    with torch.no_grad():\n",
    "        for i in range(max_seq_len):\n",
    "            next_word_distribution = model(input_ids)[-1]\n",
    "            next_word = next_word_distribution.squeeze().argmax()\n",
    "            input_ids = torch.cat([input_ids, next_word.unsqueeze(0)])\n",
    "\n",
    "            if next_word.item() == word2ind['<eos>']:\n",
    "                break\n",
    "\n",
    "    words = ' '.join([ind2word[idx.item()] for idx in input_ids])\n",
    "\n",
    "    return words"
   ]
  },
  {
   "cell_type": "code",
   "execution_count": null,
   "metadata": {
    "execution": {
     "iopub.execute_input": "2024-10-21T12:58:00.437584Z",
     "iopub.status.busy": "2024-10-21T12:58:00.437189Z",
     "iopub.status.idle": "2024-10-21T12:58:00.442114Z",
     "shell.execute_reply": "2024-10-21T12:58:00.441141Z",
     "shell.execute_reply.started": "2024-10-21T12:58:00.437538Z"
    },
    "id": "obXLj0eUrZCw"
   },
   "outputs": [],
   "source": [
    "test_list = [\n",
    "    'i would highly recommend this film, especially ',\n",
    "    'too bad only a few people saw this film, this film ',\n",
    "    'i hate films about war and violence, but ',\n",
    "    'the film is just ',\n",
    "    'film wins the award it ',\n",
    "    'mention specific elements of the film which caught your attention, like '\n",
    "]"
   ]
  },
  {
   "cell_type": "code",
   "execution_count": null,
   "metadata": {
    "execution": {
     "iopub.execute_input": "2024-10-21T12:58:01.375275Z",
     "iopub.status.busy": "2024-10-21T12:58:01.374858Z",
     "iopub.status.idle": "2024-10-21T12:58:01.445038Z",
     "shell.execute_reply": "2024-10-21T12:58:01.443960Z",
     "shell.execute_reply.started": "2024-10-21T12:58:01.375235Z"
    },
    "id": "M-1uhONsrZCw",
    "outputId": "5bd2a61f-eaaf-4d35-ac29-40ba7252316c"
   },
   "outputs": [
    {
     "name": "stdout",
     "output_type": "stream",
     "text": [
      "Query: i would highly recommend this film, especially \n",
      "Response generator GRU: <bos> i would highly recommend this film , especially if you are a fan of the <unk> . <eos>\n",
      "Query: too bad only a few people saw this film, this film \n",
      "Response generator GRU: <bos> too bad only a few people saw this film , this film was a waste of time . <eos>\n",
      "Query: i hate films about war and violence, but \n",
      "Response generator GRU: <bos> i hate films about war and violence , but this is a great movie . <eos>\n",
      "Query: the film is just \n",
      "Response generator GRU: <bos> the film is just a bit of a letdown . <eos>\n",
      "Query: film wins the award it \n",
      "Response generator GRU: <bos> film wins the award it is a great film . <eos>\n",
      "Query: mention specific elements of the film which caught your attention, like \n",
      "Response generator GRU: <bos> mention specific elements of the film which caught your attention , like the first film , and the <unk> of the film . <eos>\n"
     ]
    }
   ],
   "source": [
    "for l in range(len(test_list)):\n",
    "    print('Query:', test_list[l])\n",
    "    print('Response generator GRU:', generate_sequence(model_GRU, starting_seq=test_list[l]))"
   ]
  },
  {
   "cell_type": "markdown",
   "metadata": {
    "id": "GMMSeOI-rZCx"
   },
   "source": [
    "**Отметим, что**:\n",
    "* базовая модель, в целом, \"старается\" генерировать текст,опираясь на полученный запрос, правда, старается \"навязать\" свою бинарную\"эмоциональную\" оценку, иногда, совсем невпопад, как при генерации на последний запрос;\n",
    "* также сразу видны проблемы с генерацией токенов в конце последовательности: видимо, используемый здесь \"жадный\" алгоритм генерации и неуверенность модели (перплексия > 80 на тесте, условно, говорит о том, что модель при генерации каждого токена сомневается между 80 кандидатами) не позволяют модели до конца \"выразить мысль\" при ответе на запрос."
   ]
  },
  {
   "cell_type": "markdown",
   "metadata": {
    "id": "X1EW4faIm0tl"
   },
   "source": [
    "### Второй эксперимент (2 балла)\n",
    "\n",
    "Попробуйте что-то поменять в модели или в пайплайне обучения, идеи для экспериментов можно подсмотреть выше."
   ]
  },
  {
   "cell_type": "markdown",
   "metadata": {
    "id": "S6RCDbnqrZCy"
   },
   "source": [
    "#### **Во втором эксперименте будем использовать LSTM**:\n",
    "* hidden_dim = 512: гипотетически увеличение размера скрытого слоя должно помочь выявить и обобщить большее количество связей между токенами в выборке;\n",
    "* num_layers=2: добавим еще один рекуррентный слой, дабы модель попыталась выявить разноуровневые закономерности в тексте;\n",
    "* dropout = 0.15 как после нелинейной тангенциальной активации перед линейным выходом, так и между рекуррентными слоями: при увеличении размера скрытого слоя + при добавлении доп. рекуррентного слоя модель может с большей вероятностью переобучиться"
   ]
  },
  {
   "cell_type": "code",
   "execution_count": null,
   "metadata": {
    "execution": {
     "iopub.execute_input": "2024-10-21T10:09:52.802567Z",
     "iopub.status.busy": "2024-10-21T10:09:52.802186Z",
     "iopub.status.idle": "2024-10-21T10:09:52.811327Z",
     "shell.execute_reply": "2024-10-21T10:09:52.810364Z",
     "shell.execute_reply.started": "2024-10-21T10:09:52.802531Z"
    },
    "id": "wkSE4jR1XzTg"
   },
   "outputs": [],
   "source": [
    "# Проведите второй эксперимент\n",
    "class LM_LSTM(nn.Module):\n",
    "    def __init__(self, hidden_dim: int, vocab_size: int):\n",
    "        super().__init__()\n",
    "        # Опишите свою нейронную сеть здесь\n",
    "        self.embedding = nn.Embedding(vocab_size, hidden_dim)\n",
    "        self.rnn = nn.LSTM(hidden_dim, hidden_dim, batch_first=True, num_layers=2, dropout=0.15) # добавим доп рекуррентный слой и между ними - dropout layer\n",
    "        self.linear = nn.Linear(hidden_dim, hidden_dim)\n",
    "        self.projection = nn.Linear(hidden_dim, vocab_size)\n",
    "\n",
    "        self.non_lin = nn.Tanh()\n",
    "        self.dropout = nn.Dropout(p=0.15)\n",
    "\n",
    "    def forward(self, input_batch: torch.Tensor) -> torch.Tensor:\n",
    "        # А тут опишите forward pass модели\n",
    "        embeddings = self.embedding(input_batch)  # [batch_size, seq_len, hidden_dim]\n",
    "        output, _ = self.rnn(embeddings)  # [batch_size, seq_len, hidden_dim]\n",
    "        output = self.dropout(self.linear(self.non_lin(output)))  # [batch_size, seq_len, hidden_dim]\n",
    "        projection = self.projection(self.non_lin(output))  # [batch_size, seq_len, vocab_size]\n",
    "\n",
    "        return projection"
   ]
  },
  {
   "cell_type": "markdown",
   "metadata": {
    "id": "AiX5p4jkuRyB"
   },
   "source": [
    "**Инициализируем веса методом Ксавье случайными числами из нормального распределения**"
   ]
  },
  {
   "cell_type": "code",
   "execution_count": null,
   "metadata": {
    "execution": {
     "iopub.execute_input": "2024-10-21T10:09:54.186256Z",
     "iopub.status.busy": "2024-10-21T10:09:54.185866Z",
     "iopub.status.idle": "2024-10-21T10:09:54.191761Z",
     "shell.execute_reply": "2024-10-21T10:09:54.190701Z",
     "shell.execute_reply.started": "2024-10-21T10:09:54.186220Z"
    },
    "id": "pAgAQ8Dz69MI"
   },
   "outputs": [],
   "source": [
    "def init_weights(self):\n",
    "  for name, param in self.named_parameters():\n",
    "    if 'bias' in name:\n",
    "      nn.init.constant(param, 0.)\n",
    "    elif 'weight' in name:\n",
    "      nn.init.xavier_uniform(param)"
   ]
  },
  {
   "cell_type": "markdown",
   "metadata": {
    "id": "307kph0wDVwQ"
   },
   "source": [
    "**Немного дополним наш train loop:**\n",
    "\n",
    "*   в качестве оптимизатора будем использовать модификацию Adam - AdamW (использует l2-регуляризацию, должен помочь от возможного затухания градиента)\n"
   ]
  },
  {
   "cell_type": "code",
   "execution_count": null,
   "metadata": {
    "execution": {
     "iopub.execute_input": "2024-10-21T10:10:00.746893Z",
     "iopub.status.busy": "2024-10-21T10:10:00.746510Z",
     "iopub.status.idle": "2024-10-21T10:10:00.757126Z",
     "shell.execute_reply": "2024-10-21T10:10:00.756103Z",
     "shell.execute_reply.started": "2024-10-21T10:10:00.746855Z"
    },
    "id": "M7H2Iv9H0gOl"
   },
   "outputs": [],
   "source": [
    "def train_model(model, train_dataloader, eval_dataloader, num_epoch:int = 5):\n",
    "    losses = []\n",
    "    perplexities_train = []\n",
    "    perplexities_eval = []\n",
    "\n",
    "    fixedseed()\n",
    "    model = model\n",
    "    fixedseed()\n",
    "    criterion = nn.CrossEntropyLoss(ignore_index=word2ind['<pad>'])\n",
    "    fixedseed()\n",
    "    optimizer = torch.optim.AdamW(model.parameters(), lr=1e-3,betas=(0.5, 0.999),\n",
    "                                      eps=1e-8, weight_decay=1e-3) # AdamW\n",
    "   # scheduler = torch.optim.lr_scheduler.ReduceLROnPlateau(optimizer, # ReduceLROnPlateau scheduler\n",
    "                                                           #patience=1)\n",
    "\n",
    "    for epoch in range(num_epoch):\n",
    "        epoch_losses = []\n",
    "        model.train()\n",
    "        for batch in tqdm(train_dataloader, desc=f'Training epoch {epoch+1}:'):\n",
    "            optimizer.zero_grad()\n",
    "            logits = model(batch['input_ids']).flatten(start_dim=0, end_dim=1)\n",
    "            loss = criterion(logits, batch['target_ids'].flatten())\n",
    "            loss.backward()\n",
    "            optimizer.step()\n",
    "            epoch_losses.append(loss.item())\n",
    "        #scheduler.step(sum(epoch_losses) / len(epoch_losses)) # add scheduler.step\n",
    "        losses.append(sum(epoch_losses) / len(epoch_losses))\n",
    "        perplexities_train.append(evaluate(model, criterion, train_dataloader))\n",
    "        perplexities_eval.append(evaluate(model, criterion, eval_dataloader))\n",
    "\n",
    "    return model, losses, perplexities_train, perplexities_eval"
   ]
  },
  {
   "cell_type": "code",
   "execution_count": null,
   "metadata": {
    "colab": {
     "base_uri": "https://localhost:8080/",
     "height": 118,
     "referenced_widgets": [
      "f4c93717f5704e949d094aae315d9b70",
      "243e53340e4a4e4a805ec4005002744e",
      "41978ac53a9b4d09b0939555f5ce9aac",
      "c875ac74e09744ab9aea737d7524b7b5",
      "9cd2a91ef945460eb50c8ff620e9b91f",
      "887af87e09a24f83b85155fb1451ed49",
      "03d007ca465c43cda9d595f831f4270f",
      "a200f5ce52a9438795e39af550c413c3",
      "8250b93f68d74f7582754ec0b74ad453",
      "ab1aa2783b3c451d90f54cd0ee4c8d3f",
      "64657fad8e1e4db78111c101e5754941",
      "c12e37047ce54996990351d5f2f3068f",
      "d5eef0f78faa4cad9acaec5d904a54ab",
      "0c96857105074860a69520e6a37760a2",
      "1681f9febe0e4163aa5cb7cb5b2cf49e",
      "4bd478763eee40a58896308fdd5c98e4",
      "cb7882c4b4de4ba7b9abafb4581dddda",
      "9864487a192a42659a5a35ed20bca8dd"
     ]
    },
    "execution": {
     "iopub.execute_input": "2024-10-21T10:10:05.552774Z",
     "iopub.status.busy": "2024-10-21T10:10:05.552395Z",
     "iopub.status.idle": "2024-10-21T12:41:51.803551Z",
     "shell.execute_reply": "2024-10-21T12:41:51.802483Z",
     "shell.execute_reply.started": "2024-10-21T10:10:05.552738Z"
    },
    "id": "_d0eIqsixWV3",
    "outputId": "f780f0ab-9abe-49d9-9489-e5ac81648d1d"
   },
   "outputs": [
    {
     "name": "stderr",
     "output_type": "stream",
     "text": [
      "/tmp/ipykernel_30/1841153875.py:6: FutureWarning: `nn.init.xavier_uniform` is now deprecated in favor of `nn.init.xavier_uniform_`.\n",
      "  nn.init.xavier_uniform(param)\n",
      "/tmp/ipykernel_30/1841153875.py:4: FutureWarning: `nn.init.constant` is now deprecated in favor of `nn.init.constant_`.\n",
      "  nn.init.constant(param, 0.)\n"
     ]
    },
    {
     "data": {
      "application/vnd.jupyter.widget-view+json": {
       "model_id": "c12e37047ce54996990351d5f2f3068f",
       "version_major": 2,
       "version_minor": 0
      },
      "text/plain": [
       "Training epoch 1::   0%|          | 0/4593 [00:00<?, ?it/s]"
      ]
     },
     "metadata": {},
     "output_type": "display_data"
    },
    {
     "data": {
      "application/vnd.jupyter.widget-view+json": {
       "model_id": "d5eef0f78faa4cad9acaec5d904a54ab",
       "version_major": 2,
       "version_minor": 0
      },
      "text/plain": [
       "Training epoch 2::   0%|          | 0/4593 [00:00<?, ?it/s]"
      ]
     },
     "metadata": {},
     "output_type": "display_data"
    },
    {
     "data": {
      "application/vnd.jupyter.widget-view+json": {
       "model_id": "0c96857105074860a69520e6a37760a2",
       "version_major": 2,
       "version_minor": 0
      },
      "text/plain": [
       "Training epoch 3::   0%|          | 0/4593 [00:00<?, ?it/s]"
      ]
     },
     "metadata": {},
     "output_type": "display_data"
    },
    {
     "data": {
      "application/vnd.jupyter.widget-view+json": {
       "model_id": "1681f9febe0e4163aa5cb7cb5b2cf49e",
       "version_major": 2,
       "version_minor": 0
      },
      "text/plain": [
       "Training epoch 4::   0%|          | 0/4593 [00:00<?, ?it/s]"
      ]
     },
     "metadata": {},
     "output_type": "display_data"
    },
    {
     "data": {
      "application/vnd.jupyter.widget-view+json": {
       "model_id": "4bd478763eee40a58896308fdd5c98e4",
       "version_major": 2,
       "version_minor": 0
      },
      "text/plain": [
       "Training epoch 5::   0%|          | 0/4593 [00:00<?, ?it/s]"
      ]
     },
     "metadata": {},
     "output_type": "display_data"
    },
    {
     "data": {
      "application/vnd.jupyter.widget-view+json": {
       "model_id": "cb7882c4b4de4ba7b9abafb4581dddda",
       "version_major": 2,
       "version_minor": 0
      },
      "text/plain": [
       "Training epoch 6::   0%|          | 0/4593 [00:00<?, ?it/s]"
      ]
     },
     "metadata": {},
     "output_type": "display_data"
    },
    {
     "data": {
      "application/vnd.jupyter.widget-view+json": {
       "model_id": "9864487a192a42659a5a35ed20bca8dd",
       "version_major": 2,
       "version_minor": 0
      },
      "text/plain": [
       "Training epoch 7::   0%|          | 0/4593 [00:00<?, ?it/s]"
      ]
     },
     "metadata": {},
     "output_type": "display_data"
    }
   ],
   "source": [
    "num_epoch = 7\n",
    "model = LM_LSTM(hidden_dim=512, vocab_size=len(vocab)).apply(init_weights).to(device) # увеличим размер hidden_dim до 512\n",
    "LSTM, LSTM_losses, LSTM_tr_perplexities, LSTM_ev_perplexities = train_model(model, train_dataloader, eval_dataloader, num_epoch)"
   ]
  },
  {
   "cell_type": "code",
   "execution_count": null,
   "metadata": {
    "execution": {
     "iopub.execute_input": "2024-10-21T12:42:34.411884Z",
     "iopub.status.busy": "2024-10-21T12:42:34.411063Z",
     "iopub.status.idle": "2024-10-21T12:42:35.367236Z",
     "shell.execute_reply": "2024-10-21T12:42:35.366347Z",
     "shell.execute_reply.started": "2024-10-21T12:42:34.411842Z"
    },
    "id": "47A06xSgrZC0",
    "outputId": "3dcd090c-5924-4b43-83e8-2035bab376a2"
   },
   "outputs": [
    {
     "data": {
      "image/png": "[encoded data removed]",
      "text/plain": [
       "<Figure size 1000x200 with 1 Axes>"
      ]
     },
     "metadata": {},
     "output_type": "display_data"
    },
    {
     "name": "stdout",
     "output_type": "stream",
     "text": [
      "Train loss: 3.869452365727407\n"
     ]
    },
    {
     "data": {
      "image/png": "[encoded data removed]",
      "text/plain": [
       "<Figure size 1000x200 with 1 Axes>"
      ]
     },
     "metadata": {},
     "output_type": "display_data"
    },
    {
     "name": "stdout",
     "output_type": "stream",
     "text": [
      "Perplexity on the trainset: 40.635457594306956\n"
     ]
    },
    {
     "data": {
      "image/png": "[encoded data removed]",
      "text/plain": [
       "<Figure size 1000x200 with 1 Axes>"
      ]
     },
     "metadata": {},
     "output_type": "display_data"
    },
    {
     "name": "stdout",
     "output_type": "stream",
     "text": [
      "Perplexity on the evalset: 66.66959422899329\n"
     ]
    }
   ],
   "source": [
    "plotting(LSTM_losses, LSTM_tr_perplexities, LSTM_ev_perplexities)"
   ]
  },
  {
   "cell_type": "code",
   "execution_count": null,
   "metadata": {
    "execution": {
     "iopub.execute_input": "2024-10-21T12:42:43.214857Z",
     "iopub.status.busy": "2024-10-21T12:42:43.214367Z",
     "iopub.status.idle": "2024-10-21T12:43:24.744403Z",
     "shell.execute_reply": "2024-10-21T12:43:24.743445Z",
     "shell.execute_reply.started": "2024-10-21T12:42:43.214807Z"
    },
    "id": "Aff1GLI_xEJm",
    "outputId": "f6b47f23-d434-4cee-f3f4-6d4adafcf816"
   },
   "outputs": [
    {
     "name": "stdout",
     "output_type": "stream",
     "text": [
      "CPU times: user 41.5 s, sys: 16.9 ms, total: 41.5 s\n",
      "Wall time: 41.5 s\n"
     ]
    },
    {
     "data": {
      "text/plain": [
       "68.3429570206352"
      ]
     },
     "execution_count": 47,
     "metadata": {},
     "output_type": "execute_result"
    }
   ],
   "source": [
    "%%time\n",
    "criterion = nn.CrossEntropyLoss(ignore_index=word2ind['<pad>'])\n",
    "model_LSTM = LSTM.to(device)\n",
    "LSTM_test_perplexity = evaluate(model_LSTM, criterion, test_dataloader)\n",
    "LSTM_test_perplexity"
   ]
  },
  {
   "cell_type": "markdown",
   "metadata": {
    "id": "ITq3qzd-rZC1"
   },
   "source": [
    "#### LSTM LM generation test: q -> r"
   ]
  },
  {
   "cell_type": "markdown",
   "metadata": {
    "id": "63hSp7w4rZC1"
   },
   "source": [
    "Сначала выведем результат генерации базовой модели"
   ]
  },
  {
   "cell_type": "code",
   "execution_count": null,
   "metadata": {
    "execution": {
     "iopub.execute_input": "2024-10-21T13:04:43.471631Z",
     "iopub.status.busy": "2024-10-21T13:04:43.470767Z",
     "iopub.status.idle": "2024-10-21T13:04:43.539802Z",
     "shell.execute_reply": "2024-10-21T13:04:43.538793Z",
     "shell.execute_reply.started": "2024-10-21T13:04:43.471587Z"
    },
    "id": "nSMZvT3ErZC2",
    "outputId": "0201b01a-ec35-4fc6-fc2b-5b7300ad37d3"
   },
   "outputs": [
    {
     "name": "stdout",
     "output_type": "stream",
     "text": [
      "Query: i would highly recommend this film, especially \n",
      "Response generator GRU: <bos> i would highly recommend this film , especially if you are a fan of the <unk> . <eos>\n",
      "Query: too bad only a few people saw this film, this film \n",
      "Response generator GRU: <bos> too bad only a few people saw this film , this film was a waste of time . <eos>\n",
      "Query: i hate films about war and violence, but \n",
      "Response generator GRU: <bos> i hate films about war and violence , but this is a great movie . <eos>\n",
      "Query: the film is just \n",
      "Response generator GRU: <bos> the film is just a bit of a letdown . <eos>\n",
      "Query: film wins the award it \n",
      "Response generator GRU: <bos> film wins the award it is a great film . <eos>\n",
      "Query: mention specific elements of the film which caught your attention, like \n",
      "Response generator GRU: <bos> mention specific elements of the film which caught your attention , like the first film , and the <unk> of the film . <eos>\n"
     ]
    }
   ],
   "source": [
    "for l in range(len(test_list)):\n",
    "    print('Query:', test_list[l])\n",
    "    print('Response generator GRU:', generate_sequence(model_GRU, starting_seq=test_list[l]))"
   ]
  },
  {
   "cell_type": "markdown",
   "metadata": {
    "id": "Bs1iimSHrZC2"
   },
   "source": [
    "**Сравним с LSTM**"
   ]
  },
  {
   "cell_type": "code",
   "execution_count": null,
   "metadata": {
    "execution": {
     "iopub.execute_input": "2024-10-21T13:04:55.573458Z",
     "iopub.status.busy": "2024-10-21T13:04:55.573063Z",
     "iopub.status.idle": "2024-10-21T13:04:55.671747Z",
     "shell.execute_reply": "2024-10-21T13:04:55.670783Z",
     "shell.execute_reply.started": "2024-10-21T13:04:55.573421Z"
    },
    "id": "nteWIGPwrZC2",
    "outputId": "b7b08846-6281-46f7-9900-46214b01f6b9"
   },
   "outputs": [
    {
     "name": "stdout",
     "output_type": "stream",
     "text": [
      "Query: i would highly recommend this film, especially \n",
      "Response generator LSTM: <bos> i would highly recommend this film , especially if you are a fan of the genre . <eos>\n",
      "Query: too bad only a few people saw this film, this film \n",
      "Response generator LSTM: <bos> too bad only a few people saw this film , this film was a great disappointment . <eos>\n",
      "Query: i hate films about war and violence, but \n",
      "Response generator LSTM: <bos> i hate films about war and violence , but this is a very good movie . <eos>\n",
      "Query: the film is just \n",
      "Response generator LSTM: <bos> the film is just a little bit of a letdown . <eos>\n",
      "Query: film wins the award it \n",
      "Response generator LSTM: <bos> film wins the award it deserves . <eos>\n",
      "Query: mention specific elements of the film which caught your attention, like \n",
      "Response generator LSTM: <bos> mention specific elements of the film which caught your attention , like the first one . <eos>\n"
     ]
    }
   ],
   "source": [
    "for l in range(len(test_list)):\n",
    "    print('Query:', test_list[l])\n",
    "    print('Response generator LSTM:', generate_sequence(model_LSTM, starting_seq=test_list[l]))"
   ]
  },
  {
   "cell_type": "markdown",
   "metadata": {
    "id": "4kcVqyFXrZC3"
   },
   "source": [
    "**Видим, что модель LSTM:**\n",
    "* более разнообразна, более точна;\n",
    "* меньше \"сомневается\", то есть не генерирует <unk>;\n",
    "* существенно лучше улавливает контекст запроса;\n",
    "* модель, очевидно, в частности за счет большего размера скрытого слоя, смогла уловить разнообразные связи в выборке, что проявляется в менее банальных ответах на запросы с мал контекстом: ср., the film is just ---> the film is just a little bit of a letdown"
   ]
  },
  {
   "cell_type": "markdown",
   "metadata": {
    "id": "lHcN2MOYrZC3"
   },
   "source": []
  },
  {
   "cell_type": "markdown",
   "metadata": {
    "id": "t0g3E-e4rZC3"
   },
   "source": [
    "#### Comparative_Plots of GRU & LSTM perplexities on train & test datasets"
   ]
  },
  {
   "cell_type": "code",
   "execution_count": null,
   "metadata": {
    "execution": {
     "iopub.execute_input": "2024-10-21T12:45:41.372317Z",
     "iopub.status.busy": "2024-10-21T12:45:41.371547Z",
     "iopub.status.idle": "2024-10-21T12:45:41.378752Z",
     "shell.execute_reply": "2024-10-21T12:45:41.377792Z",
     "shell.execute_reply.started": "2024-10-21T12:45:41.372275Z"
    },
    "id": "R5F4NrjLrZC3"
   },
   "outputs": [],
   "source": [
    "def comparative_plots(perplex_gru: List, perplex_lstm: List, sample: str):\n",
    "    plt.figure(figsize=(10,2))\n",
    "    plt.plot(perplex_gru, 'b', label='Model_GRU')\n",
    "    plt.plot(perplex_lstm, 'g', label='Model_LSTM')\n",
    "    plt.title(f'Perplexities on {sample}: GRU vs. LSTM')\n",
    "    plt.xlabel('Epoch')\n",
    "    plt.ylabel('Perplexity')\n",
    "    plt.legend()\n",
    "    plt.show()\n",
    "    print('Model_GRU best result',min(perplex_gru))\n",
    "    print('Model_LSTM best result',min(perplex_lstm))"
   ]
  },
  {
   "cell_type": "code",
   "execution_count": null,
   "metadata": {
    "execution": {
     "iopub.execute_input": "2024-10-21T12:46:10.895262Z",
     "iopub.status.busy": "2024-10-21T12:46:10.894870Z",
     "iopub.status.idle": "2024-10-21T12:46:11.558425Z",
     "shell.execute_reply": "2024-10-21T12:46:11.557597Z",
     "shell.execute_reply.started": "2024-10-21T12:46:10.895225Z"
    },
    "id": "Nagz6xHUrZC4",
    "outputId": "85cebc23-7b04-443d-d24e-4b07e6050ceb"
   },
   "outputs": [
    {
     "data": {
      "image/png": "[encoded data removed]",
      "text/plain": [
       "<Figure size 1000x200 with 1 Axes>"
      ]
     },
     "metadata": {},
     "output_type": "display_data"
    },
    {
     "name": "stdout",
     "output_type": "stream",
     "text": [
      "Model_GRU best result 57.955644014949456\n",
      "Model_LSTM best result 40.635457594306956\n"
     ]
    },
    {
     "data": {
      "image/png": "[encoded data removed]",
      "text/plain": [
       "<Figure size 1000x200 with 1 Axes>"
      ]
     },
     "metadata": {},
     "output_type": "display_data"
    },
    {
     "name": "stdout",
     "output_type": "stream",
     "text": [
      "Model_GRU best result 80.4172836900794\n",
      "Model_LSTM best result 66.66959422899329\n"
     ]
    }
   ],
   "source": [
    "comparative_plots(GRU_tr_perplexities,LSTM_tr_perplexities, 'TRAIN')\n",
    "comparative_plots(GRU_ev_perplexities,LSTM_ev_perplexities, 'EVAL')"
   ]
  },
  {
   "cell_type": "markdown",
   "metadata": {
    "id": "7OxIReeErZC4"
   },
   "source": []
  },
  {
   "cell_type": "code",
   "execution_count": null,
   "metadata": {
    "execution": {
     "iopub.execute_input": "2024-10-21T12:46:58.853713Z",
     "iopub.status.busy": "2024-10-21T12:46:58.852912Z",
     "iopub.status.idle": "2024-10-21T12:46:58.859616Z",
     "shell.execute_reply": "2024-10-21T12:46:58.858552Z",
     "shell.execute_reply.started": "2024-10-21T12:46:58.853673Z"
    },
    "id": "4iSOCpXvrZC5"
   },
   "outputs": [],
   "source": [
    "import pandas as pd\n",
    "def perplexity_table(per_tr_1: List, per_tr_2: List, per_eval_1: List, per_eval_2: List, n_epoch:int=5):\n",
    "    df = pd.DataFrame({'Model_GRU_tr':per_tr_1,'Model_GRU_eval':per_eval_1,'Model_LSTM_tr': per_tr_2, 'Model_LSTM_eval': per_eval_2})\n",
    "    display(df.describe())\n",
    "    df = df.T\n",
    "    df.columns = [f'epoch_{i+1}' for i in range(n_epoch)]\n",
    "    return df"
   ]
  },
  {
   "cell_type": "code",
   "execution_count": null,
   "metadata": {
    "execution": {
     "iopub.execute_input": "2024-10-21T12:48:48.119981Z",
     "iopub.status.busy": "2024-10-21T12:48:48.119127Z",
     "iopub.status.idle": "2024-10-21T12:48:48.125233Z",
     "shell.execute_reply": "2024-10-21T12:48:48.124327Z",
     "shell.execute_reply.started": "2024-10-21T12:48:48.119937Z"
    },
    "id": "EmnjJ5_6rZC5"
   },
   "outputs": [],
   "source": [
    "import pandas as pd\n",
    "def perplexity_table(model_name, tr_perplexities, ev_perplexities, n_epochs):\n",
    "    df = pd.DataFrame({model_name + '_train':tr_perplexities,\n",
    "                       model_name + '_eval':ev_perplexities})\n",
    "    df = df.T\n",
    "    df.columns = [f'epoch_{i+1}' for i in range(n_epochs)]\n",
    "    return df"
   ]
  },
  {
   "cell_type": "code",
   "execution_count": null,
   "metadata": {
    "execution": {
     "iopub.execute_input": "2024-10-21T12:49:30.940286Z",
     "iopub.status.busy": "2024-10-21T12:49:30.939374Z",
     "iopub.status.idle": "2024-10-21T12:49:30.967524Z",
     "shell.execute_reply": "2024-10-21T12:49:30.966360Z",
     "shell.execute_reply.started": "2024-10-21T12:49:30.940235Z"
    },
    "id": "V6BqusB7rZC5",
    "outputId": "f25fd68e-2bc3-457a-e763-a1087414b871"
   },
   "outputs": [
    {
     "data": {
      "text/html": [
       "<div>\n",
       "<style scoped>\n",
       "    .dataframe tbody tr th:only-of-type {\n",
       "        vertical-align: middle;\n",
       "    }\n",
       "\n",
       "    .dataframe tbody tr th {\n",
       "        vertical-align: top;\n",
       "    }\n",
       "\n",
       "    .dataframe thead th {\n",
       "        text-align: right;\n",
       "    }\n",
       "</style>\n",
       "<table border=\"1\" class=\"dataframe\">\n",
       "  <thead>\n",
       "    <tr style=\"text-align: right;\">\n",
       "      <th></th>\n",
       "      <th>epoch_1</th>\n",
       "      <th>epoch_2</th>\n",
       "      <th>epoch_3</th>\n",
       "      <th>epoch_4</th>\n",
       "      <th>epoch_5</th>\n",
       "    </tr>\n",
       "  </thead>\n",
       "  <tbody>\n",
       "    <tr>\n",
       "      <th>GRU_train</th>\n",
       "      <td>86.447741</td>\n",
       "      <td>71.531263</td>\n",
       "      <td>64.811432</td>\n",
       "      <td>60.720567</td>\n",
       "      <td>57.955644</td>\n",
       "    </tr>\n",
       "    <tr>\n",
       "      <th>GRU_eval</th>\n",
       "      <td>94.507505</td>\n",
       "      <td>84.196837</td>\n",
       "      <td>81.220827</td>\n",
       "      <td>80.417284</td>\n",
       "      <td>80.622662</td>\n",
       "    </tr>\n",
       "  </tbody>\n",
       "</table>\n",
       "</div>"
      ],
      "text/plain": [
       "             epoch_1    epoch_2    epoch_3    epoch_4    epoch_5\n",
       "GRU_train  86.447741  71.531263  64.811432  60.720567  57.955644\n",
       "GRU_eval   94.507505  84.196837  81.220827  80.417284  80.622662"
      ]
     },
     "metadata": {},
     "output_type": "display_data"
    },
    {
     "name": "stdout",
     "output_type": "stream",
     "text": [
      "\u001b[43mGRU_test 80.7459641962466\n"
     ]
    },
    {
     "data": {
      "text/html": [
       "<div>\n",
       "<style scoped>\n",
       "    .dataframe tbody tr th:only-of-type {\n",
       "        vertical-align: middle;\n",
       "    }\n",
       "\n",
       "    .dataframe tbody tr th {\n",
       "        vertical-align: top;\n",
       "    }\n",
       "\n",
       "    .dataframe thead th {\n",
       "        text-align: right;\n",
       "    }\n",
       "</style>\n",
       "<table border=\"1\" class=\"dataframe\">\n",
       "  <thead>\n",
       "    <tr style=\"text-align: right;\">\n",
       "      <th></th>\n",
       "      <th>epoch_1</th>\n",
       "      <th>epoch_2</th>\n",
       "      <th>epoch_3</th>\n",
       "      <th>epoch_4</th>\n",
       "      <th>epoch_5</th>\n",
       "      <th>epoch_6</th>\n",
       "      <th>epoch_7</th>\n",
       "    </tr>\n",
       "  </thead>\n",
       "  <tbody>\n",
       "    <tr>\n",
       "      <th>LSTM_train</th>\n",
       "      <td>82.614032</td>\n",
       "      <td>62.995619</td>\n",
       "      <td>54.474519</td>\n",
       "      <td>49.290768</td>\n",
       "      <td>45.732637</td>\n",
       "      <td>42.877165</td>\n",
       "      <td>40.635458</td>\n",
       "    </tr>\n",
       "    <tr>\n",
       "      <th>LSTM_eval</th>\n",
       "      <td>89.512311</td>\n",
       "      <td>73.684900</td>\n",
       "      <td>68.690611</td>\n",
       "      <td>66.955711</td>\n",
       "      <td>66.669594</td>\n",
       "      <td>67.193724</td>\n",
       "      <td>68.207489</td>\n",
       "    </tr>\n",
       "  </tbody>\n",
       "</table>\n",
       "</div>"
      ],
      "text/plain": [
       "              epoch_1    epoch_2    epoch_3    epoch_4    epoch_5    epoch_6  \\\n",
       "LSTM_train  82.614032  62.995619  54.474519  49.290768  45.732637  42.877165   \n",
       "LSTM_eval   89.512311  73.684900  68.690611  66.955711  66.669594  67.193724   \n",
       "\n",
       "              epoch_7  \n",
       "LSTM_train  40.635458  \n",
       "LSTM_eval   68.207489  "
      ]
     },
     "metadata": {},
     "output_type": "display_data"
    },
    {
     "name": "stdout",
     "output_type": "stream",
     "text": [
      "\u001b[42mLSTM_test 68.3429570206352\n"
     ]
    }
   ],
   "source": [
    "display(perplexity_table('GRU', GRU_tr_perplexities, GRU_ev_perplexities, 5))\n",
    "print(\"\\033[43m{}\".format('GRU_test'), GRU_test_perplexity)\n",
    "display(perplexity_table('LSTM', LSTM_tr_perplexities, LSTM_ev_perplexities, 7))\n",
    "print(\"\\033[42m{}\".format('LSTM_test'), LSTM_test_perplexity)"
   ]
  },
  {
   "cell_type": "markdown",
   "metadata": {
    "id": "Y5V9H3eoFeAu"
   },
   "source": [
    "### Отчет (2 балла)\n",
    "\n",
    "Опишите проведенные эксперименты. Сравните перплексии полученных моделей. Предложите идеи по улучшению качества моделей."
   ]
  },
  {
   "cell_type": "markdown",
   "metadata": {
    "id": "BBDCk9sWrZC6"
   },
   "source": [
    "#### Предобработка текста:\n",
    "\n",
    "1. Три датасета текстов были объеденены в один, после чего были удалены полные дубликаты, дабы при обучении не возникло утечки данных.\n",
    "2. Количество предложений без дубликатов в получившемся датасете - 745800.\n",
    "3. Длина большей части предложений находится в диапазоне: [7;25]. Так как предложения размером меньше 3 слов для данного датасета являются аномалиями, они были удалены.\n",
    "4. Все слова в предложениях были приведены к нижнему регистру, произведена токенизация предложений и слов с помощью библиотеки nltk.\n",
    "\n",
    "#### Эксперимент 1. Модель GRU с параметрами:\n",
    "* размер скрытого слоя = 256;\n",
    "* 1 рекуррентный слой;\n",
    "* dropout = 0.05.\n",
    "---\n",
    "**После обучения на 5 эпохах получены следующие результаты:**\n",
    "* loss, начиная со 2-й эпохи довольно уверенно уменьшается, также и перплексия на трейне и валид датасетах постепенно снижается  при увеличении количества эпох;\n",
    "* можно отметить колебание на валид датасете на последней эпохе: очевидно, для сходимости требовалось большее количество эпох;\n",
    "* **минимальное значение на трейне = 57.9, на евал = 80.6. Перплексия на тестовом дататесе = 80.74**;\n",
    "* среднее время обучения на 1 эпохе - 15:35;\n",
    "* генерация: иногда - совсем невпопад, иногда - \"неуверенная\", часто - \"банальная\" и очень предсказуемая.\n",
    "\n",
    "---\n",
    "\n",
    "#### Эксперимент 2. Модель LSTM с параметрами:\n",
    "* размер скрытого слоя = 512;\n",
    "* 2 рекуррентный слой;\n",
    "* dropout между рекуррентными слоями  = 0.15;\n",
    "* dropout перед выходом  = 0.15;\n",
    "* для лучшей сходимости произведена инициализация весов Ксавье;\n",
    "* использован оптимизатор AdamW\n",
    "---\n",
    "**После обучения на 7 эпохах получены следующие результаты:**\n",
    "* loss, начиная со 2-й эпохи уверенно снижается на трейне, также и перплексия на трейне постепенно снижается  при увеличении количества эпох;\n",
    "* при этом на валидации, с 6й эпохи, можно отметить небольшее увеличение перплексии: очевидно, для сходимости требовалось большее количество эпох;\n",
    "* **минимальное значение на трейне = 40.6, на евал = 66.6. Перплексия на тестовом дататесе = 68.3**;\n",
    "* среднее время обучения на 1 эпохе - 07:50;\n",
    "* генерация: более разнообразна, более точна; модель меньше \"сомневается\", то есть не генерирует <unk>; существенно лучше улавливает контекст запроса; модель, очевидно, в частности за счет большего размера скрытого слоя, смогла уловить разнообразные связи в выборке, что проявляется в менее банальных ответах на запросы с мал контекстом.\n",
    "---\n",
    "\n",
    "**ИТОГ**. Несмотря на большее (в 2 раза) время обучения LSTM модели + небольшой задержки инференса, предпочтение, конечно, отдаем ей, если нужен не быстрый и предсказуемый \"попугай\", а более интересный \"собеседник\" )."
   ]
  },
  {
   "cell_type": "code",
   "execution_count": 6,
   "metadata": {},
   "outputs": [],
   "source": [
    "import asyncio\n",
    "import os\n",
    "\n",
    "PYPPETEER_CHROMIUM_REVISION = '1263111'\n",
    "\n",
    "os.environ['PYPPETEER_CHROMIUM_REVISION'] = PYPPETEER_CHROMIUM_REVISION\n",
    "\n",
    "from pyppeteer import launch\n",
    "\n",
    "\n",
    "# async def generate_pdf(url, pdf_path):\n",
    "#     browser = await launch()\n",
    "#     page = await browser.newPage()\n",
    "    \n",
    "#     await page.goto(url)\n",
    "    \n",
    "#     await page.pdf({'path': pdf_path, 'format': 'A4'})\n",
    "    \n",
    "#     await browser.close()\n",
    "\n",
    "# # Run the function\n",
    "# asyncio.get_event_loop().run_until_complete(generate_pdf('https://example.com', 'example.pdf'))"
   ]
  },
  {
   "cell_type": "code",
   "execution_count": null,
   "metadata": {},
   "outputs": [],
   "source": []
  }
 ],
 "metadata": {
  "accelerator": "GPU",
  "colab": {
   "gpuType": "T4",
   "provenance": []
  },
  "kaggle": {
   "accelerator": "nvidiaTeslaT4",
   "dataSources": [],
   "dockerImageVersionId": 30786,
   "isGpuEnabled": true,
   "isInternetEnabled": true,
   "language": "python",
   "sourceType": "notebook"
  },
  "kernelspec": {
   "display_name": "Python 3",
   "language": "python",
   "name": "python3"
  },
  "language_info": {
   "codemirror_mode": {
    "name": "ipython",
    "version": 3
   },
   "file_extension": ".py",
   "mimetype": "text/x-python",
   "name": "python",
   "nbconvert_exporter": "python",
   "pygments_lexer": "ipython3",
   "version": "3.8.8"
  },
  "widgets": {
   "application/vnd.jupyter.widget-state+json": {
    "00336380e9da4832adc3b544c13dd6d3": {
     "model_module": "@jupyter-widgets/controls",
     "model_module_version": "1.5.0",
     "model_name": "HTMLModel",
     "state": {
      "_dom_classes": [],
      "_model_module": "@jupyter-widgets/controls",
      "_model_module_version": "1.5.0",
      "_model_name": "HTMLModel",
      "_view_count": null,
      "_view_module": "@jupyter-widgets/controls",
      "_view_module_version": "1.5.0",
      "_view_name": "HTMLView",
      "description": "",
      "description_tooltip": null,
      "layout": "IPY_MODEL_c0d417e5441841b69fe22e31adda67c3",
      "placeholder": "​",
      "style": "IPY_MODEL_6ac4316f52ec4b4fa54dcfdbda835169",
      "value": "100%"
     }
    },
    "0079526214434c4e8c0f5c34b010fb3b": {
     "model_module": "@jupyter-widgets/base",
     "model_module_version": "1.2.0",
     "model_name": "LayoutModel",
     "state": {
      "_model_module": "@jupyter-widgets/base",
      "_model_module_version": "1.2.0",
      "_model_name": "LayoutModel",
      "_view_count": null,
      "_view_module": "@jupyter-widgets/base",
      "_view_module_version": "1.2.0",
      "_view_name": "LayoutView",
      "align_content": null,
      "align_items": null,
      "align_self": null,
      "border": null,
      "bottom": null,
      "display": null,
      "flex": null,
      "flex_flow": null,
      "grid_area": null,
      "grid_auto_columns": null,
      "grid_auto_flow": null,
      "grid_auto_rows": null,
      "grid_column": null,
      "grid_gap": null,
      "grid_row": null,
      "grid_template_areas": null,
      "grid_template_columns": null,
      "grid_template_rows": null,
      "height": null,
      "justify_content": null,
      "justify_items": null,
      "left": null,
      "margin": null,
      "max_height": null,
      "max_width": null,
      "min_height": null,
      "min_width": null,
      "object_fit": null,
      "object_position": null,
      "order": null,
      "overflow": null,
      "overflow_x": null,
      "overflow_y": null,
      "padding": null,
      "right": null,
      "top": null,
      "visibility": null,
      "width": null
     }
    },
    "02ff6eefd131406a9583e6b57d198f7c": {
     "model_module": "@jupyter-widgets/controls",
     "model_module_version": "1.5.0",
     "model_name": "HTMLModel",
     "state": {
      "_dom_classes": [],
      "_model_module": "@jupyter-widgets/controls",
      "_model_module_version": "1.5.0",
      "_model_name": "HTMLModel",
      "_view_count": null,
      "_view_module": "@jupyter-widgets/controls",
      "_view_module_version": "1.5.0",
      "_view_name": "HTMLView",
      "description": "",
      "description_tooltip": null,
      "layout": "IPY_MODEL_1f5f3452dfb24c2889d6ecb9c43b6e79",
      "placeholder": "​",
      "style": "IPY_MODEL_6b7869bfa6d04feab369e3b011c37e50",
      "value": "Training epoch 1:: 100%"
     }
    },
    "036b85ee7ff746cdab8584053ab0de1d": {
     "model_module": "@jupyter-widgets/controls",
     "model_module_version": "1.5.0",
     "model_name": "HBoxModel",
     "state": {
      "_dom_classes": [],
      "_model_module": "@jupyter-widgets/controls",
      "_model_module_version": "1.5.0",
      "_model_name": "HBoxModel",
      "_view_count": null,
      "_view_module": "@jupyter-widgets/controls",
      "_view_module_version": "1.5.0",
      "_view_name": "HBoxView",
      "box_style": "",
      "children": [
       "IPY_MODEL_43d42fcae6fd497ab9f63a1382a00216",
       "IPY_MODEL_a45cffc9a62940d3b5db224c8b728ef5",
       "IPY_MODEL_7b63aefac6514412820e22b5b1ef1ddd"
      ],
      "layout": "IPY_MODEL_b3e44c56bc3243cda25aa0a6f2a05897"
     }
    },
    "03d007ca465c43cda9d595f831f4270f": {
     "model_module": "@jupyter-widgets/controls",
     "model_module_version": "1.5.0",
     "model_name": "DescriptionStyleModel",
     "state": {
      "_model_module": "@jupyter-widgets/controls",
      "_model_module_version": "1.5.0",
      "_model_name": "DescriptionStyleModel",
      "_view_count": null,
      "_view_module": "@jupyter-widgets/base",
      "_view_module_version": "1.2.0",
      "_view_name": "StyleView",
      "description_width": ""
     }
    },
    "06ab70ab75574a3c9ac434da319b009a": {
     "model_module": "@jupyter-widgets/controls",
     "model_module_version": "1.5.0",
     "model_name": "HTMLModel",
     "state": {
      "_dom_classes": [],
      "_model_module": "@jupyter-widgets/controls",
      "_model_module_version": "1.5.0",
      "_model_name": "HTMLModel",
      "_view_count": null,
      "_view_module": "@jupyter-widgets/controls",
      "_view_module_version": "1.5.0",
      "_view_name": "HTMLView",
      "description": "",
      "description_tooltip": null,
      "layout": "IPY_MODEL_7923cdc471fb44158fdbcead8f6273ef",
      "placeholder": "​",
      "style": "IPY_MODEL_8ac1f1c359ff4946b94315bd0c7f410d",
      "value": " 21.0M/21.0M [00:00&lt;00:00, 72.7MB/s]"
     }
    },
    "074420e193c44dc7af0d50bd94f80099": {
     "model_module": "@jupyter-widgets/controls",
     "model_module_version": "1.5.0",
     "model_name": "FloatProgressModel",
     "state": {
      "_dom_classes": [],
      "_model_module": "@jupyter-widgets/controls",
      "_model_module_version": "1.5.0",
      "_model_name": "FloatProgressModel",
      "_view_count": null,
      "_view_module": "@jupyter-widgets/controls",
      "_view_module_version": "1.5.0",
      "_view_name": "ProgressView",
      "bar_style": "success",
      "description": "",
      "description_tooltip": null,
      "layout": "IPY_MODEL_9297b4e4036544378c32962912132f5b",
      "max": 20470363,
      "min": 0,
      "orientation": "horizontal",
      "style": "IPY_MODEL_1021fa7ff0dc4209ba72b4f5d89e6979",
      "value": 20470363
     }
    },
    "075f78aba8a44a25848ee9cb2dd344c1": {
     "model_module": "@jupyter-widgets/base",
     "model_module_version": "1.2.0",
     "model_name": "LayoutModel",
     "state": {
      "_model_module": "@jupyter-widgets/base",
      "_model_module_version": "1.2.0",
      "_model_name": "LayoutModel",
      "_view_count": null,
      "_view_module": "@jupyter-widgets/base",
      "_view_module_version": "1.2.0",
      "_view_name": "LayoutView",
      "align_content": null,
      "align_items": null,
      "align_self": null,
      "border": null,
      "bottom": null,
      "display": null,
      "flex": null,
      "flex_flow": null,
      "grid_area": null,
      "grid_auto_columns": null,
      "grid_auto_flow": null,
      "grid_auto_rows": null,
      "grid_column": null,
      "grid_gap": null,
      "grid_row": null,
      "grid_template_areas": null,
      "grid_template_columns": null,
      "grid_template_rows": null,
      "height": null,
      "justify_content": null,
      "justify_items": null,
      "left": null,
      "margin": null,
      "max_height": null,
      "max_width": null,
      "min_height": null,
      "min_width": null,
      "object_fit": null,
      "object_position": null,
      "order": null,
      "overflow": null,
      "overflow_x": null,
      "overflow_y": null,
      "padding": null,
      "right": null,
      "top": null,
      "visibility": null,
      "width": null
     }
    },
    "0ac3918e60ab406ea2b35e5acec7cd1f": {
     "model_module": "@jupyter-widgets/controls",
     "model_module_version": "1.5.0",
     "model_name": "DescriptionStyleModel",
     "state": {
      "_model_module": "@jupyter-widgets/controls",
      "_model_module_version": "1.5.0",
      "_model_name": "DescriptionStyleModel",
      "_view_count": null,
      "_view_module": "@jupyter-widgets/base",
      "_view_module_version": "1.2.0",
      "_view_name": "StyleView",
      "description_width": ""
     }
    },
    "0af1f95cb8c7415da548f35ce2d26a87": {
     "model_module": "@jupyter-widgets/controls",
     "model_module_version": "1.5.0",
     "model_name": "HTMLModel",
     "state": {
      "_dom_classes": [],
      "_model_module": "@jupyter-widgets/controls",
      "_model_module_version": "1.5.0",
      "_model_name": "HTMLModel",
      "_view_count": null,
      "_view_module": "@jupyter-widgets/controls",
      "_view_module_version": "1.5.0",
      "_view_name": "HTMLView",
      "description": "",
      "description_tooltip": null,
      "layout": "IPY_MODEL_2db73f2805d34c5f984aa57ed778b9a7",
      "placeholder": "​",
      "style": "IPY_MODEL_bf35170a909a44f1be7c07d73a610310",
      "value": "Generating train split: 100%"
     }
    },
    "0b32820565274936bfca114e7473f8d5": {
     "model_module": "@jupyter-widgets/base",
     "model_module_version": "1.2.0",
     "model_name": "LayoutModel",
     "state": {
      "_model_module": "@jupyter-widgets/base",
      "_model_module_version": "1.2.0",
      "_model_name": "LayoutModel",
      "_view_count": null,
      "_view_module": "@jupyter-widgets/base",
      "_view_module_version": "1.2.0",
      "_view_name": "LayoutView",
      "align_content": null,
      "align_items": null,
      "align_self": null,
      "border": null,
      "bottom": null,
      "display": null,
      "flex": null,
      "flex_flow": null,
      "grid_area": null,
      "grid_auto_columns": null,
      "grid_auto_flow": null,
      "grid_auto_rows": null,
      "grid_column": null,
      "grid_gap": null,
      "grid_row": null,
      "grid_template_areas": null,
      "grid_template_columns": null,
      "grid_template_rows": null,
      "height": null,
      "justify_content": null,
      "justify_items": null,
      "left": null,
      "margin": null,
      "max_height": null,
      "max_width": null,
      "min_height": null,
      "min_width": null,
      "object_fit": null,
      "object_position": null,
      "order": null,
      "overflow": null,
      "overflow_x": null,
      "overflow_y": null,
      "padding": null,
      "right": null,
      "top": null,
      "visibility": null,
      "width": null
     }
    },
    "0d62a249b08247f2b30aeedcac9b4ab5": {
     "model_module": "@jupyter-widgets/controls",
     "model_module_version": "1.5.0",
     "model_name": "FloatProgressModel",
     "state": {
      "_dom_classes": [],
      "_model_module": "@jupyter-widgets/controls",
      "_model_module_version": "1.5.0",
      "_model_name": "FloatProgressModel",
      "_view_count": null,
      "_view_module": "@jupyter-widgets/controls",
      "_view_module_version": "1.5.0",
      "_view_name": "ProgressView",
      "bar_style": "success",
      "description": "",
      "description_tooltip": null,
      "layout": "IPY_MODEL_ec526024aa0d4461bb3bc846dab86295",
      "max": 4591,
      "min": 0,
      "orientation": "horizontal",
      "style": "IPY_MODEL_b5a62cb3edd340ce89165e0d89213589",
      "value": 4591
     }
    },
    "0e63b65cc5fd435aa97b32652d872d9f": {
     "model_module": "@jupyter-widgets/controls",
     "model_module_version": "1.5.0",
     "model_name": "HTMLModel",
     "state": {
      "_dom_classes": [],
      "_model_module": "@jupyter-widgets/controls",
      "_model_module_version": "1.5.0",
      "_model_name": "HTMLModel",
      "_view_count": null,
      "_view_module": "@jupyter-widgets/controls",
      "_view_module_version": "1.5.0",
      "_view_name": "HTMLView",
      "description": "",
      "description_tooltip": null,
      "layout": "IPY_MODEL_0b32820565274936bfca114e7473f8d5",
      "placeholder": "​",
      "style": "IPY_MODEL_5e162e39e7c14c59a0e4dc1d144d392a",
      "value": " 25000/25000 [00:00&lt;00:00, 71961.46 examples/s]"
     }
    },
    "1021fa7ff0dc4209ba72b4f5d89e6979": {
     "model_module": "@jupyter-widgets/controls",
     "model_module_version": "1.5.0",
     "model_name": "ProgressStyleModel",
     "state": {
      "_model_module": "@jupyter-widgets/controls",
      "_model_module_version": "1.5.0",
      "_model_name": "ProgressStyleModel",
      "_view_count": null,
      "_view_module": "@jupyter-widgets/base",
      "_view_module_version": "1.2.0",
      "_view_name": "StyleView",
      "bar_color": null,
      "description_width": ""
     }
    },
    "104117a9f1404275848eb546c3fe1e4e": {
     "model_module": "@jupyter-widgets/base",
     "model_module_version": "1.2.0",
     "model_name": "LayoutModel",
     "state": {
      "_model_module": "@jupyter-widgets/base",
      "_model_module_version": "1.2.0",
      "_model_name": "LayoutModel",
      "_view_count": null,
      "_view_module": "@jupyter-widgets/base",
      "_view_module_version": "1.2.0",
      "_view_name": "LayoutView",
      "align_content": null,
      "align_items": null,
      "align_self": null,
      "border": null,
      "bottom": null,
      "display": null,
      "flex": null,
      "flex_flow": null,
      "grid_area": null,
      "grid_auto_columns": null,
      "grid_auto_flow": null,
      "grid_auto_rows": null,
      "grid_column": null,
      "grid_gap": null,
      "grid_row": null,
      "grid_template_areas": null,
      "grid_template_columns": null,
      "grid_template_rows": null,
      "height": null,
      "justify_content": null,
      "justify_items": null,
      "left": null,
      "margin": null,
      "max_height": null,
      "max_width": null,
      "min_height": null,
      "min_width": null,
      "object_fit": null,
      "object_position": null,
      "order": null,
      "overflow": null,
      "overflow_x": null,
      "overflow_y": null,
      "padding": null,
      "right": null,
      "top": null,
      "visibility": null,
      "width": null
     }
    },
    "11cfa48e4fbd44b2bb1dccc02edc9bd5": {
     "model_module": "@jupyter-widgets/controls",
     "model_module_version": "1.5.0",
     "model_name": "DescriptionStyleModel",
     "state": {
      "_model_module": "@jupyter-widgets/controls",
      "_model_module_version": "1.5.0",
      "_model_name": "DescriptionStyleModel",
      "_view_count": null,
      "_view_module": "@jupyter-widgets/base",
      "_view_module_version": "1.2.0",
      "_view_name": "StyleView",
      "description_width": ""
     }
    },
    "158a3518028d4bafbb70e05e53a63d61": {
     "model_module": "@jupyter-widgets/controls",
     "model_module_version": "1.5.0",
     "model_name": "HTMLModel",
     "state": {
      "_dom_classes": [],
      "_model_module": "@jupyter-widgets/controls",
      "_model_module_version": "1.5.0",
      "_model_name": "HTMLModel",
      "_view_count": null,
      "_view_module": "@jupyter-widgets/controls",
      "_view_module_version": "1.5.0",
      "_view_name": "HTMLView",
      "description": "",
      "description_tooltip": null,
      "layout": "IPY_MODEL_0079526214434c4e8c0f5c34b010fb3b",
      "placeholder": "​",
      "style": "IPY_MODEL_cb0c70c525e746b0afd544b791bcdec7",
      "value": " 100000/100000 [03:46&lt;00:00, 507.67it/s]"
     }
    },
    "1785f015f4a5415a96bb01102484c3ae": {
     "model_module": "@jupyter-widgets/controls",
     "model_module_version": "1.5.0",
     "model_name": "DescriptionStyleModel",
     "state": {
      "_model_module": "@jupyter-widgets/controls",
      "_model_module_version": "1.5.0",
      "_model_name": "DescriptionStyleModel",
      "_view_count": null,
      "_view_module": "@jupyter-widgets/base",
      "_view_module_version": "1.2.0",
      "_view_name": "StyleView",
      "description_width": ""
     }
    },
    "17e283331fc74a32a78e049116faaf89": {
     "model_module": "@jupyter-widgets/controls",
     "model_module_version": "1.5.0",
     "model_name": "DescriptionStyleModel",
     "state": {
      "_model_module": "@jupyter-widgets/controls",
      "_model_module_version": "1.5.0",
      "_model_name": "DescriptionStyleModel",
      "_view_count": null,
      "_view_module": "@jupyter-widgets/base",
      "_view_module_version": "1.2.0",
      "_view_name": "StyleView",
      "description_width": ""
     }
    },
    "1809807be418403ca10d53207b5b1ec8": {
     "model_module": "@jupyter-widgets/base",
     "model_module_version": "1.2.0",
     "model_name": "LayoutModel",
     "state": {
      "_model_module": "@jupyter-widgets/base",
      "_model_module_version": "1.2.0",
      "_model_name": "LayoutModel",
      "_view_count": null,
      "_view_module": "@jupyter-widgets/base",
      "_view_module_version": "1.2.0",
      "_view_name": "LayoutView",
      "align_content": null,
      "align_items": null,
      "align_self": null,
      "border": null,
      "bottom": null,
      "display": null,
      "flex": null,
      "flex_flow": null,
      "grid_area": null,
      "grid_auto_columns": null,
      "grid_auto_flow": null,
      "grid_auto_rows": null,
      "grid_column": null,
      "grid_gap": null,
      "grid_row": null,
      "grid_template_areas": null,
      "grid_template_columns": null,
      "grid_template_rows": null,
      "height": null,
      "justify_content": null,
      "justify_items": null,
      "left": null,
      "margin": null,
      "max_height": null,
      "max_width": null,
      "min_height": null,
      "min_width": null,
      "object_fit": null,
      "object_position": null,
      "order": null,
      "overflow": null,
      "overflow_x": null,
      "overflow_y": null,
      "padding": null,
      "right": null,
      "top": null,
      "visibility": null,
      "width": null
     }
    },
    "187d549c10354b2abc8e729b8fb88e40": {
     "model_module": "@jupyter-widgets/controls",
     "model_module_version": "1.5.0",
     "model_name": "HTMLModel",
     "state": {
      "_dom_classes": [],
      "_model_module": "@jupyter-widgets/controls",
      "_model_module_version": "1.5.0",
      "_model_name": "HTMLModel",
      "_view_count": null,
      "_view_module": "@jupyter-widgets/controls",
      "_view_module_version": "1.5.0",
      "_view_name": "HTMLView",
      "description": "",
      "description_tooltip": null,
      "layout": "IPY_MODEL_82dc1bce9aa04995abaa8a0b5e931e50",
      "placeholder": "​",
      "style": "IPY_MODEL_9a3c33883b0f4caeb5bb5970e0f3fbc6",
      "value": "README.md: 100%"
     }
    },
    "193d4e0c4d9d42208f0f4fce3eac401f": {
     "model_module": "@jupyter-widgets/controls",
     "model_module_version": "1.5.0",
     "model_name": "DescriptionStyleModel",
     "state": {
      "_model_module": "@jupyter-widgets/controls",
      "_model_module_version": "1.5.0",
      "_model_name": "DescriptionStyleModel",
      "_view_count": null,
      "_view_module": "@jupyter-widgets/base",
      "_view_module_version": "1.2.0",
      "_view_name": "StyleView",
      "description_width": ""
     }
    },
    "19efb34b5aac4d8f99e6db13ddaa9dfc": {
     "model_module": "@jupyter-widgets/base",
     "model_module_version": "1.2.0",
     "model_name": "LayoutModel",
     "state": {
      "_model_module": "@jupyter-widgets/base",
      "_model_module_version": "1.2.0",
      "_model_name": "LayoutModel",
      "_view_count": null,
      "_view_module": "@jupyter-widgets/base",
      "_view_module_version": "1.2.0",
      "_view_name": "LayoutView",
      "align_content": null,
      "align_items": null,
      "align_self": null,
      "border": null,
      "bottom": null,
      "display": null,
      "flex": null,
      "flex_flow": null,
      "grid_area": null,
      "grid_auto_columns": null,
      "grid_auto_flow": null,
      "grid_auto_rows": null,
      "grid_column": null,
      "grid_gap": null,
      "grid_row": null,
      "grid_template_areas": null,
      "grid_template_columns": null,
      "grid_template_rows": null,
      "height": null,
      "justify_content": null,
      "justify_items": null,
      "left": null,
      "margin": null,
      "max_height": null,
      "max_width": null,
      "min_height": null,
      "min_width": null,
      "object_fit": null,
      "object_position": null,
      "order": null,
      "overflow": null,
      "overflow_x": null,
      "overflow_y": null,
      "padding": null,
      "right": null,
      "top": null,
      "visibility": null,
      "width": null
     }
    },
    "1a0f87df7cbc44839a40077b5be962a4": {
     "model_module": "@jupyter-widgets/controls",
     "model_module_version": "1.5.0",
     "model_name": "HTMLModel",
     "state": {
      "_dom_classes": [],
      "_model_module": "@jupyter-widgets/controls",
      "_model_module_version": "1.5.0",
      "_model_name": "HTMLModel",
      "_view_count": null,
      "_view_module": "@jupyter-widgets/controls",
      "_view_module_version": "1.5.0",
      "_view_name": "HTMLView",
      "description": "",
      "description_tooltip": null,
      "layout": "IPY_MODEL_6934c5203728446fb7191bc46eb3e95f",
      "placeholder": "​",
      "style": "IPY_MODEL_193d4e0c4d9d42208f0f4fce3eac401f",
      "value": " 50000/50000 [00:01&lt;00:00, 49851.64 examples/s]"
     }
    },
    "1ad8d0cf2e9741c3a42429597b49657b": {
     "model_module": "@jupyter-widgets/controls",
     "model_module_version": "1.5.0",
     "model_name": "DescriptionStyleModel",
     "state": {
      "_model_module": "@jupyter-widgets/controls",
      "_model_module_version": "1.5.0",
      "_model_name": "DescriptionStyleModel",
      "_view_count": null,
      "_view_module": "@jupyter-widgets/base",
      "_view_module_version": "1.2.0",
      "_view_name": "StyleView",
      "description_width": ""
     }
    },
    "1e38f25d405843a9869e28e3fd5c0e16": {
     "model_module": "@jupyter-widgets/controls",
     "model_module_version": "1.5.0",
     "model_name": "FloatProgressModel",
     "state": {
      "_dom_classes": [],
      "_model_module": "@jupyter-widgets/controls",
      "_model_module_version": "1.5.0",
      "_model_name": "FloatProgressModel",
      "_view_count": null,
      "_view_module": "@jupyter-widgets/controls",
      "_view_module_version": "1.5.0",
      "_view_name": "ProgressView",
      "bar_style": "success",
      "description": "",
      "description_tooltip": null,
      "layout": "IPY_MODEL_f626c3fbdc6c427a949707d40055360c",
      "max": 100000,
      "min": 0,
      "orientation": "horizontal",
      "style": "IPY_MODEL_f08435dcc47f492881dc7a999ed45d18",
      "value": 100000
     }
    },
    "1f56b9cdbfef4e65ba42909acfc7b435": {
     "model_module": "@jupyter-widgets/controls",
     "model_module_version": "1.5.0",
     "model_name": "HTMLModel",
     "state": {
      "_dom_classes": [],
      "_model_module": "@jupyter-widgets/controls",
      "_model_module_version": "1.5.0",
      "_model_name": "HTMLModel",
      "_view_count": null,
      "_view_module": "@jupyter-widgets/controls",
      "_view_module_version": "1.5.0",
      "_view_name": "HTMLView",
      "description": "",
      "description_tooltip": null,
      "layout": "IPY_MODEL_6e5894df46fe48158911eda4edb5a20a",
      "placeholder": "​",
      "style": "IPY_MODEL_1785f015f4a5415a96bb01102484c3ae",
      "value": "Training epoch 4:: 100%"
     }
    },
    "1f5f3452dfb24c2889d6ecb9c43b6e79": {
     "model_module": "@jupyter-widgets/base",
     "model_module_version": "1.2.0",
     "model_name": "LayoutModel",
     "state": {
      "_model_module": "@jupyter-widgets/base",
      "_model_module_version": "1.2.0",
      "_model_name": "LayoutModel",
      "_view_count": null,
      "_view_module": "@jupyter-widgets/base",
      "_view_module_version": "1.2.0",
      "_view_name": "LayoutView",
      "align_content": null,
      "align_items": null,
      "align_self": null,
      "border": null,
      "bottom": null,
      "display": null,
      "flex": null,
      "flex_flow": null,
      "grid_area": null,
      "grid_auto_columns": null,
      "grid_auto_flow": null,
      "grid_auto_rows": null,
      "grid_column": null,
      "grid_gap": null,
      "grid_row": null,
      "grid_template_areas": null,
      "grid_template_columns": null,
      "grid_template_rows": null,
      "height": null,
      "justify_content": null,
      "justify_items": null,
      "left": null,
      "margin": null,
      "max_height": null,
      "max_width": null,
      "min_height": null,
      "min_width": null,
      "object_fit": null,
      "object_position": null,
      "order": null,
      "overflow": null,
      "overflow_x": null,
      "overflow_y": null,
      "padding": null,
      "right": null,
      "top": null,
      "visibility": null,
      "width": null
     }
    },
    "1fa89d2cba35408c9842fcfc6fd0aa89": {
     "model_module": "@jupyter-widgets/controls",
     "model_module_version": "1.5.0",
     "model_name": "HBoxModel",
     "state": {
      "_dom_classes": [],
      "_model_module": "@jupyter-widgets/controls",
      "_model_module_version": "1.5.0",
      "_model_name": "HBoxModel",
      "_view_count": null,
      "_view_module": "@jupyter-widgets/controls",
      "_view_module_version": "1.5.0",
      "_view_name": "HBoxView",
      "box_style": "",
      "children": [
       "IPY_MODEL_7a5fc876d61a4cbea75b94508893cffe",
       "IPY_MODEL_70f5820554444a3cbb8bad63f6c9d1a8",
       "IPY_MODEL_7b0712aff98b4d29a70294cd41ff1c68"
      ],
      "layout": "IPY_MODEL_85ca3be84c6a41e186aa73799dfa9a3d"
     }
    },
    "1fbb95ecd8c34c77950ade6d79c8d1b5": {
     "model_module": "@jupyter-widgets/controls",
     "model_module_version": "1.5.0",
     "model_name": "ProgressStyleModel",
     "state": {
      "_model_module": "@jupyter-widgets/controls",
      "_model_module_version": "1.5.0",
      "_model_name": "ProgressStyleModel",
      "_view_count": null,
      "_view_module": "@jupyter-widgets/base",
      "_view_module_version": "1.2.0",
      "_view_name": "StyleView",
      "bar_color": null,
      "description_width": ""
     }
    },
    "2097a7d146b04beda30b169477aa4fe4": {
     "model_module": "@jupyter-widgets/controls",
     "model_module_version": "1.5.0",
     "model_name": "FloatProgressModel",
     "state": {
      "_dom_classes": [],
      "_model_module": "@jupyter-widgets/controls",
      "_model_module_version": "1.5.0",
      "_model_name": "FloatProgressModel",
      "_view_count": null,
      "_view_module": "@jupyter-widgets/controls",
      "_view_module_version": "1.5.0",
      "_view_name": "ProgressView",
      "bar_style": "success",
      "description": "",
      "description_tooltip": null,
      "layout": "IPY_MODEL_ee1f92ce655a41a4a3262f0ed0f4d4b0",
      "max": 745312,
      "min": 0,
      "orientation": "horizontal",
      "style": "IPY_MODEL_6bdb3e433867447f949c1bda7fcbcb4c",
      "value": 745312
     }
    },
    "20dad0b2aa5944389078bf3dba6103e9": {
     "model_module": "@jupyter-widgets/controls",
     "model_module_version": "1.5.0",
     "model_name": "ProgressStyleModel",
     "state": {
      "_model_module": "@jupyter-widgets/controls",
      "_model_module_version": "1.5.0",
      "_model_name": "ProgressStyleModel",
      "_view_count": null,
      "_view_module": "@jupyter-widgets/base",
      "_view_module_version": "1.2.0",
      "_view_name": "StyleView",
      "bar_color": null,
      "description_width": ""
     }
    },
    "23e6ed00e42c4d31a248be91665841b3": {
     "model_module": "@jupyter-widgets/controls",
     "model_module_version": "1.5.0",
     "model_name": "HTMLModel",
     "state": {
      "_dom_classes": [],
      "_model_module": "@jupyter-widgets/controls",
      "_model_module_version": "1.5.0",
      "_model_name": "HTMLModel",
      "_view_count": null,
      "_view_module": "@jupyter-widgets/controls",
      "_view_module_version": "1.5.0",
      "_view_name": "HTMLView",
      "description": "",
      "description_tooltip": null,
      "layout": "IPY_MODEL_4c20d482a846471f9e29081ccc4f9804",
      "placeholder": "​",
      "style": "IPY_MODEL_3806f1b486544d9fb7117886a8a24814",
      "value": " 4591/4591 [07:58&lt;00:00,  9.61it/s]"
     }
    },
    "243e53340e4a4e4a805ec4005002744e": {
     "model_module": "@jupyter-widgets/controls",
     "model_module_version": "1.5.0",
     "model_name": "HTMLModel",
     "state": {
      "_dom_classes": [],
      "_model_module": "@jupyter-widgets/controls",
      "_model_module_version": "1.5.0",
      "_model_name": "HTMLModel",
      "_view_count": null,
      "_view_module": "@jupyter-widgets/controls",
      "_view_module_version": "1.5.0",
      "_view_name": "HTMLView",
      "description": "",
      "description_tooltip": null,
      "layout": "IPY_MODEL_887af87e09a24f83b85155fb1451ed49",
      "placeholder": "​",
      "style": "IPY_MODEL_03d007ca465c43cda9d595f831f4270f",
      "value": "Training epoch 1::  26%"
     }
    },
    "25a45e3d68d84e508fec51e9f4bd45b6": {
     "model_module": "@jupyter-widgets/base",
     "model_module_version": "1.2.0",
     "model_name": "LayoutModel",
     "state": {
      "_model_module": "@jupyter-widgets/base",
      "_model_module_version": "1.2.0",
      "_model_name": "LayoutModel",
      "_view_count": null,
      "_view_module": "@jupyter-widgets/base",
      "_view_module_version": "1.2.0",
      "_view_name": "LayoutView",
      "align_content": null,
      "align_items": null,
      "align_self": null,
      "border": null,
      "bottom": null,
      "display": null,
      "flex": null,
      "flex_flow": null,
      "grid_area": null,
      "grid_auto_columns": null,
      "grid_auto_flow": null,
      "grid_auto_rows": null,
      "grid_column": null,
      "grid_gap": null,
      "grid_row": null,
      "grid_template_areas": null,
      "grid_template_columns": null,
      "grid_template_rows": null,
      "height": null,
      "justify_content": null,
      "justify_items": null,
      "left": null,
      "margin": null,
      "max_height": null,
      "max_width": null,
      "min_height": null,
      "min_width": null,
      "object_fit": null,
      "object_position": null,
      "order": null,
      "overflow": null,
      "overflow_x": null,
      "overflow_y": null,
      "padding": null,
      "right": null,
      "top": null,
      "visibility": null,
      "width": null
     }
    },
    "27d6f4c95c53439285a507db889c4261": {
     "model_module": "@jupyter-widgets/controls",
     "model_module_version": "1.5.0",
     "model_name": "HTMLModel",
     "state": {
      "_dom_classes": [],
      "_model_module": "@jupyter-widgets/controls",
      "_model_module_version": "1.5.0",
      "_model_name": "HTMLModel",
      "_view_count": null,
      "_view_module": "@jupyter-widgets/controls",
      "_view_module_version": "1.5.0",
      "_view_name": "HTMLView",
      "description": "",
      "description_tooltip": null,
      "layout": "IPY_MODEL_f888236fa5904f39adf9d4c0a19aa3b4",
      "placeholder": "​",
      "style": "IPY_MODEL_a302ea9fb68645bd85c6039ee9e30369",
      "value": " 4591/4591 [07:58&lt;00:00,  9.68it/s]"
     }
    },
    "2a3d02a3e437467fa8fed61a5fd86d5d": {
     "model_module": "@jupyter-widgets/base",
     "model_module_version": "1.2.0",
     "model_name": "LayoutModel",
     "state": {
      "_model_module": "@jupyter-widgets/base",
      "_model_module_version": "1.2.0",
      "_model_name": "LayoutModel",
      "_view_count": null,
      "_view_module": "@jupyter-widgets/base",
      "_view_module_version": "1.2.0",
      "_view_name": "LayoutView",
      "align_content": null,
      "align_items": null,
      "align_self": null,
      "border": null,
      "bottom": null,
      "display": null,
      "flex": null,
      "flex_flow": null,
      "grid_area": null,
      "grid_auto_columns": null,
      "grid_auto_flow": null,
      "grid_auto_rows": null,
      "grid_column": null,
      "grid_gap": null,
      "grid_row": null,
      "grid_template_areas": null,
      "grid_template_columns": null,
      "grid_template_rows": null,
      "height": null,
      "justify_content": null,
      "justify_items": null,
      "left": null,
      "margin": null,
      "max_height": null,
      "max_width": null,
      "min_height": null,
      "min_width": null,
      "object_fit": null,
      "object_position": null,
      "order": null,
      "overflow": null,
      "overflow_x": null,
      "overflow_y": null,
      "padding": null,
      "right": null,
      "top": null,
      "visibility": null,
      "width": null
     }
    },
    "2a8f548fdd674c57b66c3d2f5fd47c47": {
     "model_module": "@jupyter-widgets/controls",
     "model_module_version": "1.5.0",
     "model_name": "HTMLModel",
     "state": {
      "_dom_classes": [],
      "_model_module": "@jupyter-widgets/controls",
      "_model_module_version": "1.5.0",
      "_model_name": "HTMLModel",
      "_view_count": null,
      "_view_module": "@jupyter-widgets/controls",
      "_view_module_version": "1.5.0",
      "_view_name": "HTMLView",
      "description": "",
      "description_tooltip": null,
      "layout": "IPY_MODEL_19efb34b5aac4d8f99e6db13ddaa9dfc",
      "placeholder": "​",
      "style": "IPY_MODEL_bd67ce0eb433450b9dcc403607279008",
      "value": "test-00000-of-00001.parquet: 100%"
     }
    },
    "2b78feb13acb4c27a12d9eeb0899488a": {
     "model_module": "@jupyter-widgets/controls",
     "model_module_version": "1.5.0",
     "model_name": "HBoxModel",
     "state": {
      "_dom_classes": [],
      "_model_module": "@jupyter-widgets/controls",
      "_model_module_version": "1.5.0",
      "_model_name": "HBoxModel",
      "_view_count": null,
      "_view_module": "@jupyter-widgets/controls",
      "_view_module_version": "1.5.0",
      "_view_name": "HBoxView",
      "box_style": "",
      "children": [
       "IPY_MODEL_0af1f95cb8c7415da548f35ce2d26a87",
       "IPY_MODEL_39c22b4523704c92972032d4d87b33cf",
       "IPY_MODEL_bdc63baf6b51481ab95b77f80527e32c"
      ],
      "layout": "IPY_MODEL_fa939e352c8543a68047202293105a0e"
     }
    },
    "2db73f2805d34c5f984aa57ed778b9a7": {
     "model_module": "@jupyter-widgets/base",
     "model_module_version": "1.2.0",
     "model_name": "LayoutModel",
     "state": {
      "_model_module": "@jupyter-widgets/base",
      "_model_module_version": "1.2.0",
      "_model_name": "LayoutModel",
      "_view_count": null,
      "_view_module": "@jupyter-widgets/base",
      "_view_module_version": "1.2.0",
      "_view_name": "LayoutView",
      "align_content": null,
      "align_items": null,
      "align_self": null,
      "border": null,
      "bottom": null,
      "display": null,
      "flex": null,
      "flex_flow": null,
      "grid_area": null,
      "grid_auto_columns": null,
      "grid_auto_flow": null,
      "grid_auto_rows": null,
      "grid_column": null,
      "grid_gap": null,
      "grid_row": null,
      "grid_template_areas": null,
      "grid_template_columns": null,
      "grid_template_rows": null,
      "height": null,
      "justify_content": null,
      "justify_items": null,
      "left": null,
      "margin": null,
      "max_height": null,
      "max_width": null,
      "min_height": null,
      "min_width": null,
      "object_fit": null,
      "object_position": null,
      "order": null,
      "overflow": null,
      "overflow_x": null,
      "overflow_y": null,
      "padding": null,
      "right": null,
      "top": null,
      "visibility": null,
      "width": null
     }
    },
    "34c067644f0349daabea05698650ad71": {
     "model_module": "@jupyter-widgets/base",
     "model_module_version": "1.2.0",
     "model_name": "LayoutModel",
     "state": {
      "_model_module": "@jupyter-widgets/base",
      "_model_module_version": "1.2.0",
      "_model_name": "LayoutModel",
      "_view_count": null,
      "_view_module": "@jupyter-widgets/base",
      "_view_module_version": "1.2.0",
      "_view_name": "LayoutView",
      "align_content": null,
      "align_items": null,
      "align_self": null,
      "border": null,
      "bottom": null,
      "display": null,
      "flex": null,
      "flex_flow": null,
      "grid_area": null,
      "grid_auto_columns": null,
      "grid_auto_flow": null,
      "grid_auto_rows": null,
      "grid_column": null,
      "grid_gap": null,
      "grid_row": null,
      "grid_template_areas": null,
      "grid_template_columns": null,
      "grid_template_rows": null,
      "height": null,
      "justify_content": null,
      "justify_items": null,
      "left": null,
      "margin": null,
      "max_height": null,
      "max_width": null,
      "min_height": null,
      "min_width": null,
      "object_fit": null,
      "object_position": null,
      "order": null,
      "overflow": null,
      "overflow_x": null,
      "overflow_y": null,
      "padding": null,
      "right": null,
      "top": null,
      "visibility": null,
      "width": null
     }
    },
    "364b6f6260b24fb480a358b97a4a59c3": {
     "model_module": "@jupyter-widgets/controls",
     "model_module_version": "1.5.0",
     "model_name": "ProgressStyleModel",
     "state": {
      "_model_module": "@jupyter-widgets/controls",
      "_model_module_version": "1.5.0",
      "_model_name": "ProgressStyleModel",
      "_view_count": null,
      "_view_module": "@jupyter-widgets/base",
      "_view_module_version": "1.2.0",
      "_view_name": "StyleView",
      "bar_color": null,
      "description_width": ""
     }
    },
    "3806f1b486544d9fb7117886a8a24814": {
     "model_module": "@jupyter-widgets/controls",
     "model_module_version": "1.5.0",
     "model_name": "DescriptionStyleModel",
     "state": {
      "_model_module": "@jupyter-widgets/controls",
      "_model_module_version": "1.5.0",
      "_model_name": "DescriptionStyleModel",
      "_view_count": null,
      "_view_module": "@jupyter-widgets/base",
      "_view_module_version": "1.2.0",
      "_view_name": "StyleView",
      "description_width": ""
     }
    },
    "3855761668194962a580af293681e740": {
     "model_module": "@jupyter-widgets/base",
     "model_module_version": "1.2.0",
     "model_name": "LayoutModel",
     "state": {
      "_model_module": "@jupyter-widgets/base",
      "_model_module_version": "1.2.0",
      "_model_name": "LayoutModel",
      "_view_count": null,
      "_view_module": "@jupyter-widgets/base",
      "_view_module_version": "1.2.0",
      "_view_name": "LayoutView",
      "align_content": null,
      "align_items": null,
      "align_self": null,
      "border": null,
      "bottom": null,
      "display": null,
      "flex": null,
      "flex_flow": null,
      "grid_area": null,
      "grid_auto_columns": null,
      "grid_auto_flow": null,
      "grid_auto_rows": null,
      "grid_column": null,
      "grid_gap": null,
      "grid_row": null,
      "grid_template_areas": null,
      "grid_template_columns": null,
      "grid_template_rows": null,
      "height": null,
      "justify_content": null,
      "justify_items": null,
      "left": null,
      "margin": null,
      "max_height": null,
      "max_width": null,
      "min_height": null,
      "min_width": null,
      "object_fit": null,
      "object_position": null,
      "order": null,
      "overflow": null,
      "overflow_x": null,
      "overflow_y": null,
      "padding": null,
      "right": null,
      "top": null,
      "visibility": null,
      "width": null
     }
    },
    "39c22b4523704c92972032d4d87b33cf": {
     "model_module": "@jupyter-widgets/controls",
     "model_module_version": "1.5.0",
     "model_name": "FloatProgressModel",
     "state": {
      "_dom_classes": [],
      "_model_module": "@jupyter-widgets/controls",
      "_model_module_version": "1.5.0",
      "_model_name": "FloatProgressModel",
      "_view_count": null,
      "_view_module": "@jupyter-widgets/controls",
      "_view_module_version": "1.5.0",
      "_view_name": "ProgressView",
      "bar_style": "success",
      "description": "",
      "description_tooltip": null,
      "layout": "IPY_MODEL_a6ef7919c2bc45678225b353268ccb67",
      "max": 25000,
      "min": 0,
      "orientation": "horizontal",
      "style": "IPY_MODEL_364b6f6260b24fb480a358b97a4a59c3",
      "value": 25000
     }
    },
    "3b68e1a956824ae998b89792cd9ebc1c": {
     "model_module": "@jupyter-widgets/base",
     "model_module_version": "1.2.0",
     "model_name": "LayoutModel",
     "state": {
      "_model_module": "@jupyter-widgets/base",
      "_model_module_version": "1.2.0",
      "_model_name": "LayoutModel",
      "_view_count": null,
      "_view_module": "@jupyter-widgets/base",
      "_view_module_version": "1.2.0",
      "_view_name": "LayoutView",
      "align_content": null,
      "align_items": null,
      "align_self": null,
      "border": null,
      "bottom": null,
      "display": null,
      "flex": null,
      "flex_flow": null,
      "grid_area": null,
      "grid_auto_columns": null,
      "grid_auto_flow": null,
      "grid_auto_rows": null,
      "grid_column": null,
      "grid_gap": null,
      "grid_row": null,
      "grid_template_areas": null,
      "grid_template_columns": null,
      "grid_template_rows": null,
      "height": null,
      "justify_content": null,
      "justify_items": null,
      "left": null,
      "margin": null,
      "max_height": null,
      "max_width": null,
      "min_height": null,
      "min_width": null,
      "object_fit": null,
      "object_position": null,
      "order": null,
      "overflow": null,
      "overflow_x": null,
      "overflow_y": null,
      "padding": null,
      "right": null,
      "top": null,
      "visibility": null,
      "width": null
     }
    },
    "3e8b7872d7604c97a45a0fddd500084b": {
     "model_module": "@jupyter-widgets/base",
     "model_module_version": "1.2.0",
     "model_name": "LayoutModel",
     "state": {
      "_model_module": "@jupyter-widgets/base",
      "_model_module_version": "1.2.0",
      "_model_name": "LayoutModel",
      "_view_count": null,
      "_view_module": "@jupyter-widgets/base",
      "_view_module_version": "1.2.0",
      "_view_name": "LayoutView",
      "align_content": null,
      "align_items": null,
      "align_self": null,
      "border": null,
      "bottom": null,
      "display": null,
      "flex": null,
      "flex_flow": null,
      "grid_area": null,
      "grid_auto_columns": null,
      "grid_auto_flow": null,
      "grid_auto_rows": null,
      "grid_column": null,
      "grid_gap": null,
      "grid_row": null,
      "grid_template_areas": null,
      "grid_template_columns": null,
      "grid_template_rows": null,
      "height": null,
      "justify_content": null,
      "justify_items": null,
      "left": null,
      "margin": null,
      "max_height": null,
      "max_width": null,
      "min_height": null,
      "min_width": null,
      "object_fit": null,
      "object_position": null,
      "order": null,
      "overflow": null,
      "overflow_x": null,
      "overflow_y": null,
      "padding": null,
      "right": null,
      "top": null,
      "visibility": null,
      "width": null
     }
    },
    "3fcc34f8952c4443bafbb4a7ff17eb7d": {
     "model_module": "@jupyter-widgets/controls",
     "model_module_version": "1.5.0",
     "model_name": "HTMLModel",
     "state": {
      "_dom_classes": [],
      "_model_module": "@jupyter-widgets/controls",
      "_model_module_version": "1.5.0",
      "_model_name": "HTMLModel",
      "_view_count": null,
      "_view_module": "@jupyter-widgets/controls",
      "_view_module_version": "1.5.0",
      "_view_name": "HTMLView",
      "description": "",
      "description_tooltip": null,
      "layout": "IPY_MODEL_25a45e3d68d84e508fec51e9f4bd45b6",
      "placeholder": "​",
      "style": "IPY_MODEL_b90c4c8715604c5eaf40fee8ee4a3e9f",
      "value": " 7.81k/7.81k [00:00&lt;00:00, 166kB/s]"
     }
    },
    "40fbd66513bb4316bbefae1b26184182": {
     "model_module": "@jupyter-widgets/controls",
     "model_module_version": "1.5.0",
     "model_name": "HBoxModel",
     "state": {
      "_dom_classes": [],
      "_model_module": "@jupyter-widgets/controls",
      "_model_module_version": "1.5.0",
      "_model_name": "HBoxModel",
      "_view_count": null,
      "_view_module": "@jupyter-widgets/controls",
      "_view_module_version": "1.5.0",
      "_view_name": "HBoxView",
      "box_style": "",
      "children": [
       "IPY_MODEL_951d742e028c4441bf8ecf786151e600",
       "IPY_MODEL_2097a7d146b04beda30b169477aa4fe4",
       "IPY_MODEL_ecc366ab740e41e094a98bce24f89cd2"
      ],
      "layout": "IPY_MODEL_eddd0748d7df4b338a460fadc6a3f842"
     }
    },
    "41978ac53a9b4d09b0939555f5ce9aac": {
     "model_module": "@jupyter-widgets/controls",
     "model_module_version": "1.5.0",
     "model_name": "FloatProgressModel",
     "state": {
      "_dom_classes": [],
      "_model_module": "@jupyter-widgets/controls",
      "_model_module_version": "1.5.0",
      "_model_name": "FloatProgressModel",
      "_view_count": null,
      "_view_module": "@jupyter-widgets/controls",
      "_view_module_version": "1.5.0",
      "_view_name": "ProgressView",
      "bar_style": "",
      "description": "",
      "description_tooltip": null,
      "layout": "IPY_MODEL_a200f5ce52a9438795e39af550c413c3",
      "max": 4591,
      "min": 0,
      "orientation": "horizontal",
      "style": "IPY_MODEL_8250b93f68d74f7582754ec0b74ad453",
      "value": 1188
     }
    },
    "426fed1bb514433e9e65dfb1c715810d": {
     "model_module": "@jupyter-widgets/base",
     "model_module_version": "1.2.0",
     "model_name": "LayoutModel",
     "state": {
      "_model_module": "@jupyter-widgets/base",
      "_model_module_version": "1.2.0",
      "_model_name": "LayoutModel",
      "_view_count": null,
      "_view_module": "@jupyter-widgets/base",
      "_view_module_version": "1.2.0",
      "_view_name": "LayoutView",
      "align_content": null,
      "align_items": null,
      "align_self": null,
      "border": null,
      "bottom": null,
      "display": null,
      "flex": null,
      "flex_flow": null,
      "grid_area": null,
      "grid_auto_columns": null,
      "grid_auto_flow": null,
      "grid_auto_rows": null,
      "grid_column": null,
      "grid_gap": null,
      "grid_row": null,
      "grid_template_areas": null,
      "grid_template_columns": null,
      "grid_template_rows": null,
      "height": null,
      "justify_content": null,
      "justify_items": null,
      "left": null,
      "margin": null,
      "max_height": null,
      "max_width": null,
      "min_height": null,
      "min_width": null,
      "object_fit": null,
      "object_position": null,
      "order": null,
      "overflow": null,
      "overflow_x": null,
      "overflow_y": null,
      "padding": null,
      "right": null,
      "top": null,
      "visibility": null,
      "width": null
     }
    },
    "43d42fcae6fd497ab9f63a1382a00216": {
     "model_module": "@jupyter-widgets/controls",
     "model_module_version": "1.5.0",
     "model_name": "HTMLModel",
     "state": {
      "_dom_classes": [],
      "_model_module": "@jupyter-widgets/controls",
      "_model_module_version": "1.5.0",
      "_model_name": "HTMLModel",
      "_view_count": null,
      "_view_module": "@jupyter-widgets/controls",
      "_view_module_version": "1.5.0",
      "_view_name": "HTMLView",
      "description": "",
      "description_tooltip": null,
      "layout": "IPY_MODEL_d0226b6e09de47358581de359808f642",
      "placeholder": "​",
      "style": "IPY_MODEL_8d9921284a2d4c2fbd188f02d41a3896",
      "value": "Training epoch 5:: 100%"
     }
    },
    "45721a15d916480daaf6e7d83246e408": {
     "model_module": "@jupyter-widgets/base",
     "model_module_version": "1.2.0",
     "model_name": "LayoutModel",
     "state": {
      "_model_module": "@jupyter-widgets/base",
      "_model_module_version": "1.2.0",
      "_model_name": "LayoutModel",
      "_view_count": null,
      "_view_module": "@jupyter-widgets/base",
      "_view_module_version": "1.2.0",
      "_view_name": "LayoutView",
      "align_content": null,
      "align_items": null,
      "align_self": null,
      "border": null,
      "bottom": null,
      "display": null,
      "flex": null,
      "flex_flow": null,
      "grid_area": null,
      "grid_auto_columns": null,
      "grid_auto_flow": null,
      "grid_auto_rows": null,
      "grid_column": null,
      "grid_gap": null,
      "grid_row": null,
      "grid_template_areas": null,
      "grid_template_columns": null,
      "grid_template_rows": null,
      "height": null,
      "justify_content": null,
      "justify_items": null,
      "left": null,
      "margin": null,
      "max_height": null,
      "max_width": null,
      "min_height": null,
      "min_width": null,
      "object_fit": null,
      "object_position": null,
      "order": null,
      "overflow": null,
      "overflow_x": null,
      "overflow_y": null,
      "padding": null,
      "right": null,
      "top": null,
      "visibility": null,
      "width": null
     }
    },
    "4b38f19e60dd4da282fd24af5e14f798": {
     "model_module": "@jupyter-widgets/base",
     "model_module_version": "1.2.0",
     "model_name": "LayoutModel",
     "state": {
      "_model_module": "@jupyter-widgets/base",
      "_model_module_version": "1.2.0",
      "_model_name": "LayoutModel",
      "_view_count": null,
      "_view_module": "@jupyter-widgets/base",
      "_view_module_version": "1.2.0",
      "_view_name": "LayoutView",
      "align_content": null,
      "align_items": null,
      "align_self": null,
      "border": null,
      "bottom": null,
      "display": null,
      "flex": null,
      "flex_flow": null,
      "grid_area": null,
      "grid_auto_columns": null,
      "grid_auto_flow": null,
      "grid_auto_rows": null,
      "grid_column": null,
      "grid_gap": null,
      "grid_row": null,
      "grid_template_areas": null,
      "grid_template_columns": null,
      "grid_template_rows": null,
      "height": null,
      "justify_content": null,
      "justify_items": null,
      "left": null,
      "margin": null,
      "max_height": null,
      "max_width": null,
      "min_height": null,
      "min_width": null,
      "object_fit": null,
      "object_position": null,
      "order": null,
      "overflow": null,
      "overflow_x": null,
      "overflow_y": null,
      "padding": null,
      "right": null,
      "top": null,
      "visibility": null,
      "width": null
     }
    },
    "4c20d482a846471f9e29081ccc4f9804": {
     "model_module": "@jupyter-widgets/base",
     "model_module_version": "1.2.0",
     "model_name": "LayoutModel",
     "state": {
      "_model_module": "@jupyter-widgets/base",
      "_model_module_version": "1.2.0",
      "_model_name": "LayoutModel",
      "_view_count": null,
      "_view_module": "@jupyter-widgets/base",
      "_view_module_version": "1.2.0",
      "_view_name": "LayoutView",
      "align_content": null,
      "align_items": null,
      "align_self": null,
      "border": null,
      "bottom": null,
      "display": null,
      "flex": null,
      "flex_flow": null,
      "grid_area": null,
      "grid_auto_columns": null,
      "grid_auto_flow": null,
      "grid_auto_rows": null,
      "grid_column": null,
      "grid_gap": null,
      "grid_row": null,
      "grid_template_areas": null,
      "grid_template_columns": null,
      "grid_template_rows": null,
      "height": null,
      "justify_content": null,
      "justify_items": null,
      "left": null,
      "margin": null,
      "max_height": null,
      "max_width": null,
      "min_height": null,
      "min_width": null,
      "object_fit": null,
      "object_position": null,
      "order": null,
      "overflow": null,
      "overflow_x": null,
      "overflow_y": null,
      "padding": null,
      "right": null,
      "top": null,
      "visibility": null,
      "width": null
     }
    },
    "4fdad90646e84e93ae03ab7d9f05885a": {
     "model_module": "@jupyter-widgets/base",
     "model_module_version": "1.2.0",
     "model_name": "LayoutModel",
     "state": {
      "_model_module": "@jupyter-widgets/base",
      "_model_module_version": "1.2.0",
      "_model_name": "LayoutModel",
      "_view_count": null,
      "_view_module": "@jupyter-widgets/base",
      "_view_module_version": "1.2.0",
      "_view_name": "LayoutView",
      "align_content": null,
      "align_items": null,
      "align_self": null,
      "border": null,
      "bottom": null,
      "display": null,
      "flex": null,
      "flex_flow": null,
      "grid_area": null,
      "grid_auto_columns": null,
      "grid_auto_flow": null,
      "grid_auto_rows": null,
      "grid_column": null,
      "grid_gap": null,
      "grid_row": null,
      "grid_template_areas": null,
      "grid_template_columns": null,
      "grid_template_rows": null,
      "height": null,
      "justify_content": null,
      "justify_items": null,
      "left": null,
      "margin": null,
      "max_height": null,
      "max_width": null,
      "min_height": null,
      "min_width": null,
      "object_fit": null,
      "object_position": null,
      "order": null,
      "overflow": null,
      "overflow_x": null,
      "overflow_y": null,
      "padding": null,
      "right": null,
      "top": null,
      "visibility": null,
      "width": null
     }
    },
    "51b1036ebc6649ae84b6fe85e9152273": {
     "model_module": "@jupyter-widgets/base",
     "model_module_version": "1.2.0",
     "model_name": "LayoutModel",
     "state": {
      "_model_module": "@jupyter-widgets/base",
      "_model_module_version": "1.2.0",
      "_model_name": "LayoutModel",
      "_view_count": null,
      "_view_module": "@jupyter-widgets/base",
      "_view_module_version": "1.2.0",
      "_view_name": "LayoutView",
      "align_content": null,
      "align_items": null,
      "align_self": null,
      "border": null,
      "bottom": null,
      "display": null,
      "flex": null,
      "flex_flow": null,
      "grid_area": null,
      "grid_auto_columns": null,
      "grid_auto_flow": null,
      "grid_auto_rows": null,
      "grid_column": null,
      "grid_gap": null,
      "grid_row": null,
      "grid_template_areas": null,
      "grid_template_columns": null,
      "grid_template_rows": null,
      "height": null,
      "justify_content": null,
      "justify_items": null,
      "left": null,
      "margin": null,
      "max_height": null,
      "max_width": null,
      "min_height": null,
      "min_width": null,
      "object_fit": null,
      "object_position": null,
      "order": null,
      "overflow": null,
      "overflow_x": null,
      "overflow_y": null,
      "padding": null,
      "right": null,
      "top": null,
      "visibility": null,
      "width": null
     }
    },
    "52b89955d2674b98a562e2060c67713f": {
     "model_module": "@jupyter-widgets/base",
     "model_module_version": "1.2.0",
     "model_name": "LayoutModel",
     "state": {
      "_model_module": "@jupyter-widgets/base",
      "_model_module_version": "1.2.0",
      "_model_name": "LayoutModel",
      "_view_count": null,
      "_view_module": "@jupyter-widgets/base",
      "_view_module_version": "1.2.0",
      "_view_name": "LayoutView",
      "align_content": null,
      "align_items": null,
      "align_self": null,
      "border": null,
      "bottom": null,
      "display": null,
      "flex": null,
      "flex_flow": null,
      "grid_area": null,
      "grid_auto_columns": null,
      "grid_auto_flow": null,
      "grid_auto_rows": null,
      "grid_column": null,
      "grid_gap": null,
      "grid_row": null,
      "grid_template_areas": null,
      "grid_template_columns": null,
      "grid_template_rows": null,
      "height": null,
      "justify_content": null,
      "justify_items": null,
      "left": null,
      "margin": null,
      "max_height": null,
      "max_width": null,
      "min_height": null,
      "min_width": null,
      "object_fit": null,
      "object_position": null,
      "order": null,
      "overflow": null,
      "overflow_x": null,
      "overflow_y": null,
      "padding": null,
      "right": null,
      "top": null,
      "visibility": null,
      "width": null
     }
    },
    "548b45e1e2de419c8c697166d472e5b0": {
     "model_module": "@jupyter-widgets/base",
     "model_module_version": "1.2.0",
     "model_name": "LayoutModel",
     "state": {
      "_model_module": "@jupyter-widgets/base",
      "_model_module_version": "1.2.0",
      "_model_name": "LayoutModel",
      "_view_count": null,
      "_view_module": "@jupyter-widgets/base",
      "_view_module_version": "1.2.0",
      "_view_name": "LayoutView",
      "align_content": null,
      "align_items": null,
      "align_self": null,
      "border": null,
      "bottom": null,
      "display": null,
      "flex": null,
      "flex_flow": null,
      "grid_area": null,
      "grid_auto_columns": null,
      "grid_auto_flow": null,
      "grid_auto_rows": null,
      "grid_column": null,
      "grid_gap": null,
      "grid_row": null,
      "grid_template_areas": null,
      "grid_template_columns": null,
      "grid_template_rows": null,
      "height": null,
      "justify_content": null,
      "justify_items": null,
      "left": null,
      "margin": null,
      "max_height": null,
      "max_width": null,
      "min_height": null,
      "min_width": null,
      "object_fit": null,
      "object_position": null,
      "order": null,
      "overflow": null,
      "overflow_x": null,
      "overflow_y": null,
      "padding": null,
      "right": null,
      "top": null,
      "visibility": null,
      "width": null
     }
    },
    "56e3ce706f09435e8e8e20ab0607b618": {
     "model_module": "@jupyter-widgets/controls",
     "model_module_version": "1.5.0",
     "model_name": "DescriptionStyleModel",
     "state": {
      "_model_module": "@jupyter-widgets/controls",
      "_model_module_version": "1.5.0",
      "_model_name": "DescriptionStyleModel",
      "_view_count": null,
      "_view_module": "@jupyter-widgets/base",
      "_view_module_version": "1.2.0",
      "_view_name": "StyleView",
      "description_width": ""
     }
    },
    "58b634e854a34979bb79ca1db82884f3": {
     "model_module": "@jupyter-widgets/base",
     "model_module_version": "1.2.0",
     "model_name": "LayoutModel",
     "state": {
      "_model_module": "@jupyter-widgets/base",
      "_model_module_version": "1.2.0",
      "_model_name": "LayoutModel",
      "_view_count": null,
      "_view_module": "@jupyter-widgets/base",
      "_view_module_version": "1.2.0",
      "_view_name": "LayoutView",
      "align_content": null,
      "align_items": null,
      "align_self": null,
      "border": null,
      "bottom": null,
      "display": null,
      "flex": null,
      "flex_flow": null,
      "grid_area": null,
      "grid_auto_columns": null,
      "grid_auto_flow": null,
      "grid_auto_rows": null,
      "grid_column": null,
      "grid_gap": null,
      "grid_row": null,
      "grid_template_areas": null,
      "grid_template_columns": null,
      "grid_template_rows": null,
      "height": null,
      "justify_content": null,
      "justify_items": null,
      "left": null,
      "margin": null,
      "max_height": null,
      "max_width": null,
      "min_height": null,
      "min_width": null,
      "object_fit": null,
      "object_position": null,
      "order": null,
      "overflow": null,
      "overflow_x": null,
      "overflow_y": null,
      "padding": null,
      "right": null,
      "top": null,
      "visibility": null,
      "width": null
     }
    },
    "5dff79666eb9404f86ed727423e74d5e": {
     "model_module": "@jupyter-widgets/controls",
     "model_module_version": "1.5.0",
     "model_name": "FloatProgressModel",
     "state": {
      "_dom_classes": [],
      "_model_module": "@jupyter-widgets/controls",
      "_model_module_version": "1.5.0",
      "_model_name": "FloatProgressModel",
      "_view_count": null,
      "_view_module": "@jupyter-widgets/controls",
      "_view_module_version": "1.5.0",
      "_view_name": "ProgressView",
      "bar_style": "success",
      "description": "",
      "description_tooltip": null,
      "layout": "IPY_MODEL_79ee4146f98e46109add0dfa012c339b",
      "max": 7809,
      "min": 0,
      "orientation": "horizontal",
      "style": "IPY_MODEL_20dad0b2aa5944389078bf3dba6103e9",
      "value": 7809
     }
    },
    "5e162e39e7c14c59a0e4dc1d144d392a": {
     "model_module": "@jupyter-widgets/controls",
     "model_module_version": "1.5.0",
     "model_name": "DescriptionStyleModel",
     "state": {
      "_model_module": "@jupyter-widgets/controls",
      "_model_module_version": "1.5.0",
      "_model_name": "DescriptionStyleModel",
      "_view_count": null,
      "_view_module": "@jupyter-widgets/base",
      "_view_module_version": "1.2.0",
      "_view_name": "StyleView",
      "description_width": ""
     }
    },
    "5f71b6594da9484e9acd5592b01f7fc5": {
     "model_module": "@jupyter-widgets/controls",
     "model_module_version": "1.5.0",
     "model_name": "ProgressStyleModel",
     "state": {
      "_model_module": "@jupyter-widgets/controls",
      "_model_module_version": "1.5.0",
      "_model_name": "ProgressStyleModel",
      "_view_count": null,
      "_view_module": "@jupyter-widgets/base",
      "_view_module_version": "1.2.0",
      "_view_name": "StyleView",
      "bar_color": null,
      "description_width": ""
     }
    },
    "628c2a6ea7aa4d258391d460c3f3355a": {
     "model_module": "@jupyter-widgets/controls",
     "model_module_version": "1.5.0",
     "model_name": "HTMLModel",
     "state": {
      "_dom_classes": [],
      "_model_module": "@jupyter-widgets/controls",
      "_model_module_version": "1.5.0",
      "_model_name": "HTMLModel",
      "_view_count": null,
      "_view_module": "@jupyter-widgets/controls",
      "_view_module_version": "1.5.0",
      "_view_name": "HTMLView",
      "description": "",
      "description_tooltip": null,
      "layout": "IPY_MODEL_69cbf111dca14accba75801068421f4e",
      "placeholder": "​",
      "style": "IPY_MODEL_56e3ce706f09435e8e8e20ab0607b618",
      "value": "100%"
     }
    },
    "6358b573f5a54f26a1700bda3db23eb5": {
     "model_module": "@jupyter-widgets/controls",
     "model_module_version": "1.5.0",
     "model_name": "ProgressStyleModel",
     "state": {
      "_model_module": "@jupyter-widgets/controls",
      "_model_module_version": "1.5.0",
      "_model_name": "ProgressStyleModel",
      "_view_count": null,
      "_view_module": "@jupyter-widgets/base",
      "_view_module_version": "1.2.0",
      "_view_name": "StyleView",
      "bar_color": null,
      "description_width": ""
     }
    },
    "63d7f9cadc1c4d6ca65445c0042fdd34": {
     "model_module": "@jupyter-widgets/controls",
     "model_module_version": "1.5.0",
     "model_name": "ProgressStyleModel",
     "state": {
      "_model_module": "@jupyter-widgets/controls",
      "_model_module_version": "1.5.0",
      "_model_name": "ProgressStyleModel",
      "_view_count": null,
      "_view_module": "@jupyter-widgets/base",
      "_view_module_version": "1.2.0",
      "_view_name": "StyleView",
      "bar_color": null,
      "description_width": ""
     }
    },
    "643f11f789d54ddf8959643cceec5d73": {
     "model_module": "@jupyter-widgets/base",
     "model_module_version": "1.2.0",
     "model_name": "LayoutModel",
     "state": {
      "_model_module": "@jupyter-widgets/base",
      "_model_module_version": "1.2.0",
      "_model_name": "LayoutModel",
      "_view_count": null,
      "_view_module": "@jupyter-widgets/base",
      "_view_module_version": "1.2.0",
      "_view_name": "LayoutView",
      "align_content": null,
      "align_items": null,
      "align_self": null,
      "border": null,
      "bottom": null,
      "display": null,
      "flex": null,
      "flex_flow": null,
      "grid_area": null,
      "grid_auto_columns": null,
      "grid_auto_flow": null,
      "grid_auto_rows": null,
      "grid_column": null,
      "grid_gap": null,
      "grid_row": null,
      "grid_template_areas": null,
      "grid_template_columns": null,
      "grid_template_rows": null,
      "height": null,
      "justify_content": null,
      "justify_items": null,
      "left": null,
      "margin": null,
      "max_height": null,
      "max_width": null,
      "min_height": null,
      "min_width": null,
      "object_fit": null,
      "object_position": null,
      "order": null,
      "overflow": null,
      "overflow_x": null,
      "overflow_y": null,
      "padding": null,
      "right": null,
      "top": null,
      "visibility": null,
      "width": null
     }
    },
    "64657fad8e1e4db78111c101e5754941": {
     "model_module": "@jupyter-widgets/controls",
     "model_module_version": "1.5.0",
     "model_name": "DescriptionStyleModel",
     "state": {
      "_model_module": "@jupyter-widgets/controls",
      "_model_module_version": "1.5.0",
      "_model_name": "DescriptionStyleModel",
      "_view_count": null,
      "_view_module": "@jupyter-widgets/base",
      "_view_module_version": "1.2.0",
      "_view_name": "StyleView",
      "description_width": ""
     }
    },
    "650bb16a094e4bde8f95f4858d20b8f4": {
     "model_module": "@jupyter-widgets/controls",
     "model_module_version": "1.5.0",
     "model_name": "HBoxModel",
     "state": {
      "_dom_classes": [],
      "_model_module": "@jupyter-widgets/controls",
      "_model_module_version": "1.5.0",
      "_model_name": "HBoxModel",
      "_view_count": null,
      "_view_module": "@jupyter-widgets/controls",
      "_view_module_version": "1.5.0",
      "_view_name": "HBoxView",
      "box_style": "",
      "children": [
       "IPY_MODEL_e2d090ebebcc449b9981ee017509b8d6",
       "IPY_MODEL_98d20034c3d7461a8d92af949848c1b8",
       "IPY_MODEL_dac96af973474dedb256fb8f937c5ed4"
      ],
      "layout": "IPY_MODEL_878843e8a666490b846624b6533ae691"
     }
    },
    "6628e2b30d4a4532a375e582ad569d2a": {
     "model_module": "@jupyter-widgets/base",
     "model_module_version": "1.2.0",
     "model_name": "LayoutModel",
     "state": {
      "_model_module": "@jupyter-widgets/base",
      "_model_module_version": "1.2.0",
      "_model_name": "LayoutModel",
      "_view_count": null,
      "_view_module": "@jupyter-widgets/base",
      "_view_module_version": "1.2.0",
      "_view_name": "LayoutView",
      "align_content": null,
      "align_items": null,
      "align_self": null,
      "border": null,
      "bottom": null,
      "display": null,
      "flex": null,
      "flex_flow": null,
      "grid_area": null,
      "grid_auto_columns": null,
      "grid_auto_flow": null,
      "grid_auto_rows": null,
      "grid_column": null,
      "grid_gap": null,
      "grid_row": null,
      "grid_template_areas": null,
      "grid_template_columns": null,
      "grid_template_rows": null,
      "height": null,
      "justify_content": null,
      "justify_items": null,
      "left": null,
      "margin": null,
      "max_height": null,
      "max_width": null,
      "min_height": null,
      "min_width": null,
      "object_fit": null,
      "object_position": null,
      "order": null,
      "overflow": null,
      "overflow_x": null,
      "overflow_y": null,
      "padding": null,
      "right": null,
      "top": null,
      "visibility": null,
      "width": null
     }
    },
    "6657d66d8b6740cebd69e2f49c00304b": {
     "model_module": "@jupyter-widgets/controls",
     "model_module_version": "1.5.0",
     "model_name": "DescriptionStyleModel",
     "state": {
      "_model_module": "@jupyter-widgets/controls",
      "_model_module_version": "1.5.0",
      "_model_name": "DescriptionStyleModel",
      "_view_count": null,
      "_view_module": "@jupyter-widgets/base",
      "_view_module_version": "1.2.0",
      "_view_name": "StyleView",
      "description_width": ""
     }
    },
    "6934c5203728446fb7191bc46eb3e95f": {
     "model_module": "@jupyter-widgets/base",
     "model_module_version": "1.2.0",
     "model_name": "LayoutModel",
     "state": {
      "_model_module": "@jupyter-widgets/base",
      "_model_module_version": "1.2.0",
      "_model_name": "LayoutModel",
      "_view_count": null,
      "_view_module": "@jupyter-widgets/base",
      "_view_module_version": "1.2.0",
      "_view_name": "LayoutView",
      "align_content": null,
      "align_items": null,
      "align_self": null,
      "border": null,
      "bottom": null,
      "display": null,
      "flex": null,
      "flex_flow": null,
      "grid_area": null,
      "grid_auto_columns": null,
      "grid_auto_flow": null,
      "grid_auto_rows": null,
      "grid_column": null,
      "grid_gap": null,
      "grid_row": null,
      "grid_template_areas": null,
      "grid_template_columns": null,
      "grid_template_rows": null,
      "height": null,
      "justify_content": null,
      "justify_items": null,
      "left": null,
      "margin": null,
      "max_height": null,
      "max_width": null,
      "min_height": null,
      "min_width": null,
      "object_fit": null,
      "object_position": null,
      "order": null,
      "overflow": null,
      "overflow_x": null,
      "overflow_y": null,
      "padding": null,
      "right": null,
      "top": null,
      "visibility": null,
      "width": null
     }
    },
    "69cbf111dca14accba75801068421f4e": {
     "model_module": "@jupyter-widgets/base",
     "model_module_version": "1.2.0",
     "model_name": "LayoutModel",
     "state": {
      "_model_module": "@jupyter-widgets/base",
      "_model_module_version": "1.2.0",
      "_model_name": "LayoutModel",
      "_view_count": null,
      "_view_module": "@jupyter-widgets/base",
      "_view_module_version": "1.2.0",
      "_view_name": "LayoutView",
      "align_content": null,
      "align_items": null,
      "align_self": null,
      "border": null,
      "bottom": null,
      "display": null,
      "flex": null,
      "flex_flow": null,
      "grid_area": null,
      "grid_auto_columns": null,
      "grid_auto_flow": null,
      "grid_auto_rows": null,
      "grid_column": null,
      "grid_gap": null,
      "grid_row": null,
      "grid_template_areas": null,
      "grid_template_columns": null,
      "grid_template_rows": null,
      "height": null,
      "justify_content": null,
      "justify_items": null,
      "left": null,
      "margin": null,
      "max_height": null,
      "max_width": null,
      "min_height": null,
      "min_width": null,
      "object_fit": null,
      "object_position": null,
      "order": null,
      "overflow": null,
      "overflow_x": null,
      "overflow_y": null,
      "padding": null,
      "right": null,
      "top": null,
      "visibility": null,
      "width": null
     }
    },
    "6ac4316f52ec4b4fa54dcfdbda835169": {
     "model_module": "@jupyter-widgets/controls",
     "model_module_version": "1.5.0",
     "model_name": "DescriptionStyleModel",
     "state": {
      "_model_module": "@jupyter-widgets/controls",
      "_model_module_version": "1.5.0",
      "_model_name": "DescriptionStyleModel",
      "_view_count": null,
      "_view_module": "@jupyter-widgets/base",
      "_view_module_version": "1.2.0",
      "_view_name": "StyleView",
      "description_width": ""
     }
    },
    "6b7869bfa6d04feab369e3b011c37e50": {
     "model_module": "@jupyter-widgets/controls",
     "model_module_version": "1.5.0",
     "model_name": "DescriptionStyleModel",
     "state": {
      "_model_module": "@jupyter-widgets/controls",
      "_model_module_version": "1.5.0",
      "_model_name": "DescriptionStyleModel",
      "_view_count": null,
      "_view_module": "@jupyter-widgets/base",
      "_view_module_version": "1.2.0",
      "_view_name": "StyleView",
      "description_width": ""
     }
    },
    "6bdb3e433867447f949c1bda7fcbcb4c": {
     "model_module": "@jupyter-widgets/controls",
     "model_module_version": "1.5.0",
     "model_name": "ProgressStyleModel",
     "state": {
      "_model_module": "@jupyter-widgets/controls",
      "_model_module_version": "1.5.0",
      "_model_name": "ProgressStyleModel",
      "_view_count": null,
      "_view_module": "@jupyter-widgets/base",
      "_view_module_version": "1.2.0",
      "_view_name": "StyleView",
      "bar_color": null,
      "description_width": ""
     }
    },
    "6e5894df46fe48158911eda4edb5a20a": {
     "model_module": "@jupyter-widgets/base",
     "model_module_version": "1.2.0",
     "model_name": "LayoutModel",
     "state": {
      "_model_module": "@jupyter-widgets/base",
      "_model_module_version": "1.2.0",
      "_model_name": "LayoutModel",
      "_view_count": null,
      "_view_module": "@jupyter-widgets/base",
      "_view_module_version": "1.2.0",
      "_view_name": "LayoutView",
      "align_content": null,
      "align_items": null,
      "align_self": null,
      "border": null,
      "bottom": null,
      "display": null,
      "flex": null,
      "flex_flow": null,
      "grid_area": null,
      "grid_auto_columns": null,
      "grid_auto_flow": null,
      "grid_auto_rows": null,
      "grid_column": null,
      "grid_gap": null,
      "grid_row": null,
      "grid_template_areas": null,
      "grid_template_columns": null,
      "grid_template_rows": null,
      "height": null,
      "justify_content": null,
      "justify_items": null,
      "left": null,
      "margin": null,
      "max_height": null,
      "max_width": null,
      "min_height": null,
      "min_width": null,
      "object_fit": null,
      "object_position": null,
      "order": null,
      "overflow": null,
      "overflow_x": null,
      "overflow_y": null,
      "padding": null,
      "right": null,
      "top": null,
      "visibility": null,
      "width": null
     }
    },
    "70a838ea86404f59b29bcc735f8f84c6": {
     "model_module": "@jupyter-widgets/controls",
     "model_module_version": "1.5.0",
     "model_name": "HBoxModel",
     "state": {
      "_dom_classes": [],
      "_model_module": "@jupyter-widgets/controls",
      "_model_module_version": "1.5.0",
      "_model_name": "HBoxModel",
      "_view_count": null,
      "_view_module": "@jupyter-widgets/controls",
      "_view_module_version": "1.5.0",
      "_view_name": "HBoxView",
      "box_style": "",
      "children": [
       "IPY_MODEL_f68ca830dae348b0bf4443d061844fef",
       "IPY_MODEL_b8d22375141a4dbd8858a23d6a3eb90b",
       "IPY_MODEL_23e6ed00e42c4d31a248be91665841b3"
      ],
      "layout": "IPY_MODEL_2a3d02a3e437467fa8fed61a5fd86d5d"
     }
    },
    "70f5820554444a3cbb8bad63f6c9d1a8": {
     "model_module": "@jupyter-widgets/controls",
     "model_module_version": "1.5.0",
     "model_name": "FloatProgressModel",
     "state": {
      "_dom_classes": [],
      "_model_module": "@jupyter-widgets/controls",
      "_model_module_version": "1.5.0",
      "_model_name": "FloatProgressModel",
      "_view_count": null,
      "_view_module": "@jupyter-widgets/controls",
      "_view_module_version": "1.5.0",
      "_view_name": "ProgressView",
      "bar_style": "success",
      "description": "",
      "description_tooltip": null,
      "layout": "IPY_MODEL_7672d85411e949e2b6bbf99b052a331a",
      "max": 41996509,
      "min": 0,
      "orientation": "horizontal",
      "style": "IPY_MODEL_b23f1b6077a84c41b97792b833084ff0",
      "value": 41996509
     }
    },
    "734c0872fd1c431c992927ebe7286786": {
     "model_module": "@jupyter-widgets/controls",
     "model_module_version": "1.5.0",
     "model_name": "HBoxModel",
     "state": {
      "_dom_classes": [],
      "_model_module": "@jupyter-widgets/controls",
      "_model_module_version": "1.5.0",
      "_model_name": "HBoxModel",
      "_view_count": null,
      "_view_module": "@jupyter-widgets/controls",
      "_view_module_version": "1.5.0",
      "_view_name": "HBoxView",
      "box_style": "",
      "children": [
       "IPY_MODEL_92fa909e399d4226978f9ce6b3e4dad7",
       "IPY_MODEL_7822795f10f24c46b035b7604ae54cfd",
       "IPY_MODEL_1a0f87df7cbc44839a40077b5be962a4"
      ],
      "layout": "IPY_MODEL_944306520c7442ea972ca10a153a9c93"
     }
    },
    "7415f398407b443e8acd30adbd0622b9": {
     "model_module": "@jupyter-widgets/controls",
     "model_module_version": "1.5.0",
     "model_name": "ProgressStyleModel",
     "state": {
      "_model_module": "@jupyter-widgets/controls",
      "_model_module_version": "1.5.0",
      "_model_name": "ProgressStyleModel",
      "_view_count": null,
      "_view_module": "@jupyter-widgets/base",
      "_view_module_version": "1.2.0",
      "_view_name": "StyleView",
      "bar_color": null,
      "description_width": ""
     }
    },
    "7672d85411e949e2b6bbf99b052a331a": {
     "model_module": "@jupyter-widgets/base",
     "model_module_version": "1.2.0",
     "model_name": "LayoutModel",
     "state": {
      "_model_module": "@jupyter-widgets/base",
      "_model_module_version": "1.2.0",
      "_model_name": "LayoutModel",
      "_view_count": null,
      "_view_module": "@jupyter-widgets/base",
      "_view_module_version": "1.2.0",
      "_view_name": "LayoutView",
      "align_content": null,
      "align_items": null,
      "align_self": null,
      "border": null,
      "bottom": null,
      "display": null,
      "flex": null,
      "flex_flow": null,
      "grid_area": null,
      "grid_auto_columns": null,
      "grid_auto_flow": null,
      "grid_auto_rows": null,
      "grid_column": null,
      "grid_gap": null,
      "grid_row": null,
      "grid_template_areas": null,
      "grid_template_columns": null,
      "grid_template_rows": null,
      "height": null,
      "justify_content": null,
      "justify_items": null,
      "left": null,
      "margin": null,
      "max_height": null,
      "max_width": null,
      "min_height": null,
      "min_width": null,
      "object_fit": null,
      "object_position": null,
      "order": null,
      "overflow": null,
      "overflow_x": null,
      "overflow_y": null,
      "padding": null,
      "right": null,
      "top": null,
      "visibility": null,
      "width": null
     }
    },
    "7822795f10f24c46b035b7604ae54cfd": {
     "model_module": "@jupyter-widgets/controls",
     "model_module_version": "1.5.0",
     "model_name": "FloatProgressModel",
     "state": {
      "_dom_classes": [],
      "_model_module": "@jupyter-widgets/controls",
      "_model_module_version": "1.5.0",
      "_model_name": "FloatProgressModel",
      "_view_count": null,
      "_view_module": "@jupyter-widgets/controls",
      "_view_module_version": "1.5.0",
      "_view_name": "ProgressView",
      "bar_style": "success",
      "description": "",
      "description_tooltip": null,
      "layout": "IPY_MODEL_075f78aba8a44a25848ee9cb2dd344c1",
      "max": 50000,
      "min": 0,
      "orientation": "horizontal",
      "style": "IPY_MODEL_7415f398407b443e8acd30adbd0622b9",
      "value": 50000
     }
    },
    "7923cdc471fb44158fdbcead8f6273ef": {
     "model_module": "@jupyter-widgets/base",
     "model_module_version": "1.2.0",
     "model_name": "LayoutModel",
     "state": {
      "_model_module": "@jupyter-widgets/base",
      "_model_module_version": "1.2.0",
      "_model_name": "LayoutModel",
      "_view_count": null,
      "_view_module": "@jupyter-widgets/base",
      "_view_module_version": "1.2.0",
      "_view_name": "LayoutView",
      "align_content": null,
      "align_items": null,
      "align_self": null,
      "border": null,
      "bottom": null,
      "display": null,
      "flex": null,
      "flex_flow": null,
      "grid_area": null,
      "grid_auto_columns": null,
      "grid_auto_flow": null,
      "grid_auto_rows": null,
      "grid_column": null,
      "grid_gap": null,
      "grid_row": null,
      "grid_template_areas": null,
      "grid_template_columns": null,
      "grid_template_rows": null,
      "height": null,
      "justify_content": null,
      "justify_items": null,
      "left": null,
      "margin": null,
      "max_height": null,
      "max_width": null,
      "min_height": null,
      "min_width": null,
      "object_fit": null,
      "object_position": null,
      "order": null,
      "overflow": null,
      "overflow_x": null,
      "overflow_y": null,
      "padding": null,
      "right": null,
      "top": null,
      "visibility": null,
      "width": null
     }
    },
    "79ee4146f98e46109add0dfa012c339b": {
     "model_module": "@jupyter-widgets/base",
     "model_module_version": "1.2.0",
     "model_name": "LayoutModel",
     "state": {
      "_model_module": "@jupyter-widgets/base",
      "_model_module_version": "1.2.0",
      "_model_name": "LayoutModel",
      "_view_count": null,
      "_view_module": "@jupyter-widgets/base",
      "_view_module_version": "1.2.0",
      "_view_name": "LayoutView",
      "align_content": null,
      "align_items": null,
      "align_self": null,
      "border": null,
      "bottom": null,
      "display": null,
      "flex": null,
      "flex_flow": null,
      "grid_area": null,
      "grid_auto_columns": null,
      "grid_auto_flow": null,
      "grid_auto_rows": null,
      "grid_column": null,
      "grid_gap": null,
      "grid_row": null,
      "grid_template_areas": null,
      "grid_template_columns": null,
      "grid_template_rows": null,
      "height": null,
      "justify_content": null,
      "justify_items": null,
      "left": null,
      "margin": null,
      "max_height": null,
      "max_width": null,
      "min_height": null,
      "min_width": null,
      "object_fit": null,
      "object_position": null,
      "order": null,
      "overflow": null,
      "overflow_x": null,
      "overflow_y": null,
      "padding": null,
      "right": null,
      "top": null,
      "visibility": null,
      "width": null
     }
    },
    "7a31a5a6ae634e84a98596319266d0fa": {
     "model_module": "@jupyter-widgets/base",
     "model_module_version": "1.2.0",
     "model_name": "LayoutModel",
     "state": {
      "_model_module": "@jupyter-widgets/base",
      "_model_module_version": "1.2.0",
      "_model_name": "LayoutModel",
      "_view_count": null,
      "_view_module": "@jupyter-widgets/base",
      "_view_module_version": "1.2.0",
      "_view_name": "LayoutView",
      "align_content": null,
      "align_items": null,
      "align_self": null,
      "border": null,
      "bottom": null,
      "display": null,
      "flex": null,
      "flex_flow": null,
      "grid_area": null,
      "grid_auto_columns": null,
      "grid_auto_flow": null,
      "grid_auto_rows": null,
      "grid_column": null,
      "grid_gap": null,
      "grid_row": null,
      "grid_template_areas": null,
      "grid_template_columns": null,
      "grid_template_rows": null,
      "height": null,
      "justify_content": null,
      "justify_items": null,
      "left": null,
      "margin": null,
      "max_height": null,
      "max_width": null,
      "min_height": null,
      "min_width": null,
      "object_fit": null,
      "object_position": null,
      "order": null,
      "overflow": null,
      "overflow_x": null,
      "overflow_y": null,
      "padding": null,
      "right": null,
      "top": null,
      "visibility": null,
      "width": null
     }
    },
    "7a5fc876d61a4cbea75b94508893cffe": {
     "model_module": "@jupyter-widgets/controls",
     "model_module_version": "1.5.0",
     "model_name": "HTMLModel",
     "state": {
      "_dom_classes": [],
      "_model_module": "@jupyter-widgets/controls",
      "_model_module_version": "1.5.0",
      "_model_name": "HTMLModel",
      "_view_count": null,
      "_view_module": "@jupyter-widgets/controls",
      "_view_module_version": "1.5.0",
      "_view_name": "HTMLView",
      "description": "",
      "description_tooltip": null,
      "layout": "IPY_MODEL_548b45e1e2de419c8c697166d472e5b0",
      "placeholder": "​",
      "style": "IPY_MODEL_6657d66d8b6740cebd69e2f49c00304b",
      "value": "unsupervised-00000-of-00001.parquet: 100%"
     }
    },
    "7ac4ade36d254fc5833c6ce5c099234a": {
     "model_module": "@jupyter-widgets/base",
     "model_module_version": "1.2.0",
     "model_name": "LayoutModel",
     "state": {
      "_model_module": "@jupyter-widgets/base",
      "_model_module_version": "1.2.0",
      "_model_name": "LayoutModel",
      "_view_count": null,
      "_view_module": "@jupyter-widgets/base",
      "_view_module_version": "1.2.0",
      "_view_name": "LayoutView",
      "align_content": null,
      "align_items": null,
      "align_self": null,
      "border": null,
      "bottom": null,
      "display": null,
      "flex": null,
      "flex_flow": null,
      "grid_area": null,
      "grid_auto_columns": null,
      "grid_auto_flow": null,
      "grid_auto_rows": null,
      "grid_column": null,
      "grid_gap": null,
      "grid_row": null,
      "grid_template_areas": null,
      "grid_template_columns": null,
      "grid_template_rows": null,
      "height": null,
      "justify_content": null,
      "justify_items": null,
      "left": null,
      "margin": null,
      "max_height": null,
      "max_width": null,
      "min_height": null,
      "min_width": null,
      "object_fit": null,
      "object_position": null,
      "order": null,
      "overflow": null,
      "overflow_x": null,
      "overflow_y": null,
      "padding": null,
      "right": null,
      "top": null,
      "visibility": null,
      "width": null
     }
    },
    "7b0712aff98b4d29a70294cd41ff1c68": {
     "model_module": "@jupyter-widgets/controls",
     "model_module_version": "1.5.0",
     "model_name": "HTMLModel",
     "state": {
      "_dom_classes": [],
      "_model_module": "@jupyter-widgets/controls",
      "_model_module_version": "1.5.0",
      "_model_name": "HTMLModel",
      "_view_count": null,
      "_view_module": "@jupyter-widgets/controls",
      "_view_module_version": "1.5.0",
      "_view_name": "HTMLView",
      "description": "",
      "description_tooltip": null,
      "layout": "IPY_MODEL_3e8b7872d7604c97a45a0fddd500084b",
      "placeholder": "​",
      "style": "IPY_MODEL_b1882411c241407c8a25fa73c99d2024",
      "value": " 42.0M/42.0M [00:00&lt;00:00, 81.9MB/s]"
     }
    },
    "7b63aefac6514412820e22b5b1ef1ddd": {
     "model_module": "@jupyter-widgets/controls",
     "model_module_version": "1.5.0",
     "model_name": "HTMLModel",
     "state": {
      "_dom_classes": [],
      "_model_module": "@jupyter-widgets/controls",
      "_model_module_version": "1.5.0",
      "_model_name": "HTMLModel",
      "_view_count": null,
      "_view_module": "@jupyter-widgets/controls",
      "_view_module_version": "1.5.0",
      "_view_name": "HTMLView",
      "description": "",
      "description_tooltip": null,
      "layout": "IPY_MODEL_7ac4ade36d254fc5833c6ce5c099234a",
      "placeholder": "​",
      "style": "IPY_MODEL_e979a239b534402f91ff6b7f041eb7a0",
      "value": " 4591/4591 [07:59&lt;00:00,  9.60it/s]"
     }
    },
    "7e8949d16c7f4b6d84dfcef2679565dd": {
     "model_module": "@jupyter-widgets/base",
     "model_module_version": "1.2.0",
     "model_name": "LayoutModel",
     "state": {
      "_model_module": "@jupyter-widgets/base",
      "_model_module_version": "1.2.0",
      "_model_name": "LayoutModel",
      "_view_count": null,
      "_view_module": "@jupyter-widgets/base",
      "_view_module_version": "1.2.0",
      "_view_name": "LayoutView",
      "align_content": null,
      "align_items": null,
      "align_self": null,
      "border": null,
      "bottom": null,
      "display": null,
      "flex": null,
      "flex_flow": null,
      "grid_area": null,
      "grid_auto_columns": null,
      "grid_auto_flow": null,
      "grid_auto_rows": null,
      "grid_column": null,
      "grid_gap": null,
      "grid_row": null,
      "grid_template_areas": null,
      "grid_template_columns": null,
      "grid_template_rows": null,
      "height": null,
      "justify_content": null,
      "justify_items": null,
      "left": null,
      "margin": null,
      "max_height": null,
      "max_width": null,
      "min_height": null,
      "min_width": null,
      "object_fit": null,
      "object_position": null,
      "order": null,
      "overflow": null,
      "overflow_x": null,
      "overflow_y": null,
      "padding": null,
      "right": null,
      "top": null,
      "visibility": null,
      "width": null
     }
    },
    "7eed1ed7dcd047bab6f58196b044bdfa": {
     "model_module": "@jupyter-widgets/controls",
     "model_module_version": "1.5.0",
     "model_name": "HBoxModel",
     "state": {
      "_dom_classes": [],
      "_model_module": "@jupyter-widgets/controls",
      "_model_module_version": "1.5.0",
      "_model_name": "HBoxModel",
      "_view_count": null,
      "_view_module": "@jupyter-widgets/controls",
      "_view_module_version": "1.5.0",
      "_view_name": "HBoxView",
      "box_style": "",
      "children": [
       "IPY_MODEL_02ff6eefd131406a9583e6b57d198f7c",
       "IPY_MODEL_0d62a249b08247f2b30aeedcac9b4ab5",
       "IPY_MODEL_debb8e864e4d4d7da197f4a03ca2f896"
      ],
      "layout": "IPY_MODEL_7a31a5a6ae634e84a98596319266d0fa"
     }
    },
    "8250b93f68d74f7582754ec0b74ad453": {
     "model_module": "@jupyter-widgets/controls",
     "model_module_version": "1.5.0",
     "model_name": "ProgressStyleModel",
     "state": {
      "_model_module": "@jupyter-widgets/controls",
      "_model_module_version": "1.5.0",
      "_model_name": "ProgressStyleModel",
      "_view_count": null,
      "_view_module": "@jupyter-widgets/base",
      "_view_module_version": "1.2.0",
      "_view_name": "StyleView",
      "bar_color": null,
      "description_width": ""
     }
    },
    "82dc1bce9aa04995abaa8a0b5e931e50": {
     "model_module": "@jupyter-widgets/base",
     "model_module_version": "1.2.0",
     "model_name": "LayoutModel",
     "state": {
      "_model_module": "@jupyter-widgets/base",
      "_model_module_version": "1.2.0",
      "_model_name": "LayoutModel",
      "_view_count": null,
      "_view_module": "@jupyter-widgets/base",
      "_view_module_version": "1.2.0",
      "_view_name": "LayoutView",
      "align_content": null,
      "align_items": null,
      "align_self": null,
      "border": null,
      "bottom": null,
      "display": null,
      "flex": null,
      "flex_flow": null,
      "grid_area": null,
      "grid_auto_columns": null,
      "grid_auto_flow": null,
      "grid_auto_rows": null,
      "grid_column": null,
      "grid_gap": null,
      "grid_row": null,
      "grid_template_areas": null,
      "grid_template_columns": null,
      "grid_template_rows": null,
      "height": null,
      "justify_content": null,
      "justify_items": null,
      "left": null,
      "margin": null,
      "max_height": null,
      "max_width": null,
      "min_height": null,
      "min_width": null,
      "object_fit": null,
      "object_position": null,
      "order": null,
      "overflow": null,
      "overflow_x": null,
      "overflow_y": null,
      "padding": null,
      "right": null,
      "top": null,
      "visibility": null,
      "width": null
     }
    },
    "85ca3be84c6a41e186aa73799dfa9a3d": {
     "model_module": "@jupyter-widgets/base",
     "model_module_version": "1.2.0",
     "model_name": "LayoutModel",
     "state": {
      "_model_module": "@jupyter-widgets/base",
      "_model_module_version": "1.2.0",
      "_model_name": "LayoutModel",
      "_view_count": null,
      "_view_module": "@jupyter-widgets/base",
      "_view_module_version": "1.2.0",
      "_view_name": "LayoutView",
      "align_content": null,
      "align_items": null,
      "align_self": null,
      "border": null,
      "bottom": null,
      "display": null,
      "flex": null,
      "flex_flow": null,
      "grid_area": null,
      "grid_auto_columns": null,
      "grid_auto_flow": null,
      "grid_auto_rows": null,
      "grid_column": null,
      "grid_gap": null,
      "grid_row": null,
      "grid_template_areas": null,
      "grid_template_columns": null,
      "grid_template_rows": null,
      "height": null,
      "justify_content": null,
      "justify_items": null,
      "left": null,
      "margin": null,
      "max_height": null,
      "max_width": null,
      "min_height": null,
      "min_width": null,
      "object_fit": null,
      "object_position": null,
      "order": null,
      "overflow": null,
      "overflow_x": null,
      "overflow_y": null,
      "padding": null,
      "right": null,
      "top": null,
      "visibility": null,
      "width": null
     }
    },
    "867a3a60875e4254b32f563d32dfe750": {
     "model_module": "@jupyter-widgets/controls",
     "model_module_version": "1.5.0",
     "model_name": "HBoxModel",
     "state": {
      "_dom_classes": [],
      "_model_module": "@jupyter-widgets/controls",
      "_model_module_version": "1.5.0",
      "_model_name": "HBoxModel",
      "_view_count": null,
      "_view_module": "@jupyter-widgets/controls",
      "_view_module_version": "1.5.0",
      "_view_name": "HBoxView",
      "box_style": "",
      "children": [
       "IPY_MODEL_b8018bcfbb764b73a9b9bc337a4b0790",
       "IPY_MODEL_a1ed8171b5f94559932898b53915d01c",
       "IPY_MODEL_0e63b65cc5fd435aa97b32652d872d9f"
      ],
      "layout": "IPY_MODEL_901b3f4b7da8470e90beb455bc306048"
     }
    },
    "87178867445a40808fe4344692dff213": {
     "model_module": "@jupyter-widgets/base",
     "model_module_version": "1.2.0",
     "model_name": "LayoutModel",
     "state": {
      "_model_module": "@jupyter-widgets/base",
      "_model_module_version": "1.2.0",
      "_model_name": "LayoutModel",
      "_view_count": null,
      "_view_module": "@jupyter-widgets/base",
      "_view_module_version": "1.2.0",
      "_view_name": "LayoutView",
      "align_content": null,
      "align_items": null,
      "align_self": null,
      "border": null,
      "bottom": null,
      "display": null,
      "flex": null,
      "flex_flow": null,
      "grid_area": null,
      "grid_auto_columns": null,
      "grid_auto_flow": null,
      "grid_auto_rows": null,
      "grid_column": null,
      "grid_gap": null,
      "grid_row": null,
      "grid_template_areas": null,
      "grid_template_columns": null,
      "grid_template_rows": null,
      "height": null,
      "justify_content": null,
      "justify_items": null,
      "left": null,
      "margin": null,
      "max_height": null,
      "max_width": null,
      "min_height": null,
      "min_width": null,
      "object_fit": null,
      "object_position": null,
      "order": null,
      "overflow": null,
      "overflow_x": null,
      "overflow_y": null,
      "padding": null,
      "right": null,
      "top": null,
      "visibility": null,
      "width": null
     }
    },
    "878843e8a666490b846624b6533ae691": {
     "model_module": "@jupyter-widgets/base",
     "model_module_version": "1.2.0",
     "model_name": "LayoutModel",
     "state": {
      "_model_module": "@jupyter-widgets/base",
      "_model_module_version": "1.2.0",
      "_model_name": "LayoutModel",
      "_view_count": null,
      "_view_module": "@jupyter-widgets/base",
      "_view_module_version": "1.2.0",
      "_view_name": "LayoutView",
      "align_content": null,
      "align_items": null,
      "align_self": null,
      "border": null,
      "bottom": null,
      "display": null,
      "flex": null,
      "flex_flow": null,
      "grid_area": null,
      "grid_auto_columns": null,
      "grid_auto_flow": null,
      "grid_auto_rows": null,
      "grid_column": null,
      "grid_gap": null,
      "grid_row": null,
      "grid_template_areas": null,
      "grid_template_columns": null,
      "grid_template_rows": null,
      "height": null,
      "justify_content": null,
      "justify_items": null,
      "left": null,
      "margin": null,
      "max_height": null,
      "max_width": null,
      "min_height": null,
      "min_width": null,
      "object_fit": null,
      "object_position": null,
      "order": null,
      "overflow": null,
      "overflow_x": null,
      "overflow_y": null,
      "padding": null,
      "right": null,
      "top": null,
      "visibility": null,
      "width": null
     }
    },
    "887af87e09a24f83b85155fb1451ed49": {
     "model_module": "@jupyter-widgets/base",
     "model_module_version": "1.2.0",
     "model_name": "LayoutModel",
     "state": {
      "_model_module": "@jupyter-widgets/base",
      "_model_module_version": "1.2.0",
      "_model_name": "LayoutModel",
      "_view_count": null,
      "_view_module": "@jupyter-widgets/base",
      "_view_module_version": "1.2.0",
      "_view_name": "LayoutView",
      "align_content": null,
      "align_items": null,
      "align_self": null,
      "border": null,
      "bottom": null,
      "display": null,
      "flex": null,
      "flex_flow": null,
      "grid_area": null,
      "grid_auto_columns": null,
      "grid_auto_flow": null,
      "grid_auto_rows": null,
      "grid_column": null,
      "grid_gap": null,
      "grid_row": null,
      "grid_template_areas": null,
      "grid_template_columns": null,
      "grid_template_rows": null,
      "height": null,
      "justify_content": null,
      "justify_items": null,
      "left": null,
      "margin": null,
      "max_height": null,
      "max_width": null,
      "min_height": null,
      "min_width": null,
      "object_fit": null,
      "object_position": null,
      "order": null,
      "overflow": null,
      "overflow_x": null,
      "overflow_y": null,
      "padding": null,
      "right": null,
      "top": null,
      "visibility": null,
      "width": null
     }
    },
    "8ac1f1c359ff4946b94315bd0c7f410d": {
     "model_module": "@jupyter-widgets/controls",
     "model_module_version": "1.5.0",
     "model_name": "DescriptionStyleModel",
     "state": {
      "_model_module": "@jupyter-widgets/controls",
      "_model_module_version": "1.5.0",
      "_model_name": "DescriptionStyleModel",
      "_view_count": null,
      "_view_module": "@jupyter-widgets/base",
      "_view_module_version": "1.2.0",
      "_view_name": "StyleView",
      "description_width": ""
     }
    },
    "8d9921284a2d4c2fbd188f02d41a3896": {
     "model_module": "@jupyter-widgets/controls",
     "model_module_version": "1.5.0",
     "model_name": "DescriptionStyleModel",
     "state": {
      "_model_module": "@jupyter-widgets/controls",
      "_model_module_version": "1.5.0",
      "_model_name": "DescriptionStyleModel",
      "_view_count": null,
      "_view_module": "@jupyter-widgets/base",
      "_view_module_version": "1.2.0",
      "_view_name": "StyleView",
      "description_width": ""
     }
    },
    "901b3f4b7da8470e90beb455bc306048": {
     "model_module": "@jupyter-widgets/base",
     "model_module_version": "1.2.0",
     "model_name": "LayoutModel",
     "state": {
      "_model_module": "@jupyter-widgets/base",
      "_model_module_version": "1.2.0",
      "_model_name": "LayoutModel",
      "_view_count": null,
      "_view_module": "@jupyter-widgets/base",
      "_view_module_version": "1.2.0",
      "_view_name": "LayoutView",
      "align_content": null,
      "align_items": null,
      "align_self": null,
      "border": null,
      "bottom": null,
      "display": null,
      "flex": null,
      "flex_flow": null,
      "grid_area": null,
      "grid_auto_columns": null,
      "grid_auto_flow": null,
      "grid_auto_rows": null,
      "grid_column": null,
      "grid_gap": null,
      "grid_row": null,
      "grid_template_areas": null,
      "grid_template_columns": null,
      "grid_template_rows": null,
      "height": null,
      "justify_content": null,
      "justify_items": null,
      "left": null,
      "margin": null,
      "max_height": null,
      "max_width": null,
      "min_height": null,
      "min_width": null,
      "object_fit": null,
      "object_position": null,
      "order": null,
      "overflow": null,
      "overflow_x": null,
      "overflow_y": null,
      "padding": null,
      "right": null,
      "top": null,
      "visibility": null,
      "width": null
     }
    },
    "9297b4e4036544378c32962912132f5b": {
     "model_module": "@jupyter-widgets/base",
     "model_module_version": "1.2.0",
     "model_name": "LayoutModel",
     "state": {
      "_model_module": "@jupyter-widgets/base",
      "_model_module_version": "1.2.0",
      "_model_name": "LayoutModel",
      "_view_count": null,
      "_view_module": "@jupyter-widgets/base",
      "_view_module_version": "1.2.0",
      "_view_name": "LayoutView",
      "align_content": null,
      "align_items": null,
      "align_self": null,
      "border": null,
      "bottom": null,
      "display": null,
      "flex": null,
      "flex_flow": null,
      "grid_area": null,
      "grid_auto_columns": null,
      "grid_auto_flow": null,
      "grid_auto_rows": null,
      "grid_column": null,
      "grid_gap": null,
      "grid_row": null,
      "grid_template_areas": null,
      "grid_template_columns": null,
      "grid_template_rows": null,
      "height": null,
      "justify_content": null,
      "justify_items": null,
      "left": null,
      "margin": null,
      "max_height": null,
      "max_width": null,
      "min_height": null,
      "min_width": null,
      "object_fit": null,
      "object_position": null,
      "order": null,
      "overflow": null,
      "overflow_x": null,
      "overflow_y": null,
      "padding": null,
      "right": null,
      "top": null,
      "visibility": null,
      "width": null
     }
    },
    "92dba965b6264c2b811bacca85d40a5e": {
     "model_module": "@jupyter-widgets/controls",
     "model_module_version": "1.5.0",
     "model_name": "HBoxModel",
     "state": {
      "_dom_classes": [],
      "_model_module": "@jupyter-widgets/controls",
      "_model_module_version": "1.5.0",
      "_model_name": "HBoxModel",
      "_view_count": null,
      "_view_module": "@jupyter-widgets/controls",
      "_view_module_version": "1.5.0",
      "_view_name": "HBoxView",
      "box_style": "",
      "children": [
       "IPY_MODEL_628c2a6ea7aa4d258391d460c3f3355a",
       "IPY_MODEL_1e38f25d405843a9869e28e3fd5c0e16",
       "IPY_MODEL_158a3518028d4bafbb70e05e53a63d61"
      ],
      "layout": "IPY_MODEL_a7f1b6c98fe14d40805a951f7e7763f8"
     }
    },
    "92fa909e399d4226978f9ce6b3e4dad7": {
     "model_module": "@jupyter-widgets/controls",
     "model_module_version": "1.5.0",
     "model_name": "HTMLModel",
     "state": {
      "_dom_classes": [],
      "_model_module": "@jupyter-widgets/controls",
      "_model_module_version": "1.5.0",
      "_model_name": "HTMLModel",
      "_view_count": null,
      "_view_module": "@jupyter-widgets/controls",
      "_view_module_version": "1.5.0",
      "_view_name": "HTMLView",
      "description": "",
      "description_tooltip": null,
      "layout": "IPY_MODEL_6628e2b30d4a4532a375e582ad569d2a",
      "placeholder": "​",
      "style": "IPY_MODEL_c5d68e30b9074f349feebb7b11306fa5",
      "value": "Generating unsupervised split: 100%"
     }
    },
    "944306520c7442ea972ca10a153a9c93": {
     "model_module": "@jupyter-widgets/base",
     "model_module_version": "1.2.0",
     "model_name": "LayoutModel",
     "state": {
      "_model_module": "@jupyter-widgets/base",
      "_model_module_version": "1.2.0",
      "_model_name": "LayoutModel",
      "_view_count": null,
      "_view_module": "@jupyter-widgets/base",
      "_view_module_version": "1.2.0",
      "_view_name": "LayoutView",
      "align_content": null,
      "align_items": null,
      "align_self": null,
      "border": null,
      "bottom": null,
      "display": null,
      "flex": null,
      "flex_flow": null,
      "grid_area": null,
      "grid_auto_columns": null,
      "grid_auto_flow": null,
      "grid_auto_rows": null,
      "grid_column": null,
      "grid_gap": null,
      "grid_row": null,
      "grid_template_areas": null,
      "grid_template_columns": null,
      "grid_template_rows": null,
      "height": null,
      "justify_content": null,
      "justify_items": null,
      "left": null,
      "margin": null,
      "max_height": null,
      "max_width": null,
      "min_height": null,
      "min_width": null,
      "object_fit": null,
      "object_position": null,
      "order": null,
      "overflow": null,
      "overflow_x": null,
      "overflow_y": null,
      "padding": null,
      "right": null,
      "top": null,
      "visibility": null,
      "width": null
     }
    },
    "951d742e028c4441bf8ecf786151e600": {
     "model_module": "@jupyter-widgets/controls",
     "model_module_version": "1.5.0",
     "model_name": "HTMLModel",
     "state": {
      "_dom_classes": [],
      "_model_module": "@jupyter-widgets/controls",
      "_model_module_version": "1.5.0",
      "_model_name": "HTMLModel",
      "_view_count": null,
      "_view_module": "@jupyter-widgets/controls",
      "_view_module_version": "1.5.0",
      "_view_name": "HTMLView",
      "description": "",
      "description_tooltip": null,
      "layout": "IPY_MODEL_52b89955d2674b98a562e2060c67713f",
      "placeholder": "​",
      "style": "IPY_MODEL_f398bca524e74649a308d5d1850a9490",
      "value": "100%"
     }
    },
    "98d20034c3d7461a8d92af949848c1b8": {
     "model_module": "@jupyter-widgets/controls",
     "model_module_version": "1.5.0",
     "model_name": "FloatProgressModel",
     "state": {
      "_dom_classes": [],
      "_model_module": "@jupyter-widgets/controls",
      "_model_module_version": "1.5.0",
      "_model_name": "FloatProgressModel",
      "_view_count": null,
      "_view_module": "@jupyter-widgets/controls",
      "_view_module_version": "1.5.0",
      "_view_name": "ProgressView",
      "bar_style": "success",
      "description": "",
      "description_tooltip": null,
      "layout": "IPY_MODEL_3855761668194962a580af293681e740",
      "max": 4591,
      "min": 0,
      "orientation": "horizontal",
      "style": "IPY_MODEL_ce5e920038fa498aa4bbf4f4eb6845e2",
      "value": 4591
     }
    },
    "9a3c33883b0f4caeb5bb5970e0f3fbc6": {
     "model_module": "@jupyter-widgets/controls",
     "model_module_version": "1.5.0",
     "model_name": "DescriptionStyleModel",
     "state": {
      "_model_module": "@jupyter-widgets/controls",
      "_model_module_version": "1.5.0",
      "_model_name": "DescriptionStyleModel",
      "_view_count": null,
      "_view_module": "@jupyter-widgets/base",
      "_view_module_version": "1.2.0",
      "_view_name": "StyleView",
      "description_width": ""
     }
    },
    "9a8aad3d00b94bf2a4bf937d638a078d": {
     "model_module": "@jupyter-widgets/controls",
     "model_module_version": "1.5.0",
     "model_name": "HBoxModel",
     "state": {
      "_dom_classes": [],
      "_model_module": "@jupyter-widgets/controls",
      "_model_module_version": "1.5.0",
      "_model_name": "HBoxModel",
      "_view_count": null,
      "_view_module": "@jupyter-widgets/controls",
      "_view_module_version": "1.5.0",
      "_view_name": "HBoxView",
      "box_style": "",
      "children": [
       "IPY_MODEL_1f56b9cdbfef4e65ba42909acfc7b435",
       "IPY_MODEL_af9a7468be10433faede2404fea372b4",
       "IPY_MODEL_27d6f4c95c53439285a507db889c4261"
      ],
      "layout": "IPY_MODEL_58b634e854a34979bb79ca1db82884f3"
     }
    },
    "9cd2a91ef945460eb50c8ff620e9b91f": {
     "model_module": "@jupyter-widgets/base",
     "model_module_version": "1.2.0",
     "model_name": "LayoutModel",
     "state": {
      "_model_module": "@jupyter-widgets/base",
      "_model_module_version": "1.2.0",
      "_model_name": "LayoutModel",
      "_view_count": null,
      "_view_module": "@jupyter-widgets/base",
      "_view_module_version": "1.2.0",
      "_view_name": "LayoutView",
      "align_content": null,
      "align_items": null,
      "align_self": null,
      "border": null,
      "bottom": null,
      "display": null,
      "flex": null,
      "flex_flow": null,
      "grid_area": null,
      "grid_auto_columns": null,
      "grid_auto_flow": null,
      "grid_auto_rows": null,
      "grid_column": null,
      "grid_gap": null,
      "grid_row": null,
      "grid_template_areas": null,
      "grid_template_columns": null,
      "grid_template_rows": null,
      "height": null,
      "justify_content": null,
      "justify_items": null,
      "left": null,
      "margin": null,
      "max_height": null,
      "max_width": null,
      "min_height": null,
      "min_width": null,
      "object_fit": null,
      "object_position": null,
      "order": null,
      "overflow": null,
      "overflow_x": null,
      "overflow_y": null,
      "padding": null,
      "right": null,
      "top": null,
      "visibility": null,
      "width": null
     }
    },
    "9dfb8e0ce4cc4a9f9171c0095d4399a6": {
     "model_module": "@jupyter-widgets/controls",
     "model_module_version": "1.5.0",
     "model_name": "DescriptionStyleModel",
     "state": {
      "_model_module": "@jupyter-widgets/controls",
      "_model_module_version": "1.5.0",
      "_model_name": "DescriptionStyleModel",
      "_view_count": null,
      "_view_module": "@jupyter-widgets/base",
      "_view_module_version": "1.2.0",
      "_view_name": "StyleView",
      "description_width": ""
     }
    },
    "a1ed8171b5f94559932898b53915d01c": {
     "model_module": "@jupyter-widgets/controls",
     "model_module_version": "1.5.0",
     "model_name": "FloatProgressModel",
     "state": {
      "_dom_classes": [],
      "_model_module": "@jupyter-widgets/controls",
      "_model_module_version": "1.5.0",
      "_model_name": "FloatProgressModel",
      "_view_count": null,
      "_view_module": "@jupyter-widgets/controls",
      "_view_module_version": "1.5.0",
      "_view_name": "ProgressView",
      "bar_style": "success",
      "description": "",
      "description_tooltip": null,
      "layout": "IPY_MODEL_1809807be418403ca10d53207b5b1ec8",
      "max": 25000,
      "min": 0,
      "orientation": "horizontal",
      "style": "IPY_MODEL_d253305571f648d3b235e05023f6eb4d",
      "value": 25000
     }
    },
    "a200f5ce52a9438795e39af550c413c3": {
     "model_module": "@jupyter-widgets/base",
     "model_module_version": "1.2.0",
     "model_name": "LayoutModel",
     "state": {
      "_model_module": "@jupyter-widgets/base",
      "_model_module_version": "1.2.0",
      "_model_name": "LayoutModel",
      "_view_count": null,
      "_view_module": "@jupyter-widgets/base",
      "_view_module_version": "1.2.0",
      "_view_name": "LayoutView",
      "align_content": null,
      "align_items": null,
      "align_self": null,
      "border": null,
      "bottom": null,
      "display": null,
      "flex": null,
      "flex_flow": null,
      "grid_area": null,
      "grid_auto_columns": null,
      "grid_auto_flow": null,
      "grid_auto_rows": null,
      "grid_column": null,
      "grid_gap": null,
      "grid_row": null,
      "grid_template_areas": null,
      "grid_template_columns": null,
      "grid_template_rows": null,
      "height": null,
      "justify_content": null,
      "justify_items": null,
      "left": null,
      "margin": null,
      "max_height": null,
      "max_width": null,
      "min_height": null,
      "min_width": null,
      "object_fit": null,
      "object_position": null,
      "order": null,
      "overflow": null,
      "overflow_x": null,
      "overflow_y": null,
      "padding": null,
      "right": null,
      "top": null,
      "visibility": null,
      "width": null
     }
    },
    "a302ea9fb68645bd85c6039ee9e30369": {
     "model_module": "@jupyter-widgets/controls",
     "model_module_version": "1.5.0",
     "model_name": "DescriptionStyleModel",
     "state": {
      "_model_module": "@jupyter-widgets/controls",
      "_model_module_version": "1.5.0",
      "_model_name": "DescriptionStyleModel",
      "_view_count": null,
      "_view_module": "@jupyter-widgets/base",
      "_view_module_version": "1.2.0",
      "_view_name": "StyleView",
      "description_width": ""
     }
    },
    "a45cffc9a62940d3b5db224c8b728ef5": {
     "model_module": "@jupyter-widgets/controls",
     "model_module_version": "1.5.0",
     "model_name": "FloatProgressModel",
     "state": {
      "_dom_classes": [],
      "_model_module": "@jupyter-widgets/controls",
      "_model_module_version": "1.5.0",
      "_model_name": "FloatProgressModel",
      "_view_count": null,
      "_view_module": "@jupyter-widgets/controls",
      "_view_module_version": "1.5.0",
      "_view_name": "ProgressView",
      "bar_style": "success",
      "description": "",
      "description_tooltip": null,
      "layout": "IPY_MODEL_4fdad90646e84e93ae03ab7d9f05885a",
      "max": 4591,
      "min": 0,
      "orientation": "horizontal",
      "style": "IPY_MODEL_6358b573f5a54f26a1700bda3db23eb5",
      "value": 4591
     }
    },
    "a6a95f6ecc05451b9ce1f49896f8a2e6": {
     "model_module": "@jupyter-widgets/controls",
     "model_module_version": "1.5.0",
     "model_name": "DescriptionStyleModel",
     "state": {
      "_model_module": "@jupyter-widgets/controls",
      "_model_module_version": "1.5.0",
      "_model_name": "DescriptionStyleModel",
      "_view_count": null,
      "_view_module": "@jupyter-widgets/base",
      "_view_module_version": "1.2.0",
      "_view_name": "StyleView",
      "description_width": ""
     }
    },
    "a6ef7919c2bc45678225b353268ccb67": {
     "model_module": "@jupyter-widgets/base",
     "model_module_version": "1.2.0",
     "model_name": "LayoutModel",
     "state": {
      "_model_module": "@jupyter-widgets/base",
      "_model_module_version": "1.2.0",
      "_model_name": "LayoutModel",
      "_view_count": null,
      "_view_module": "@jupyter-widgets/base",
      "_view_module_version": "1.2.0",
      "_view_name": "LayoutView",
      "align_content": null,
      "align_items": null,
      "align_self": null,
      "border": null,
      "bottom": null,
      "display": null,
      "flex": null,
      "flex_flow": null,
      "grid_area": null,
      "grid_auto_columns": null,
      "grid_auto_flow": null,
      "grid_auto_rows": null,
      "grid_column": null,
      "grid_gap": null,
      "grid_row": null,
      "grid_template_areas": null,
      "grid_template_columns": null,
      "grid_template_rows": null,
      "height": null,
      "justify_content": null,
      "justify_items": null,
      "left": null,
      "margin": null,
      "max_height": null,
      "max_width": null,
      "min_height": null,
      "min_width": null,
      "object_fit": null,
      "object_position": null,
      "order": null,
      "overflow": null,
      "overflow_x": null,
      "overflow_y": null,
      "padding": null,
      "right": null,
      "top": null,
      "visibility": null,
      "width": null
     }
    },
    "a7f1b6c98fe14d40805a951f7e7763f8": {
     "model_module": "@jupyter-widgets/base",
     "model_module_version": "1.2.0",
     "model_name": "LayoutModel",
     "state": {
      "_model_module": "@jupyter-widgets/base",
      "_model_module_version": "1.2.0",
      "_model_name": "LayoutModel",
      "_view_count": null,
      "_view_module": "@jupyter-widgets/base",
      "_view_module_version": "1.2.0",
      "_view_name": "LayoutView",
      "align_content": null,
      "align_items": null,
      "align_self": null,
      "border": null,
      "bottom": null,
      "display": null,
      "flex": null,
      "flex_flow": null,
      "grid_area": null,
      "grid_auto_columns": null,
      "grid_auto_flow": null,
      "grid_auto_rows": null,
      "grid_column": null,
      "grid_gap": null,
      "grid_row": null,
      "grid_template_areas": null,
      "grid_template_columns": null,
      "grid_template_rows": null,
      "height": null,
      "justify_content": null,
      "justify_items": null,
      "left": null,
      "margin": null,
      "max_height": null,
      "max_width": null,
      "min_height": null,
      "min_width": null,
      "object_fit": null,
      "object_position": null,
      "order": null,
      "overflow": null,
      "overflow_x": null,
      "overflow_y": null,
      "padding": null,
      "right": null,
      "top": null,
      "visibility": null,
      "width": null
     }
    },
    "ab1aa2783b3c451d90f54cd0ee4c8d3f": {
     "model_module": "@jupyter-widgets/base",
     "model_module_version": "1.2.0",
     "model_name": "LayoutModel",
     "state": {
      "_model_module": "@jupyter-widgets/base",
      "_model_module_version": "1.2.0",
      "_model_name": "LayoutModel",
      "_view_count": null,
      "_view_module": "@jupyter-widgets/base",
      "_view_module_version": "1.2.0",
      "_view_name": "LayoutView",
      "align_content": null,
      "align_items": null,
      "align_self": null,
      "border": null,
      "bottom": null,
      "display": null,
      "flex": null,
      "flex_flow": null,
      "grid_area": null,
      "grid_auto_columns": null,
      "grid_auto_flow": null,
      "grid_auto_rows": null,
      "grid_column": null,
      "grid_gap": null,
      "grid_row": null,
      "grid_template_areas": null,
      "grid_template_columns": null,
      "grid_template_rows": null,
      "height": null,
      "justify_content": null,
      "justify_items": null,
      "left": null,
      "margin": null,
      "max_height": null,
      "max_width": null,
      "min_height": null,
      "min_width": null,
      "object_fit": null,
      "object_position": null,
      "order": null,
      "overflow": null,
      "overflow_x": null,
      "overflow_y": null,
      "padding": null,
      "right": null,
      "top": null,
      "visibility": null,
      "width": null
     }
    },
    "af9a7468be10433faede2404fea372b4": {
     "model_module": "@jupyter-widgets/controls",
     "model_module_version": "1.5.0",
     "model_name": "FloatProgressModel",
     "state": {
      "_dom_classes": [],
      "_model_module": "@jupyter-widgets/controls",
      "_model_module_version": "1.5.0",
      "_model_name": "FloatProgressModel",
      "_view_count": null,
      "_view_module": "@jupyter-widgets/controls",
      "_view_module_version": "1.5.0",
      "_view_name": "ProgressView",
      "bar_style": "success",
      "description": "",
      "description_tooltip": null,
      "layout": "IPY_MODEL_ebfce1bb0a81458a9709ac3b9fd0955b",
      "max": 4591,
      "min": 0,
      "orientation": "horizontal",
      "style": "IPY_MODEL_63d7f9cadc1c4d6ca65445c0042fdd34",
      "value": 4591
     }
    },
    "afd7a11b31e14ea9a44513e7ecae6d26": {
     "model_module": "@jupyter-widgets/controls",
     "model_module_version": "1.5.0",
     "model_name": "DescriptionStyleModel",
     "state": {
      "_model_module": "@jupyter-widgets/controls",
      "_model_module_version": "1.5.0",
      "_model_name": "DescriptionStyleModel",
      "_view_count": null,
      "_view_module": "@jupyter-widgets/base",
      "_view_module_version": "1.2.0",
      "_view_name": "StyleView",
      "description_width": ""
     }
    },
    "b1882411c241407c8a25fa73c99d2024": {
     "model_module": "@jupyter-widgets/controls",
     "model_module_version": "1.5.0",
     "model_name": "DescriptionStyleModel",
     "state": {
      "_model_module": "@jupyter-widgets/controls",
      "_model_module_version": "1.5.0",
      "_model_name": "DescriptionStyleModel",
      "_view_count": null,
      "_view_module": "@jupyter-widgets/base",
      "_view_module_version": "1.2.0",
      "_view_name": "StyleView",
      "description_width": ""
     }
    },
    "b23f1b6077a84c41b97792b833084ff0": {
     "model_module": "@jupyter-widgets/controls",
     "model_module_version": "1.5.0",
     "model_name": "ProgressStyleModel",
     "state": {
      "_model_module": "@jupyter-widgets/controls",
      "_model_module_version": "1.5.0",
      "_model_name": "ProgressStyleModel",
      "_view_count": null,
      "_view_module": "@jupyter-widgets/base",
      "_view_module_version": "1.2.0",
      "_view_name": "StyleView",
      "bar_color": null,
      "description_width": ""
     }
    },
    "b3e44c56bc3243cda25aa0a6f2a05897": {
     "model_module": "@jupyter-widgets/base",
     "model_module_version": "1.2.0",
     "model_name": "LayoutModel",
     "state": {
      "_model_module": "@jupyter-widgets/base",
      "_model_module_version": "1.2.0",
      "_model_name": "LayoutModel",
      "_view_count": null,
      "_view_module": "@jupyter-widgets/base",
      "_view_module_version": "1.2.0",
      "_view_name": "LayoutView",
      "align_content": null,
      "align_items": null,
      "align_self": null,
      "border": null,
      "bottom": null,
      "display": null,
      "flex": null,
      "flex_flow": null,
      "grid_area": null,
      "grid_auto_columns": null,
      "grid_auto_flow": null,
      "grid_auto_rows": null,
      "grid_column": null,
      "grid_gap": null,
      "grid_row": null,
      "grid_template_areas": null,
      "grid_template_columns": null,
      "grid_template_rows": null,
      "height": null,
      "justify_content": null,
      "justify_items": null,
      "left": null,
      "margin": null,
      "max_height": null,
      "max_width": null,
      "min_height": null,
      "min_width": null,
      "object_fit": null,
      "object_position": null,
      "order": null,
      "overflow": null,
      "overflow_x": null,
      "overflow_y": null,
      "padding": null,
      "right": null,
      "top": null,
      "visibility": null,
      "width": null
     }
    },
    "b5a62cb3edd340ce89165e0d89213589": {
     "model_module": "@jupyter-widgets/controls",
     "model_module_version": "1.5.0",
     "model_name": "ProgressStyleModel",
     "state": {
      "_model_module": "@jupyter-widgets/controls",
      "_model_module_version": "1.5.0",
      "_model_name": "ProgressStyleModel",
      "_view_count": null,
      "_view_module": "@jupyter-widgets/base",
      "_view_module_version": "1.2.0",
      "_view_name": "StyleView",
      "bar_color": null,
      "description_width": ""
     }
    },
    "b7f0a0060d414190a922b70b1d2e7589": {
     "model_module": "@jupyter-widgets/controls",
     "model_module_version": "1.5.0",
     "model_name": "DescriptionStyleModel",
     "state": {
      "_model_module": "@jupyter-widgets/controls",
      "_model_module_version": "1.5.0",
      "_model_name": "DescriptionStyleModel",
      "_view_count": null,
      "_view_module": "@jupyter-widgets/base",
      "_view_module_version": "1.2.0",
      "_view_name": "StyleView",
      "description_width": ""
     }
    },
    "b8018bcfbb764b73a9b9bc337a4b0790": {
     "model_module": "@jupyter-widgets/controls",
     "model_module_version": "1.5.0",
     "model_name": "HTMLModel",
     "state": {
      "_dom_classes": [],
      "_model_module": "@jupyter-widgets/controls",
      "_model_module_version": "1.5.0",
      "_model_name": "HTMLModel",
      "_view_count": null,
      "_view_module": "@jupyter-widgets/controls",
      "_view_module_version": "1.5.0",
      "_view_name": "HTMLView",
      "description": "",
      "description_tooltip": null,
      "layout": "IPY_MODEL_d1b51e1fe67142d8a1db0a351d540ca2",
      "placeholder": "​",
      "style": "IPY_MODEL_a6a95f6ecc05451b9ce1f49896f8a2e6",
      "value": "Generating test split: 100%"
     }
    },
    "b8d22375141a4dbd8858a23d6a3eb90b": {
     "model_module": "@jupyter-widgets/controls",
     "model_module_version": "1.5.0",
     "model_name": "FloatProgressModel",
     "state": {
      "_dom_classes": [],
      "_model_module": "@jupyter-widgets/controls",
      "_model_module_version": "1.5.0",
      "_model_name": "FloatProgressModel",
      "_view_count": null,
      "_view_module": "@jupyter-widgets/controls",
      "_view_module_version": "1.5.0",
      "_view_name": "ProgressView",
      "bar_style": "success",
      "description": "",
      "description_tooltip": null,
      "layout": "IPY_MODEL_7e8949d16c7f4b6d84dfcef2679565dd",
      "max": 4591,
      "min": 0,
      "orientation": "horizontal",
      "style": "IPY_MODEL_1fbb95ecd8c34c77950ade6d79c8d1b5",
      "value": 4591
     }
    },
    "b90c4c8715604c5eaf40fee8ee4a3e9f": {
     "model_module": "@jupyter-widgets/controls",
     "model_module_version": "1.5.0",
     "model_name": "DescriptionStyleModel",
     "state": {
      "_model_module": "@jupyter-widgets/controls",
      "_model_module_version": "1.5.0",
      "_model_name": "DescriptionStyleModel",
      "_view_count": null,
      "_view_module": "@jupyter-widgets/base",
      "_view_module_version": "1.2.0",
      "_view_name": "StyleView",
      "description_width": ""
     }
    },
    "b9b77c69dfde4b85bed06216e5947a67": {
     "model_module": "@jupyter-widgets/controls",
     "model_module_version": "1.5.0",
     "model_name": "HTMLModel",
     "state": {
      "_dom_classes": [],
      "_model_module": "@jupyter-widgets/controls",
      "_model_module_version": "1.5.0",
      "_model_name": "HTMLModel",
      "_view_count": null,
      "_view_module": "@jupyter-widgets/controls",
      "_view_module_version": "1.5.0",
      "_view_name": "HTMLView",
      "description": "",
      "description_tooltip": null,
      "layout": "IPY_MODEL_51b1036ebc6649ae84b6fe85e9152273",
      "placeholder": "​",
      "style": "IPY_MODEL_ba25860ab9244df6a0f87ad308e581c3",
      "value": "train-00000-of-00001.parquet: 100%"
     }
    },
    "ba25860ab9244df6a0f87ad308e581c3": {
     "model_module": "@jupyter-widgets/controls",
     "model_module_version": "1.5.0",
     "model_name": "DescriptionStyleModel",
     "state": {
      "_model_module": "@jupyter-widgets/controls",
      "_model_module_version": "1.5.0",
      "_model_name": "DescriptionStyleModel",
      "_view_count": null,
      "_view_module": "@jupyter-widgets/base",
      "_view_module_version": "1.2.0",
      "_view_name": "StyleView",
      "description_width": ""
     }
    },
    "bd67ce0eb433450b9dcc403607279008": {
     "model_module": "@jupyter-widgets/controls",
     "model_module_version": "1.5.0",
     "model_name": "DescriptionStyleModel",
     "state": {
      "_model_module": "@jupyter-widgets/controls",
      "_model_module_version": "1.5.0",
      "_model_name": "DescriptionStyleModel",
      "_view_count": null,
      "_view_module": "@jupyter-widgets/base",
      "_view_module_version": "1.2.0",
      "_view_name": "StyleView",
      "description_width": ""
     }
    },
    "bdc63baf6b51481ab95b77f80527e32c": {
     "model_module": "@jupyter-widgets/controls",
     "model_module_version": "1.5.0",
     "model_name": "HTMLModel",
     "state": {
      "_dom_classes": [],
      "_model_module": "@jupyter-widgets/controls",
      "_model_module_version": "1.5.0",
      "_model_name": "HTMLModel",
      "_view_count": null,
      "_view_module": "@jupyter-widgets/controls",
      "_view_module_version": "1.5.0",
      "_view_name": "HTMLView",
      "description": "",
      "description_tooltip": null,
      "layout": "IPY_MODEL_c6a3097528e441318c79324c7e58eee9",
      "placeholder": "​",
      "style": "IPY_MODEL_1ad8d0cf2e9741c3a42429597b49657b",
      "value": " 25000/25000 [00:00&lt;00:00, 39047.11 examples/s]"
     }
    },
    "bf35170a909a44f1be7c07d73a610310": {
     "model_module": "@jupyter-widgets/controls",
     "model_module_version": "1.5.0",
     "model_name": "DescriptionStyleModel",
     "state": {
      "_model_module": "@jupyter-widgets/controls",
      "_model_module_version": "1.5.0",
      "_model_name": "DescriptionStyleModel",
      "_view_count": null,
      "_view_module": "@jupyter-widgets/base",
      "_view_module_version": "1.2.0",
      "_view_name": "StyleView",
      "description_width": ""
     }
    },
    "bff70d452ae04db4b818a33e3e9e1db0": {
     "model_module": "@jupyter-widgets/base",
     "model_module_version": "1.2.0",
     "model_name": "LayoutModel",
     "state": {
      "_model_module": "@jupyter-widgets/base",
      "_model_module_version": "1.2.0",
      "_model_name": "LayoutModel",
      "_view_count": null,
      "_view_module": "@jupyter-widgets/base",
      "_view_module_version": "1.2.0",
      "_view_name": "LayoutView",
      "align_content": null,
      "align_items": null,
      "align_self": null,
      "border": null,
      "bottom": null,
      "display": null,
      "flex": null,
      "flex_flow": null,
      "grid_area": null,
      "grid_auto_columns": null,
      "grid_auto_flow": null,
      "grid_auto_rows": null,
      "grid_column": null,
      "grid_gap": null,
      "grid_row": null,
      "grid_template_areas": null,
      "grid_template_columns": null,
      "grid_template_rows": null,
      "height": null,
      "justify_content": null,
      "justify_items": null,
      "left": null,
      "margin": null,
      "max_height": null,
      "max_width": null,
      "min_height": null,
      "min_width": null,
      "object_fit": null,
      "object_position": null,
      "order": null,
      "overflow": null,
      "overflow_x": null,
      "overflow_y": null,
      "padding": null,
      "right": null,
      "top": null,
      "visibility": null,
      "width": null
     }
    },
    "c0a82cdb6cfb46d3acb0315969ee1dc4": {
     "model_module": "@jupyter-widgets/controls",
     "model_module_version": "1.5.0",
     "model_name": "ProgressStyleModel",
     "state": {
      "_model_module": "@jupyter-widgets/controls",
      "_model_module_version": "1.5.0",
      "_model_name": "ProgressStyleModel",
      "_view_count": null,
      "_view_module": "@jupyter-widgets/base",
      "_view_module_version": "1.2.0",
      "_view_name": "StyleView",
      "bar_color": null,
      "description_width": ""
     }
    },
    "c0d417e5441841b69fe22e31adda67c3": {
     "model_module": "@jupyter-widgets/base",
     "model_module_version": "1.2.0",
     "model_name": "LayoutModel",
     "state": {
      "_model_module": "@jupyter-widgets/base",
      "_model_module_version": "1.2.0",
      "_model_name": "LayoutModel",
      "_view_count": null,
      "_view_module": "@jupyter-widgets/base",
      "_view_module_version": "1.2.0",
      "_view_name": "LayoutView",
      "align_content": null,
      "align_items": null,
      "align_self": null,
      "border": null,
      "bottom": null,
      "display": null,
      "flex": null,
      "flex_flow": null,
      "grid_area": null,
      "grid_auto_columns": null,
      "grid_auto_flow": null,
      "grid_auto_rows": null,
      "grid_column": null,
      "grid_gap": null,
      "grid_row": null,
      "grid_template_areas": null,
      "grid_template_columns": null,
      "grid_template_rows": null,
      "height": null,
      "justify_content": null,
      "justify_items": null,
      "left": null,
      "margin": null,
      "max_height": null,
      "max_width": null,
      "min_height": null,
      "min_width": null,
      "object_fit": null,
      "object_position": null,
      "order": null,
      "overflow": null,
      "overflow_x": null,
      "overflow_y": null,
      "padding": null,
      "right": null,
      "top": null,
      "visibility": null,
      "width": null
     }
    },
    "c5d68e30b9074f349feebb7b11306fa5": {
     "model_module": "@jupyter-widgets/controls",
     "model_module_version": "1.5.0",
     "model_name": "DescriptionStyleModel",
     "state": {
      "_model_module": "@jupyter-widgets/controls",
      "_model_module_version": "1.5.0",
      "_model_name": "DescriptionStyleModel",
      "_view_count": null,
      "_view_module": "@jupyter-widgets/base",
      "_view_module_version": "1.2.0",
      "_view_name": "StyleView",
      "description_width": ""
     }
    },
    "c6a3097528e441318c79324c7e58eee9": {
     "model_module": "@jupyter-widgets/base",
     "model_module_version": "1.2.0",
     "model_name": "LayoutModel",
     "state": {
      "_model_module": "@jupyter-widgets/base",
      "_model_module_version": "1.2.0",
      "_model_name": "LayoutModel",
      "_view_count": null,
      "_view_module": "@jupyter-widgets/base",
      "_view_module_version": "1.2.0",
      "_view_name": "LayoutView",
      "align_content": null,
      "align_items": null,
      "align_self": null,
      "border": null,
      "bottom": null,
      "display": null,
      "flex": null,
      "flex_flow": null,
      "grid_area": null,
      "grid_auto_columns": null,
      "grid_auto_flow": null,
      "grid_auto_rows": null,
      "grid_column": null,
      "grid_gap": null,
      "grid_row": null,
      "grid_template_areas": null,
      "grid_template_columns": null,
      "grid_template_rows": null,
      "height": null,
      "justify_content": null,
      "justify_items": null,
      "left": null,
      "margin": null,
      "max_height": null,
      "max_width": null,
      "min_height": null,
      "min_width": null,
      "object_fit": null,
      "object_position": null,
      "order": null,
      "overflow": null,
      "overflow_x": null,
      "overflow_y": null,
      "padding": null,
      "right": null,
      "top": null,
      "visibility": null,
      "width": null
     }
    },
    "c71dfe4d6f8f4cc1b31a13cd9d2761ef": {
     "model_module": "@jupyter-widgets/controls",
     "model_module_version": "1.5.0",
     "model_name": "HBoxModel",
     "state": {
      "_dom_classes": [],
      "_model_module": "@jupyter-widgets/controls",
      "_model_module_version": "1.5.0",
      "_model_name": "HBoxModel",
      "_view_count": null,
      "_view_module": "@jupyter-widgets/controls",
      "_view_module_version": "1.5.0",
      "_view_name": "HBoxView",
      "box_style": "",
      "children": [
       "IPY_MODEL_187d549c10354b2abc8e729b8fb88e40",
       "IPY_MODEL_5dff79666eb9404f86ed727423e74d5e",
       "IPY_MODEL_3fcc34f8952c4443bafbb4a7ff17eb7d"
      ],
      "layout": "IPY_MODEL_45721a15d916480daaf6e7d83246e408"
     }
    },
    "c875ac74e09744ab9aea737d7524b7b5": {
     "model_module": "@jupyter-widgets/controls",
     "model_module_version": "1.5.0",
     "model_name": "HTMLModel",
     "state": {
      "_dom_classes": [],
      "_model_module": "@jupyter-widgets/controls",
      "_model_module_version": "1.5.0",
      "_model_name": "HTMLModel",
      "_view_count": null,
      "_view_module": "@jupyter-widgets/controls",
      "_view_module_version": "1.5.0",
      "_view_name": "HTMLView",
      "description": "",
      "description_tooltip": null,
      "layout": "IPY_MODEL_ab1aa2783b3c451d90f54cd0ee4c8d3f",
      "placeholder": "​",
      "style": "IPY_MODEL_64657fad8e1e4db78111c101e5754941",
      "value": " 1188/4591 [04:01&lt;11:21,  4.99it/s]"
     }
    },
    "ca52bf031384450886868379c1083ab6": {
     "model_module": "@jupyter-widgets/controls",
     "model_module_version": "1.5.0",
     "model_name": "FloatProgressModel",
     "state": {
      "_dom_classes": [],
      "_model_module": "@jupyter-widgets/controls",
      "_model_module_version": "1.5.0",
      "_model_name": "FloatProgressModel",
      "_view_count": null,
      "_view_module": "@jupyter-widgets/controls",
      "_view_module_version": "1.5.0",
      "_view_name": "ProgressView",
      "bar_style": "success",
      "description": "",
      "description_tooltip": null,
      "layout": "IPY_MODEL_e80ca2d9d8344e8eb1cdfcb3a4d628bc",
      "max": 734448,
      "min": 0,
      "orientation": "horizontal",
      "style": "IPY_MODEL_5f71b6594da9484e9acd5592b01f7fc5",
      "value": 734448
     }
    },
    "cb0c70c525e746b0afd544b791bcdec7": {
     "model_module": "@jupyter-widgets/controls",
     "model_module_version": "1.5.0",
     "model_name": "DescriptionStyleModel",
     "state": {
      "_model_module": "@jupyter-widgets/controls",
      "_model_module_version": "1.5.0",
      "_model_name": "DescriptionStyleModel",
      "_view_count": null,
      "_view_module": "@jupyter-widgets/base",
      "_view_module_version": "1.2.0",
      "_view_name": "StyleView",
      "description_width": ""
     }
    },
    "cb390c64f1304c159f207e062335af0b": {
     "model_module": "@jupyter-widgets/controls",
     "model_module_version": "1.5.0",
     "model_name": "HBoxModel",
     "state": {
      "_dom_classes": [],
      "_model_module": "@jupyter-widgets/controls",
      "_model_module_version": "1.5.0",
      "_model_name": "HBoxModel",
      "_view_count": null,
      "_view_module": "@jupyter-widgets/controls",
      "_view_module_version": "1.5.0",
      "_view_name": "HBoxView",
      "box_style": "",
      "children": [
       "IPY_MODEL_b9b77c69dfde4b85bed06216e5947a67",
       "IPY_MODEL_e1779b0956dc44468806a247c366ff93",
       "IPY_MODEL_06ab70ab75574a3c9ac434da319b009a"
      ],
      "layout": "IPY_MODEL_34c067644f0349daabea05698650ad71"
     }
    },
    "ce5e920038fa498aa4bbf4f4eb6845e2": {
     "model_module": "@jupyter-widgets/controls",
     "model_module_version": "1.5.0",
     "model_name": "ProgressStyleModel",
     "state": {
      "_model_module": "@jupyter-widgets/controls",
      "_model_module_version": "1.5.0",
      "_model_name": "ProgressStyleModel",
      "_view_count": null,
      "_view_module": "@jupyter-widgets/base",
      "_view_module_version": "1.2.0",
      "_view_name": "StyleView",
      "bar_color": null,
      "description_width": ""
     }
    },
    "d0226b6e09de47358581de359808f642": {
     "model_module": "@jupyter-widgets/base",
     "model_module_version": "1.2.0",
     "model_name": "LayoutModel",
     "state": {
      "_model_module": "@jupyter-widgets/base",
      "_model_module_version": "1.2.0",
      "_model_name": "LayoutModel",
      "_view_count": null,
      "_view_module": "@jupyter-widgets/base",
      "_view_module_version": "1.2.0",
      "_view_name": "LayoutView",
      "align_content": null,
      "align_items": null,
      "align_self": null,
      "border": null,
      "bottom": null,
      "display": null,
      "flex": null,
      "flex_flow": null,
      "grid_area": null,
      "grid_auto_columns": null,
      "grid_auto_flow": null,
      "grid_auto_rows": null,
      "grid_column": null,
      "grid_gap": null,
      "grid_row": null,
      "grid_template_areas": null,
      "grid_template_columns": null,
      "grid_template_rows": null,
      "height": null,
      "justify_content": null,
      "justify_items": null,
      "left": null,
      "margin": null,
      "max_height": null,
      "max_width": null,
      "min_height": null,
      "min_width": null,
      "object_fit": null,
      "object_position": null,
      "order": null,
      "overflow": null,
      "overflow_x": null,
      "overflow_y": null,
      "padding": null,
      "right": null,
      "top": null,
      "visibility": null,
      "width": null
     }
    },
    "d1b51e1fe67142d8a1db0a351d540ca2": {
     "model_module": "@jupyter-widgets/base",
     "model_module_version": "1.2.0",
     "model_name": "LayoutModel",
     "state": {
      "_model_module": "@jupyter-widgets/base",
      "_model_module_version": "1.2.0",
      "_model_name": "LayoutModel",
      "_view_count": null,
      "_view_module": "@jupyter-widgets/base",
      "_view_module_version": "1.2.0",
      "_view_name": "LayoutView",
      "align_content": null,
      "align_items": null,
      "align_self": null,
      "border": null,
      "bottom": null,
      "display": null,
      "flex": null,
      "flex_flow": null,
      "grid_area": null,
      "grid_auto_columns": null,
      "grid_auto_flow": null,
      "grid_auto_rows": null,
      "grid_column": null,
      "grid_gap": null,
      "grid_row": null,
      "grid_template_areas": null,
      "grid_template_columns": null,
      "grid_template_rows": null,
      "height": null,
      "justify_content": null,
      "justify_items": null,
      "left": null,
      "margin": null,
      "max_height": null,
      "max_width": null,
      "min_height": null,
      "min_width": null,
      "object_fit": null,
      "object_position": null,
      "order": null,
      "overflow": null,
      "overflow_x": null,
      "overflow_y": null,
      "padding": null,
      "right": null,
      "top": null,
      "visibility": null,
      "width": null
     }
    },
    "d253305571f648d3b235e05023f6eb4d": {
     "model_module": "@jupyter-widgets/controls",
     "model_module_version": "1.5.0",
     "model_name": "ProgressStyleModel",
     "state": {
      "_model_module": "@jupyter-widgets/controls",
      "_model_module_version": "1.5.0",
      "_model_name": "ProgressStyleModel",
      "_view_count": null,
      "_view_module": "@jupyter-widgets/base",
      "_view_module_version": "1.2.0",
      "_view_name": "StyleView",
      "bar_color": null,
      "description_width": ""
     }
    },
    "d41d01c9b3294531be85cb59dbc6e6a8": {
     "model_module": "@jupyter-widgets/controls",
     "model_module_version": "1.5.0",
     "model_name": "HBoxModel",
     "state": {
      "_dom_classes": [],
      "_model_module": "@jupyter-widgets/controls",
      "_model_module_version": "1.5.0",
      "_model_name": "HBoxModel",
      "_view_count": null,
      "_view_module": "@jupyter-widgets/controls",
      "_view_module_version": "1.5.0",
      "_view_name": "HBoxView",
      "box_style": "",
      "children": [
       "IPY_MODEL_00336380e9da4832adc3b544c13dd6d3",
       "IPY_MODEL_ca52bf031384450886868379c1083ab6",
       "IPY_MODEL_f0975e4e5c844e5193c79558c5372668"
      ],
      "layout": "IPY_MODEL_3b68e1a956824ae998b89792cd9ebc1c"
     }
    },
    "d99ce2245a584e34a672a6e51c315648": {
     "model_module": "@jupyter-widgets/base",
     "model_module_version": "1.2.0",
     "model_name": "LayoutModel",
     "state": {
      "_model_module": "@jupyter-widgets/base",
      "_model_module_version": "1.2.0",
      "_model_name": "LayoutModel",
      "_view_count": null,
      "_view_module": "@jupyter-widgets/base",
      "_view_module_version": "1.2.0",
      "_view_name": "LayoutView",
      "align_content": null,
      "align_items": null,
      "align_self": null,
      "border": null,
      "bottom": null,
      "display": null,
      "flex": null,
      "flex_flow": null,
      "grid_area": null,
      "grid_auto_columns": null,
      "grid_auto_flow": null,
      "grid_auto_rows": null,
      "grid_column": null,
      "grid_gap": null,
      "grid_row": null,
      "grid_template_areas": null,
      "grid_template_columns": null,
      "grid_template_rows": null,
      "height": null,
      "justify_content": null,
      "justify_items": null,
      "left": null,
      "margin": null,
      "max_height": null,
      "max_width": null,
      "min_height": null,
      "min_width": null,
      "object_fit": null,
      "object_position": null,
      "order": null,
      "overflow": null,
      "overflow_x": null,
      "overflow_y": null,
      "padding": null,
      "right": null,
      "top": null,
      "visibility": null,
      "width": null
     }
    },
    "dac96af973474dedb256fb8f937c5ed4": {
     "model_module": "@jupyter-widgets/controls",
     "model_module_version": "1.5.0",
     "model_name": "HTMLModel",
     "state": {
      "_dom_classes": [],
      "_model_module": "@jupyter-widgets/controls",
      "_model_module_version": "1.5.0",
      "_model_name": "HTMLModel",
      "_view_count": null,
      "_view_module": "@jupyter-widgets/controls",
      "_view_module_version": "1.5.0",
      "_view_name": "HTMLView",
      "description": "",
      "description_tooltip": null,
      "layout": "IPY_MODEL_104117a9f1404275848eb546c3fe1e4e",
      "placeholder": "​",
      "style": "IPY_MODEL_afd7a11b31e14ea9a44513e7ecae6d26",
      "value": " 4591/4591 [07:58&lt;00:00,  9.66it/s]"
     }
    },
    "debb8e864e4d4d7da197f4a03ca2f896": {
     "model_module": "@jupyter-widgets/controls",
     "model_module_version": "1.5.0",
     "model_name": "HTMLModel",
     "state": {
      "_dom_classes": [],
      "_model_module": "@jupyter-widgets/controls",
      "_model_module_version": "1.5.0",
      "_model_name": "HTMLModel",
      "_view_count": null,
      "_view_module": "@jupyter-widgets/controls",
      "_view_module_version": "1.5.0",
      "_view_name": "HTMLView",
      "description": "",
      "description_tooltip": null,
      "layout": "IPY_MODEL_bff70d452ae04db4b818a33e3e9e1db0",
      "placeholder": "​",
      "style": "IPY_MODEL_0ac3918e60ab406ea2b35e5acec7cd1f",
      "value": " 4591/4591 [07:52&lt;00:00,  9.58it/s]"
     }
    },
    "e1779b0956dc44468806a247c366ff93": {
     "model_module": "@jupyter-widgets/controls",
     "model_module_version": "1.5.0",
     "model_name": "FloatProgressModel",
     "state": {
      "_dom_classes": [],
      "_model_module": "@jupyter-widgets/controls",
      "_model_module_version": "1.5.0",
      "_model_name": "FloatProgressModel",
      "_view_count": null,
      "_view_module": "@jupyter-widgets/controls",
      "_view_module_version": "1.5.0",
      "_view_name": "ProgressView",
      "bar_style": "success",
      "description": "",
      "description_tooltip": null,
      "layout": "IPY_MODEL_426fed1bb514433e9e65dfb1c715810d",
      "max": 20979968,
      "min": 0,
      "orientation": "horizontal",
      "style": "IPY_MODEL_c0a82cdb6cfb46d3acb0315969ee1dc4",
      "value": 20979968
     }
    },
    "e2d090ebebcc449b9981ee017509b8d6": {
     "model_module": "@jupyter-widgets/controls",
     "model_module_version": "1.5.0",
     "model_name": "HTMLModel",
     "state": {
      "_dom_classes": [],
      "_model_module": "@jupyter-widgets/controls",
      "_model_module_version": "1.5.0",
      "_model_name": "HTMLModel",
      "_view_count": null,
      "_view_module": "@jupyter-widgets/controls",
      "_view_module_version": "1.5.0",
      "_view_name": "HTMLView",
      "description": "",
      "description_tooltip": null,
      "layout": "IPY_MODEL_643f11f789d54ddf8959643cceec5d73",
      "placeholder": "​",
      "style": "IPY_MODEL_11cfa48e4fbd44b2bb1dccc02edc9bd5",
      "value": "Training epoch 2:: 100%"
     }
    },
    "e3ac9462ffb4408f835c889226030b65": {
     "model_module": "@jupyter-widgets/base",
     "model_module_version": "1.2.0",
     "model_name": "LayoutModel",
     "state": {
      "_model_module": "@jupyter-widgets/base",
      "_model_module_version": "1.2.0",
      "_model_name": "LayoutModel",
      "_view_count": null,
      "_view_module": "@jupyter-widgets/base",
      "_view_module_version": "1.2.0",
      "_view_name": "LayoutView",
      "align_content": null,
      "align_items": null,
      "align_self": null,
      "border": null,
      "bottom": null,
      "display": null,
      "flex": null,
      "flex_flow": null,
      "grid_area": null,
      "grid_auto_columns": null,
      "grid_auto_flow": null,
      "grid_auto_rows": null,
      "grid_column": null,
      "grid_gap": null,
      "grid_row": null,
      "grid_template_areas": null,
      "grid_template_columns": null,
      "grid_template_rows": null,
      "height": null,
      "justify_content": null,
      "justify_items": null,
      "left": null,
      "margin": null,
      "max_height": null,
      "max_width": null,
      "min_height": null,
      "min_width": null,
      "object_fit": null,
      "object_position": null,
      "order": null,
      "overflow": null,
      "overflow_x": null,
      "overflow_y": null,
      "padding": null,
      "right": null,
      "top": null,
      "visibility": null,
      "width": null
     }
    },
    "e44c37eb266d4d94930bde1f47495390": {
     "model_module": "@jupyter-widgets/controls",
     "model_module_version": "1.5.0",
     "model_name": "HBoxModel",
     "state": {
      "_dom_classes": [],
      "_model_module": "@jupyter-widgets/controls",
      "_model_module_version": "1.5.0",
      "_model_name": "HBoxModel",
      "_view_count": null,
      "_view_module": "@jupyter-widgets/controls",
      "_view_module_version": "1.5.0",
      "_view_name": "HBoxView",
      "box_style": "",
      "children": [
       "IPY_MODEL_2a8f548fdd674c57b66c3d2f5fd47c47",
       "IPY_MODEL_074420e193c44dc7af0d50bd94f80099",
       "IPY_MODEL_f38206754ebf4953817148bac9696ebe"
      ],
      "layout": "IPY_MODEL_4b38f19e60dd4da282fd24af5e14f798"
     }
    },
    "e80ca2d9d8344e8eb1cdfcb3a4d628bc": {
     "model_module": "@jupyter-widgets/base",
     "model_module_version": "1.2.0",
     "model_name": "LayoutModel",
     "state": {
      "_model_module": "@jupyter-widgets/base",
      "_model_module_version": "1.2.0",
      "_model_name": "LayoutModel",
      "_view_count": null,
      "_view_module": "@jupyter-widgets/base",
      "_view_module_version": "1.2.0",
      "_view_name": "LayoutView",
      "align_content": null,
      "align_items": null,
      "align_self": null,
      "border": null,
      "bottom": null,
      "display": null,
      "flex": null,
      "flex_flow": null,
      "grid_area": null,
      "grid_auto_columns": null,
      "grid_auto_flow": null,
      "grid_auto_rows": null,
      "grid_column": null,
      "grid_gap": null,
      "grid_row": null,
      "grid_template_areas": null,
      "grid_template_columns": null,
      "grid_template_rows": null,
      "height": null,
      "justify_content": null,
      "justify_items": null,
      "left": null,
      "margin": null,
      "max_height": null,
      "max_width": null,
      "min_height": null,
      "min_width": null,
      "object_fit": null,
      "object_position": null,
      "order": null,
      "overflow": null,
      "overflow_x": null,
      "overflow_y": null,
      "padding": null,
      "right": null,
      "top": null,
      "visibility": null,
      "width": null
     }
    },
    "e979a239b534402f91ff6b7f041eb7a0": {
     "model_module": "@jupyter-widgets/controls",
     "model_module_version": "1.5.0",
     "model_name": "DescriptionStyleModel",
     "state": {
      "_model_module": "@jupyter-widgets/controls",
      "_model_module_version": "1.5.0",
      "_model_name": "DescriptionStyleModel",
      "_view_count": null,
      "_view_module": "@jupyter-widgets/base",
      "_view_module_version": "1.2.0",
      "_view_name": "StyleView",
      "description_width": ""
     }
    },
    "e9df019f786f417da210f17860c5c54c": {
     "model_module": "@jupyter-widgets/controls",
     "model_module_version": "1.5.0",
     "model_name": "DescriptionStyleModel",
     "state": {
      "_model_module": "@jupyter-widgets/controls",
      "_model_module_version": "1.5.0",
      "_model_name": "DescriptionStyleModel",
      "_view_count": null,
      "_view_module": "@jupyter-widgets/base",
      "_view_module_version": "1.2.0",
      "_view_name": "StyleView",
      "description_width": ""
     }
    },
    "ebfce1bb0a81458a9709ac3b9fd0955b": {
     "model_module": "@jupyter-widgets/base",
     "model_module_version": "1.2.0",
     "model_name": "LayoutModel",
     "state": {
      "_model_module": "@jupyter-widgets/base",
      "_model_module_version": "1.2.0",
      "_model_name": "LayoutModel",
      "_view_count": null,
      "_view_module": "@jupyter-widgets/base",
      "_view_module_version": "1.2.0",
      "_view_name": "LayoutView",
      "align_content": null,
      "align_items": null,
      "align_self": null,
      "border": null,
      "bottom": null,
      "display": null,
      "flex": null,
      "flex_flow": null,
      "grid_area": null,
      "grid_auto_columns": null,
      "grid_auto_flow": null,
      "grid_auto_rows": null,
      "grid_column": null,
      "grid_gap": null,
      "grid_row": null,
      "grid_template_areas": null,
      "grid_template_columns": null,
      "grid_template_rows": null,
      "height": null,
      "justify_content": null,
      "justify_items": null,
      "left": null,
      "margin": null,
      "max_height": null,
      "max_width": null,
      "min_height": null,
      "min_width": null,
      "object_fit": null,
      "object_position": null,
      "order": null,
      "overflow": null,
      "overflow_x": null,
      "overflow_y": null,
      "padding": null,
      "right": null,
      "top": null,
      "visibility": null,
      "width": null
     }
    },
    "ec526024aa0d4461bb3bc846dab86295": {
     "model_module": "@jupyter-widgets/base",
     "model_module_version": "1.2.0",
     "model_name": "LayoutModel",
     "state": {
      "_model_module": "@jupyter-widgets/base",
      "_model_module_version": "1.2.0",
      "_model_name": "LayoutModel",
      "_view_count": null,
      "_view_module": "@jupyter-widgets/base",
      "_view_module_version": "1.2.0",
      "_view_name": "LayoutView",
      "align_content": null,
      "align_items": null,
      "align_self": null,
      "border": null,
      "bottom": null,
      "display": null,
      "flex": null,
      "flex_flow": null,
      "grid_area": null,
      "grid_auto_columns": null,
      "grid_auto_flow": null,
      "grid_auto_rows": null,
      "grid_column": null,
      "grid_gap": null,
      "grid_row": null,
      "grid_template_areas": null,
      "grid_template_columns": null,
      "grid_template_rows": null,
      "height": null,
      "justify_content": null,
      "justify_items": null,
      "left": null,
      "margin": null,
      "max_height": null,
      "max_width": null,
      "min_height": null,
      "min_width": null,
      "object_fit": null,
      "object_position": null,
      "order": null,
      "overflow": null,
      "overflow_x": null,
      "overflow_y": null,
      "padding": null,
      "right": null,
      "top": null,
      "visibility": null,
      "width": null
     }
    },
    "ecc366ab740e41e094a98bce24f89cd2": {
     "model_module": "@jupyter-widgets/controls",
     "model_module_version": "1.5.0",
     "model_name": "HTMLModel",
     "state": {
      "_dom_classes": [],
      "_model_module": "@jupyter-widgets/controls",
      "_model_module_version": "1.5.0",
      "_model_name": "HTMLModel",
      "_view_count": null,
      "_view_module": "@jupyter-widgets/controls",
      "_view_module_version": "1.5.0",
      "_view_name": "HTMLView",
      "description": "",
      "description_tooltip": null,
      "layout": "IPY_MODEL_87178867445a40808fe4344692dff213",
      "placeholder": "​",
      "style": "IPY_MODEL_17e283331fc74a32a78e049116faaf89",
      "value": " 745312/745312 [01:42&lt;00:00, 8381.03it/s]"
     }
    },
    "eddd0748d7df4b338a460fadc6a3f842": {
     "model_module": "@jupyter-widgets/base",
     "model_module_version": "1.2.0",
     "model_name": "LayoutModel",
     "state": {
      "_model_module": "@jupyter-widgets/base",
      "_model_module_version": "1.2.0",
      "_model_name": "LayoutModel",
      "_view_count": null,
      "_view_module": "@jupyter-widgets/base",
      "_view_module_version": "1.2.0",
      "_view_name": "LayoutView",
      "align_content": null,
      "align_items": null,
      "align_self": null,
      "border": null,
      "bottom": null,
      "display": null,
      "flex": null,
      "flex_flow": null,
      "grid_area": null,
      "grid_auto_columns": null,
      "grid_auto_flow": null,
      "grid_auto_rows": null,
      "grid_column": null,
      "grid_gap": null,
      "grid_row": null,
      "grid_template_areas": null,
      "grid_template_columns": null,
      "grid_template_rows": null,
      "height": null,
      "justify_content": null,
      "justify_items": null,
      "left": null,
      "margin": null,
      "max_height": null,
      "max_width": null,
      "min_height": null,
      "min_width": null,
      "object_fit": null,
      "object_position": null,
      "order": null,
      "overflow": null,
      "overflow_x": null,
      "overflow_y": null,
      "padding": null,
      "right": null,
      "top": null,
      "visibility": null,
      "width": null
     }
    },
    "ee1f92ce655a41a4a3262f0ed0f4d4b0": {
     "model_module": "@jupyter-widgets/base",
     "model_module_version": "1.2.0",
     "model_name": "LayoutModel",
     "state": {
      "_model_module": "@jupyter-widgets/base",
      "_model_module_version": "1.2.0",
      "_model_name": "LayoutModel",
      "_view_count": null,
      "_view_module": "@jupyter-widgets/base",
      "_view_module_version": "1.2.0",
      "_view_name": "LayoutView",
      "align_content": null,
      "align_items": null,
      "align_self": null,
      "border": null,
      "bottom": null,
      "display": null,
      "flex": null,
      "flex_flow": null,
      "grid_area": null,
      "grid_auto_columns": null,
      "grid_auto_flow": null,
      "grid_auto_rows": null,
      "grid_column": null,
      "grid_gap": null,
      "grid_row": null,
      "grid_template_areas": null,
      "grid_template_columns": null,
      "grid_template_rows": null,
      "height": null,
      "justify_content": null,
      "justify_items": null,
      "left": null,
      "margin": null,
      "max_height": null,
      "max_width": null,
      "min_height": null,
      "min_width": null,
      "object_fit": null,
      "object_position": null,
      "order": null,
      "overflow": null,
      "overflow_x": null,
      "overflow_y": null,
      "padding": null,
      "right": null,
      "top": null,
      "visibility": null,
      "width": null
     }
    },
    "f08435dcc47f492881dc7a999ed45d18": {
     "model_module": "@jupyter-widgets/controls",
     "model_module_version": "1.5.0",
     "model_name": "ProgressStyleModel",
     "state": {
      "_model_module": "@jupyter-widgets/controls",
      "_model_module_version": "1.5.0",
      "_model_name": "ProgressStyleModel",
      "_view_count": null,
      "_view_module": "@jupyter-widgets/base",
      "_view_module_version": "1.2.0",
      "_view_name": "StyleView",
      "bar_color": null,
      "description_width": ""
     }
    },
    "f0975e4e5c844e5193c79558c5372668": {
     "model_module": "@jupyter-widgets/controls",
     "model_module_version": "1.5.0",
     "model_name": "HTMLModel",
     "state": {
      "_dom_classes": [],
      "_model_module": "@jupyter-widgets/controls",
      "_model_module_version": "1.5.0",
      "_model_name": "HTMLModel",
      "_view_count": null,
      "_view_module": "@jupyter-widgets/controls",
      "_view_module_version": "1.5.0",
      "_view_name": "HTMLView",
      "description": "",
      "description_tooltip": null,
      "layout": "IPY_MODEL_fcf060b3b00f4391a2e66084c80e5668",
      "placeholder": "​",
      "style": "IPY_MODEL_b7f0a0060d414190a922b70b1d2e7589",
      "value": " 734448/734448 [00:04&lt;00:00, 163291.64it/s]"
     }
    },
    "f38206754ebf4953817148bac9696ebe": {
     "model_module": "@jupyter-widgets/controls",
     "model_module_version": "1.5.0",
     "model_name": "HTMLModel",
     "state": {
      "_dom_classes": [],
      "_model_module": "@jupyter-widgets/controls",
      "_model_module_version": "1.5.0",
      "_model_name": "HTMLModel",
      "_view_count": null,
      "_view_module": "@jupyter-widgets/controls",
      "_view_module_version": "1.5.0",
      "_view_name": "HTMLView",
      "description": "",
      "description_tooltip": null,
      "layout": "IPY_MODEL_e3ac9462ffb4408f835c889226030b65",
      "placeholder": "​",
      "style": "IPY_MODEL_e9df019f786f417da210f17860c5c54c",
      "value": " 20.5M/20.5M [00:00&lt;00:00, 79.5MB/s]"
     }
    },
    "f398bca524e74649a308d5d1850a9490": {
     "model_module": "@jupyter-widgets/controls",
     "model_module_version": "1.5.0",
     "model_name": "DescriptionStyleModel",
     "state": {
      "_model_module": "@jupyter-widgets/controls",
      "_model_module_version": "1.5.0",
      "_model_name": "DescriptionStyleModel",
      "_view_count": null,
      "_view_module": "@jupyter-widgets/base",
      "_view_module_version": "1.2.0",
      "_view_name": "StyleView",
      "description_width": ""
     }
    },
    "f4c93717f5704e949d094aae315d9b70": {
     "model_module": "@jupyter-widgets/controls",
     "model_module_version": "1.5.0",
     "model_name": "HBoxModel",
     "state": {
      "_dom_classes": [],
      "_model_module": "@jupyter-widgets/controls",
      "_model_module_version": "1.5.0",
      "_model_name": "HBoxModel",
      "_view_count": null,
      "_view_module": "@jupyter-widgets/controls",
      "_view_module_version": "1.5.0",
      "_view_name": "HBoxView",
      "box_style": "",
      "children": [
       "IPY_MODEL_243e53340e4a4e4a805ec4005002744e",
       "IPY_MODEL_41978ac53a9b4d09b0939555f5ce9aac",
       "IPY_MODEL_c875ac74e09744ab9aea737d7524b7b5"
      ],
      "layout": "IPY_MODEL_9cd2a91ef945460eb50c8ff620e9b91f"
     }
    },
    "f626c3fbdc6c427a949707d40055360c": {
     "model_module": "@jupyter-widgets/base",
     "model_module_version": "1.2.0",
     "model_name": "LayoutModel",
     "state": {
      "_model_module": "@jupyter-widgets/base",
      "_model_module_version": "1.2.0",
      "_model_name": "LayoutModel",
      "_view_count": null,
      "_view_module": "@jupyter-widgets/base",
      "_view_module_version": "1.2.0",
      "_view_name": "LayoutView",
      "align_content": null,
      "align_items": null,
      "align_self": null,
      "border": null,
      "bottom": null,
      "display": null,
      "flex": null,
      "flex_flow": null,
      "grid_area": null,
      "grid_auto_columns": null,
      "grid_auto_flow": null,
      "grid_auto_rows": null,
      "grid_column": null,
      "grid_gap": null,
      "grid_row": null,
      "grid_template_areas": null,
      "grid_template_columns": null,
      "grid_template_rows": null,
      "height": null,
      "justify_content": null,
      "justify_items": null,
      "left": null,
      "margin": null,
      "max_height": null,
      "max_width": null,
      "min_height": null,
      "min_width": null,
      "object_fit": null,
      "object_position": null,
      "order": null,
      "overflow": null,
      "overflow_x": null,
      "overflow_y": null,
      "padding": null,
      "right": null,
      "top": null,
      "visibility": null,
      "width": null
     }
    },
    "f68ca830dae348b0bf4443d061844fef": {
     "model_module": "@jupyter-widgets/controls",
     "model_module_version": "1.5.0",
     "model_name": "HTMLModel",
     "state": {
      "_dom_classes": [],
      "_model_module": "@jupyter-widgets/controls",
      "_model_module_version": "1.5.0",
      "_model_name": "HTMLModel",
      "_view_count": null,
      "_view_module": "@jupyter-widgets/controls",
      "_view_module_version": "1.5.0",
      "_view_name": "HTMLView",
      "description": "",
      "description_tooltip": null,
      "layout": "IPY_MODEL_d99ce2245a584e34a672a6e51c315648",
      "placeholder": "​",
      "style": "IPY_MODEL_9dfb8e0ce4cc4a9f9171c0095d4399a6",
      "value": "Training epoch 3:: 100%"
     }
    },
    "f888236fa5904f39adf9d4c0a19aa3b4": {
     "model_module": "@jupyter-widgets/base",
     "model_module_version": "1.2.0",
     "model_name": "LayoutModel",
     "state": {
      "_model_module": "@jupyter-widgets/base",
      "_model_module_version": "1.2.0",
      "_model_name": "LayoutModel",
      "_view_count": null,
      "_view_module": "@jupyter-widgets/base",
      "_view_module_version": "1.2.0",
      "_view_name": "LayoutView",
      "align_content": null,
      "align_items": null,
      "align_self": null,
      "border": null,
      "bottom": null,
      "display": null,
      "flex": null,
      "flex_flow": null,
      "grid_area": null,
      "grid_auto_columns": null,
      "grid_auto_flow": null,
      "grid_auto_rows": null,
      "grid_column": null,
      "grid_gap": null,
      "grid_row": null,
      "grid_template_areas": null,
      "grid_template_columns": null,
      "grid_template_rows": null,
      "height": null,
      "justify_content": null,
      "justify_items": null,
      "left": null,
      "margin": null,
      "max_height": null,
      "max_width": null,
      "min_height": null,
      "min_width": null,
      "object_fit": null,
      "object_position": null,
      "order": null,
      "overflow": null,
      "overflow_x": null,
      "overflow_y": null,
      "padding": null,
      "right": null,
      "top": null,
      "visibility": null,
      "width": null
     }
    },
    "fa939e352c8543a68047202293105a0e": {
     "model_module": "@jupyter-widgets/base",
     "model_module_version": "1.2.0",
     "model_name": "LayoutModel",
     "state": {
      "_model_module": "@jupyter-widgets/base",
      "_model_module_version": "1.2.0",
      "_model_name": "LayoutModel",
      "_view_count": null,
      "_view_module": "@jupyter-widgets/base",
      "_view_module_version": "1.2.0",
      "_view_name": "LayoutView",
      "align_content": null,
      "align_items": null,
      "align_self": null,
      "border": null,
      "bottom": null,
      "display": null,
      "flex": null,
      "flex_flow": null,
      "grid_area": null,
      "grid_auto_columns": null,
      "grid_auto_flow": null,
      "grid_auto_rows": null,
      "grid_column": null,
      "grid_gap": null,
      "grid_row": null,
      "grid_template_areas": null,
      "grid_template_columns": null,
      "grid_template_rows": null,
      "height": null,
      "justify_content": null,
      "justify_items": null,
      "left": null,
      "margin": null,
      "max_height": null,
      "max_width": null,
      "min_height": null,
      "min_width": null,
      "object_fit": null,
      "object_position": null,
      "order": null,
      "overflow": null,
      "overflow_x": null,
      "overflow_y": null,
      "padding": null,
      "right": null,
      "top": null,
      "visibility": null,
      "width": null
     }
    },
    "fcf060b3b00f4391a2e66084c80e5668": {
     "model_module": "@jupyter-widgets/base",
     "model_module_version": "1.2.0",
     "model_name": "LayoutModel",
     "state": {
      "_model_module": "@jupyter-widgets/base",
      "_model_module_version": "1.2.0",
      "_model_name": "LayoutModel",
      "_view_count": null,
      "_view_module": "@jupyter-widgets/base",
      "_view_module_version": "1.2.0",
      "_view_name": "LayoutView",
      "align_content": null,
      "align_items": null,
      "align_self": null,
      "border": null,
      "bottom": null,
      "display": null,
      "flex": null,
      "flex_flow": null,
      "grid_area": null,
      "grid_auto_columns": null,
      "grid_auto_flow": null,
      "grid_auto_rows": null,
      "grid_column": null,
      "grid_gap": null,
      "grid_row": null,
      "grid_template_areas": null,
      "grid_template_columns": null,
      "grid_template_rows": null,
      "height": null,
      "justify_content": null,
      "justify_items": null,
      "left": null,
      "margin": null,
      "max_height": null,
      "max_width": null,
      "min_height": null,
      "min_width": null,
      "object_fit": null,
      "object_position": null,
      "order": null,
      "overflow": null,
      "overflow_x": null,
      "overflow_y": null,
      "padding": null,
      "right": null,
      "top": null,
      "visibility": null,
      "width": null
     }
    }
   }
  }
 },
 "nbformat": 4,
 "nbformat_minor": 1
}
